{
 "cells": [
  {
   "cell_type": "code",
   "execution_count": 1,
   "id": "ae266a33",
   "metadata": {},
   "outputs": [],
   "source": [
    "import pandas as pd \n",
    "import numpy as np \n",
    "from sklearn.preprocessing import StandardScaler\n",
    "from sklearn.model_selection import train_test_split"
   ]
  },
  {
   "cell_type": "code",
   "execution_count": 2,
   "id": "d48b4a72",
   "metadata": {},
   "outputs": [],
   "source": [
    "df = pd.read_csv('Trimmed Data.csv')"
   ]
  },
  {
   "cell_type": "code",
   "execution_count": 3,
   "id": "047464b6",
   "metadata": {},
   "outputs": [
    {
     "data": {
      "text/plain": [
       "Unnamed: 0                          int64\n",
       "id                                  int64\n",
       "name                               object\n",
       "host_id                             int64\n",
       "host_name                          object\n",
       "neighbourhood_group                object\n",
       "neighbourhood                      object\n",
       "latitude                          float64\n",
       "longitude                         float64\n",
       "room_type                          object\n",
       "price                               int64\n",
       "minimum_nights                      int64\n",
       "number_of_reviews                   int64\n",
       "last_review                        object\n",
       "reviews_per_month                 float64\n",
       "calculated_host_listings_count      int64\n",
       "availability_365                    int64\n",
       "city                               object\n",
       "dtype: object"
      ]
     },
     "execution_count": 3,
     "metadata": {},
     "output_type": "execute_result"
    }
   ],
   "source": [
    "df.dtypes"
   ]
  },
  {
   "cell_type": "code",
   "execution_count": 4,
   "id": "463f13c8",
   "metadata": {},
   "outputs": [
    {
     "name": "stdout",
     "output_type": "stream",
     "text": [
      "Index(['Unnamed: 0', 'id', 'name', 'host_id', 'host_name',\n",
      "       'neighbourhood_group', 'neighbourhood', 'latitude', 'longitude',\n",
      "       'price', 'minimum_nights', 'number_of_reviews', 'last_review',\n",
      "       'reviews_per_month', 'calculated_host_listings_count',\n",
      "       'availability_365', 'DM_Hawaii', 'DM_Los Angeles', 'DM_New York City',\n",
      "       'DM_Rhode Island', 'DM_Seattle', 'DM_Entire home/apt', 'DM_Hotel room',\n",
      "       'DM_Private room', 'DM_Shared room'],\n",
      "      dtype='object')\n"
     ]
    }
   ],
   "source": [
    "dummy = pd.get_dummies(df, columns=['city', 'room_type'], prefix='DM')\n",
    "print(dummy.columns)"
   ]
  },
  {
   "cell_type": "code",
   "execution_count": 5,
   "id": "f5492659",
   "metadata": {},
   "outputs": [
    {
     "data": {
      "text/html": [
       "<div>\n",
       "<style scoped>\n",
       "    .dataframe tbody tr th:only-of-type {\n",
       "        vertical-align: middle;\n",
       "    }\n",
       "\n",
       "    .dataframe tbody tr th {\n",
       "        vertical-align: top;\n",
       "    }\n",
       "\n",
       "    .dataframe thead th {\n",
       "        text-align: right;\n",
       "    }\n",
       "</style>\n",
       "<table border=\"1\" class=\"dataframe\">\n",
       "  <thead>\n",
       "    <tr style=\"text-align: right;\">\n",
       "      <th></th>\n",
       "      <th>Unnamed: 0</th>\n",
       "      <th>id</th>\n",
       "      <th>name</th>\n",
       "      <th>host_id</th>\n",
       "      <th>host_name</th>\n",
       "      <th>neighbourhood_group</th>\n",
       "      <th>neighbourhood</th>\n",
       "      <th>latitude</th>\n",
       "      <th>longitude</th>\n",
       "      <th>price</th>\n",
       "      <th>...</th>\n",
       "      <th>availability_365</th>\n",
       "      <th>DM_Hawaii</th>\n",
       "      <th>DM_Los Angeles</th>\n",
       "      <th>DM_New York City</th>\n",
       "      <th>DM_Rhode Island</th>\n",
       "      <th>DM_Seattle</th>\n",
       "      <th>DM_Entire home/apt</th>\n",
       "      <th>DM_Hotel room</th>\n",
       "      <th>DM_Private room</th>\n",
       "      <th>DM_Shared room</th>\n",
       "    </tr>\n",
       "  </thead>\n",
       "  <tbody>\n",
       "    <tr>\n",
       "      <th>0</th>\n",
       "      <td>1</td>\n",
       "      <td>5269</td>\n",
       "      <td>Upcountry Hospitality in the 'Auwai Suite</td>\n",
       "      <td>7620</td>\n",
       "      <td>Lea &amp; Pat</td>\n",
       "      <td>Hawaii</td>\n",
       "      <td>South Kohala</td>\n",
       "      <td>20.02740</td>\n",
       "      <td>-155.70200</td>\n",
       "      <td>124</td>\n",
       "      <td>...</td>\n",
       "      <td>261</td>\n",
       "      <td>1</td>\n",
       "      <td>0</td>\n",
       "      <td>0</td>\n",
       "      <td>0</td>\n",
       "      <td>0</td>\n",
       "      <td>1</td>\n",
       "      <td>0</td>\n",
       "      <td>0</td>\n",
       "      <td>0</td>\n",
       "    </tr>\n",
       "    <tr>\n",
       "      <th>1</th>\n",
       "      <td>3</td>\n",
       "      <td>5389</td>\n",
       "      <td>Keauhou Villa</td>\n",
       "      <td>7878</td>\n",
       "      <td>Edward</td>\n",
       "      <td>Hawaii</td>\n",
       "      <td>North Kona</td>\n",
       "      <td>19.56413</td>\n",
       "      <td>-155.96347</td>\n",
       "      <td>239</td>\n",
       "      <td>...</td>\n",
       "      <td>287</td>\n",
       "      <td>1</td>\n",
       "      <td>0</td>\n",
       "      <td>0</td>\n",
       "      <td>0</td>\n",
       "      <td>0</td>\n",
       "      <td>1</td>\n",
       "      <td>0</td>\n",
       "      <td>0</td>\n",
       "      <td>0</td>\n",
       "    </tr>\n",
       "    <tr>\n",
       "      <th>2</th>\n",
       "      <td>6</td>\n",
       "      <td>7896</td>\n",
       "      <td>Beachfront Maui Sunset Condo</td>\n",
       "      <td>21844</td>\n",
       "      <td>Caroline</td>\n",
       "      <td>Maui</td>\n",
       "      <td>Kihei-Makena</td>\n",
       "      <td>20.75470</td>\n",
       "      <td>-156.45666</td>\n",
       "      <td>120</td>\n",
       "      <td>...</td>\n",
       "      <td>344</td>\n",
       "      <td>1</td>\n",
       "      <td>0</td>\n",
       "      <td>0</td>\n",
       "      <td>0</td>\n",
       "      <td>0</td>\n",
       "      <td>1</td>\n",
       "      <td>0</td>\n",
       "      <td>0</td>\n",
       "      <td>0</td>\n",
       "    </tr>\n",
       "    <tr>\n",
       "      <th>3</th>\n",
       "      <td>8</td>\n",
       "      <td>9877</td>\n",
       "      <td>Keolamauloa Homestead</td>\n",
       "      <td>33179</td>\n",
       "      <td>Kaye</td>\n",
       "      <td>Hawaii</td>\n",
       "      <td>Hamakua</td>\n",
       "      <td>20.02889</td>\n",
       "      <td>-155.40747</td>\n",
       "      <td>120</td>\n",
       "      <td>...</td>\n",
       "      <td>49</td>\n",
       "      <td>1</td>\n",
       "      <td>0</td>\n",
       "      <td>0</td>\n",
       "      <td>0</td>\n",
       "      <td>0</td>\n",
       "      <td>1</td>\n",
       "      <td>0</td>\n",
       "      <td>0</td>\n",
       "      <td>0</td>\n",
       "    </tr>\n",
       "    <tr>\n",
       "      <th>4</th>\n",
       "      <td>10</td>\n",
       "      <td>13523</td>\n",
       "      <td>All Inclusive that has it all, Sleeps 8, Hot Tub</td>\n",
       "      <td>52931</td>\n",
       "      <td>Mark</td>\n",
       "      <td>Honolulu</td>\n",
       "      <td>Koolaupoko</td>\n",
       "      <td>21.33930</td>\n",
       "      <td>-157.70216</td>\n",
       "      <td>221</td>\n",
       "      <td>...</td>\n",
       "      <td>345</td>\n",
       "      <td>1</td>\n",
       "      <td>0</td>\n",
       "      <td>0</td>\n",
       "      <td>0</td>\n",
       "      <td>0</td>\n",
       "      <td>1</td>\n",
       "      <td>0</td>\n",
       "      <td>0</td>\n",
       "      <td>0</td>\n",
       "    </tr>\n",
       "  </tbody>\n",
       "</table>\n",
       "<p>5 rows × 25 columns</p>\n",
       "</div>"
      ],
      "text/plain": [
       "   Unnamed: 0     id                                              name  \\\n",
       "0           1   5269         Upcountry Hospitality in the 'Auwai Suite   \n",
       "1           3   5389                                     Keauhou Villa   \n",
       "2           6   7896                      Beachfront Maui Sunset Condo   \n",
       "3           8   9877                             Keolamauloa Homestead   \n",
       "4          10  13523  All Inclusive that has it all, Sleeps 8, Hot Tub   \n",
       "\n",
       "   host_id  host_name neighbourhood_group neighbourhood  latitude  longitude  \\\n",
       "0     7620  Lea & Pat              Hawaii  South Kohala  20.02740 -155.70200   \n",
       "1     7878     Edward              Hawaii    North Kona  19.56413 -155.96347   \n",
       "2    21844   Caroline                Maui  Kihei-Makena  20.75470 -156.45666   \n",
       "3    33179       Kaye              Hawaii       Hamakua  20.02889 -155.40747   \n",
       "4    52931       Mark            Honolulu    Koolaupoko  21.33930 -157.70216   \n",
       "\n",
       "   price  ...  availability_365  DM_Hawaii DM_Los Angeles  DM_New York City  \\\n",
       "0    124  ...               261          1              0                 0   \n",
       "1    239  ...               287          1              0                 0   \n",
       "2    120  ...               344          1              0                 0   \n",
       "3    120  ...                49          1              0                 0   \n",
       "4    221  ...               345          1              0                 0   \n",
       "\n",
       "   DM_Rhode Island  DM_Seattle  DM_Entire home/apt  DM_Hotel room  \\\n",
       "0                0           0                   1              0   \n",
       "1                0           0                   1              0   \n",
       "2                0           0                   1              0   \n",
       "3                0           0                   1              0   \n",
       "4                0           0                   1              0   \n",
       "\n",
       "   DM_Private room  DM_Shared room  \n",
       "0                0               0  \n",
       "1                0               0  \n",
       "2                0               0  \n",
       "3                0               0  \n",
       "4                0               0  \n",
       "\n",
       "[5 rows x 25 columns]"
      ]
     },
     "execution_count": 5,
     "metadata": {},
     "output_type": "execute_result"
    }
   ],
   "source": [
    "dummy.head()"
   ]
  },
  {
   "cell_type": "code",
   "execution_count": 6,
   "id": "3b64eaa0",
   "metadata": {
    "scrolled": true
   },
   "outputs": [
    {
     "data": {
      "text/html": [
       "<div>\n",
       "<style scoped>\n",
       "    .dataframe tbody tr th:only-of-type {\n",
       "        vertical-align: middle;\n",
       "    }\n",
       "\n",
       "    .dataframe tbody tr th {\n",
       "        vertical-align: top;\n",
       "    }\n",
       "\n",
       "    .dataframe thead th {\n",
       "        text-align: right;\n",
       "    }\n",
       "</style>\n",
       "<table border=\"1\" class=\"dataframe\">\n",
       "  <thead>\n",
       "    <tr style=\"text-align: right;\">\n",
       "      <th></th>\n",
       "      <th>Unnamed: 0</th>\n",
       "      <th>id</th>\n",
       "      <th>name</th>\n",
       "      <th>host_id</th>\n",
       "      <th>host_name</th>\n",
       "      <th>neighbourhood_group</th>\n",
       "      <th>neighbourhood</th>\n",
       "      <th>latitude</th>\n",
       "      <th>longitude</th>\n",
       "      <th>price</th>\n",
       "      <th>...</th>\n",
       "      <th>availability_365</th>\n",
       "      <th>DM_Hawaii</th>\n",
       "      <th>DM_Los Angeles</th>\n",
       "      <th>DM_New York City</th>\n",
       "      <th>DM_Rhode Island</th>\n",
       "      <th>DM_Seattle</th>\n",
       "      <th>DM_Entire home/apt</th>\n",
       "      <th>DM_Hotel room</th>\n",
       "      <th>DM_Private room</th>\n",
       "      <th>DM_Shared room</th>\n",
       "    </tr>\n",
       "  </thead>\n",
       "  <tbody>\n",
       "    <tr>\n",
       "      <th>56285</th>\n",
       "      <td>75732</td>\n",
       "      <td>43547204</td>\n",
       "      <td>Chic Two Bedroom Soho Loft</td>\n",
       "      <td>25597316</td>\n",
       "      <td>Mike</td>\n",
       "      <td>Manhattan</td>\n",
       "      <td>SoHo</td>\n",
       "      <td>40.72056</td>\n",
       "      <td>-73.99956</td>\n",
       "      <td>225</td>\n",
       "      <td>...</td>\n",
       "      <td>351</td>\n",
       "      <td>0</td>\n",
       "      <td>0</td>\n",
       "      <td>1</td>\n",
       "      <td>0</td>\n",
       "      <td>0</td>\n",
       "      <td>1</td>\n",
       "      <td>0</td>\n",
       "      <td>0</td>\n",
       "      <td>0</td>\n",
       "    </tr>\n",
       "    <tr>\n",
       "      <th>31300</th>\n",
       "      <td>45740</td>\n",
       "      <td>4549555</td>\n",
       "      <td>Studio Space, 10 minutes to Central Park and r...</td>\n",
       "      <td>6571805</td>\n",
       "      <td>Agata</td>\n",
       "      <td>Manhattan</td>\n",
       "      <td>Upper West Side</td>\n",
       "      <td>40.79407</td>\n",
       "      <td>-73.97679</td>\n",
       "      <td>45</td>\n",
       "      <td>...</td>\n",
       "      <td>364</td>\n",
       "      <td>0</td>\n",
       "      <td>0</td>\n",
       "      <td>1</td>\n",
       "      <td>0</td>\n",
       "      <td>0</td>\n",
       "      <td>0</td>\n",
       "      <td>0</td>\n",
       "      <td>0</td>\n",
       "      <td>1</td>\n",
       "    </tr>\n",
       "    <tr>\n",
       "      <th>45755</th>\n",
       "      <td>63142</td>\n",
       "      <td>26744721</td>\n",
       "      <td>Gorgeous studio \"Hamptons style\" in West Village</td>\n",
       "      <td>8305252</td>\n",
       "      <td>Lauren</td>\n",
       "      <td>Manhattan</td>\n",
       "      <td>West Village</td>\n",
       "      <td>40.73611</td>\n",
       "      <td>-74.00922</td>\n",
       "      <td>150</td>\n",
       "      <td>...</td>\n",
       "      <td>0</td>\n",
       "      <td>0</td>\n",
       "      <td>0</td>\n",
       "      <td>1</td>\n",
       "      <td>0</td>\n",
       "      <td>0</td>\n",
       "      <td>1</td>\n",
       "      <td>0</td>\n",
       "      <td>0</td>\n",
       "      <td>0</td>\n",
       "    </tr>\n",
       "    <tr>\n",
       "      <th>12946</th>\n",
       "      <td>19963</td>\n",
       "      <td>6515714</td>\n",
       "      <td>Charming Studio w/lots of character</td>\n",
       "      <td>34070047</td>\n",
       "      <td>Levi</td>\n",
       "      <td>City of Los Angeles</td>\n",
       "      <td>Koreatown</td>\n",
       "      <td>34.07610</td>\n",
       "      <td>-118.29572</td>\n",
       "      <td>95</td>\n",
       "      <td>...</td>\n",
       "      <td>0</td>\n",
       "      <td>0</td>\n",
       "      <td>1</td>\n",
       "      <td>0</td>\n",
       "      <td>0</td>\n",
       "      <td>0</td>\n",
       "      <td>1</td>\n",
       "      <td>0</td>\n",
       "      <td>0</td>\n",
       "      <td>0</td>\n",
       "    </tr>\n",
       "    <tr>\n",
       "      <th>62080</th>\n",
       "      <td>84110</td>\n",
       "      <td>34841635</td>\n",
       "      <td>The Blue room in Seattle</td>\n",
       "      <td>55604923</td>\n",
       "      <td>Melinda</td>\n",
       "      <td>Lake City</td>\n",
       "      <td>Matthews Beach</td>\n",
       "      <td>47.71243</td>\n",
       "      <td>-122.28373</td>\n",
       "      <td>57</td>\n",
       "      <td>...</td>\n",
       "      <td>89</td>\n",
       "      <td>0</td>\n",
       "      <td>0</td>\n",
       "      <td>0</td>\n",
       "      <td>0</td>\n",
       "      <td>1</td>\n",
       "      <td>0</td>\n",
       "      <td>0</td>\n",
       "      <td>1</td>\n",
       "      <td>0</td>\n",
       "    </tr>\n",
       "  </tbody>\n",
       "</table>\n",
       "<p>5 rows × 25 columns</p>\n",
       "</div>"
      ],
      "text/plain": [
       "       Unnamed: 0        id  \\\n",
       "56285       75732  43547204   \n",
       "31300       45740   4549555   \n",
       "45755       63142  26744721   \n",
       "12946       19963   6515714   \n",
       "62080       84110  34841635   \n",
       "\n",
       "                                                    name   host_id host_name  \\\n",
       "56285                         Chic Two Bedroom Soho Loft  25597316      Mike   \n",
       "31300  Studio Space, 10 minutes to Central Park and r...   6571805     Agata   \n",
       "45755   Gorgeous studio \"Hamptons style\" in West Village   8305252    Lauren   \n",
       "12946                Charming Studio w/lots of character  34070047      Levi   \n",
       "62080                           The Blue room in Seattle  55604923   Melinda   \n",
       "\n",
       "       neighbourhood_group    neighbourhood  latitude  longitude  price  ...  \\\n",
       "56285            Manhattan             SoHo  40.72056  -73.99956    225  ...   \n",
       "31300            Manhattan  Upper West Side  40.79407  -73.97679     45  ...   \n",
       "45755            Manhattan     West Village  40.73611  -74.00922    150  ...   \n",
       "12946  City of Los Angeles        Koreatown  34.07610 -118.29572     95  ...   \n",
       "62080            Lake City   Matthews Beach  47.71243 -122.28373     57  ...   \n",
       "\n",
       "       availability_365  DM_Hawaii DM_Los Angeles  DM_New York City  \\\n",
       "56285               351          0              0                 1   \n",
       "31300               364          0              0                 1   \n",
       "45755                 0          0              0                 1   \n",
       "12946                 0          0              1                 0   \n",
       "62080                89          0              0                 0   \n",
       "\n",
       "       DM_Rhode Island  DM_Seattle  DM_Entire home/apt  DM_Hotel room  \\\n",
       "56285                0           0                   1              0   \n",
       "31300                0           0                   0              0   \n",
       "45755                0           0                   1              0   \n",
       "12946                0           0                   1              0   \n",
       "62080                0           1                   0              0   \n",
       "\n",
       "       DM_Private room  DM_Shared room  \n",
       "56285                0               0  \n",
       "31300                0               1  \n",
       "45755                0               0  \n",
       "12946                0               0  \n",
       "62080                1               0  \n",
       "\n",
       "[5 rows x 25 columns]"
      ]
     },
     "execution_count": 6,
     "metadata": {},
     "output_type": "execute_result"
    }
   ],
   "source": [
    "dummy.sample(5)"
   ]
  },
  {
   "cell_type": "code",
   "execution_count": 7,
   "id": "2ed07df1",
   "metadata": {},
   "outputs": [
    {
     "data": {
      "text/plain": [
       "(62808, 25)"
      ]
     },
     "execution_count": 7,
     "metadata": {},
     "output_type": "execute_result"
    }
   ],
   "source": [
    "dummy.shape"
   ]
  },
  {
   "cell_type": "code",
   "execution_count": 8,
   "id": "457fcac0",
   "metadata": {},
   "outputs": [],
   "source": [
    "scaler = StandardScaler()"
   ]
  },
  {
   "cell_type": "code",
   "execution_count": 9,
   "id": "190d6bed",
   "metadata": {},
   "outputs": [],
   "source": [
    "numeric_df = df.select_dtypes(include=['int64', 'float64'])"
   ]
  },
  {
   "cell_type": "code",
   "execution_count": 10,
   "id": "71bfa6b9",
   "metadata": {},
   "outputs": [
    {
     "data": {
      "text/plain": [
       "Index(['Unnamed: 0', 'id', 'host_id', 'latitude', 'longitude', 'price',\n",
       "       'minimum_nights', 'number_of_reviews', 'reviews_per_month',\n",
       "       'calculated_host_listings_count', 'availability_365'],\n",
       "      dtype='object')"
      ]
     },
     "execution_count": 10,
     "metadata": {},
     "output_type": "execute_result"
    }
   ],
   "source": [
    "numeric_df.columns"
   ]
  },
  {
   "cell_type": "code",
   "execution_count": 11,
   "id": "9d60fbd6",
   "metadata": {},
   "outputs": [],
   "source": [
    "numeric_df = numeric_df.drop(columns=['Unnamed: 0', 'id', 'host_id', 'latitude', 'longitude'], axis=1)"
   ]
  },
  {
   "cell_type": "code",
   "execution_count": 12,
   "id": "be0243e9",
   "metadata": {},
   "outputs": [
    {
     "data": {
      "text/plain": [
       "Index(['price', 'minimum_nights', 'number_of_reviews', 'reviews_per_month',\n",
       "       'calculated_host_listings_count', 'availability_365'],\n",
       "      dtype='object')"
      ]
     },
     "execution_count": 12,
     "metadata": {},
     "output_type": "execute_result"
    }
   ],
   "source": [
    "numeric_df.columns"
   ]
  },
  {
   "cell_type": "code",
   "execution_count": 15,
   "id": "3c1393e1",
   "metadata": {},
   "outputs": [
    {
     "data": {
      "text/html": [
       "<div>\n",
       "<style scoped>\n",
       "    .dataframe tbody tr th:only-of-type {\n",
       "        vertical-align: middle;\n",
       "    }\n",
       "\n",
       "    .dataframe tbody tr th {\n",
       "        vertical-align: top;\n",
       "    }\n",
       "\n",
       "    .dataframe thead th {\n",
       "        text-align: right;\n",
       "    }\n",
       "</style>\n",
       "<table border=\"1\" class=\"dataframe\">\n",
       "  <thead>\n",
       "    <tr style=\"text-align: right;\">\n",
       "      <th></th>\n",
       "      <th>DM_Hawaii</th>\n",
       "      <th>DM_Los Angeles</th>\n",
       "      <th>DM_New York City</th>\n",
       "      <th>DM_Rhode Island</th>\n",
       "      <th>DM_Seattle</th>\n",
       "      <th>DM_Entire home/apt</th>\n",
       "      <th>DM_Hotel room</th>\n",
       "      <th>DM_Private room</th>\n",
       "      <th>DM_Shared room</th>\n",
       "    </tr>\n",
       "  </thead>\n",
       "  <tbody>\n",
       "    <tr>\n",
       "      <th>0</th>\n",
       "      <td>1</td>\n",
       "      <td>0</td>\n",
       "      <td>0</td>\n",
       "      <td>0</td>\n",
       "      <td>0</td>\n",
       "      <td>1</td>\n",
       "      <td>0</td>\n",
       "      <td>0</td>\n",
       "      <td>0</td>\n",
       "    </tr>\n",
       "    <tr>\n",
       "      <th>1</th>\n",
       "      <td>1</td>\n",
       "      <td>0</td>\n",
       "      <td>0</td>\n",
       "      <td>0</td>\n",
       "      <td>0</td>\n",
       "      <td>1</td>\n",
       "      <td>0</td>\n",
       "      <td>0</td>\n",
       "      <td>0</td>\n",
       "    </tr>\n",
       "    <tr>\n",
       "      <th>2</th>\n",
       "      <td>1</td>\n",
       "      <td>0</td>\n",
       "      <td>0</td>\n",
       "      <td>0</td>\n",
       "      <td>0</td>\n",
       "      <td>1</td>\n",
       "      <td>0</td>\n",
       "      <td>0</td>\n",
       "      <td>0</td>\n",
       "    </tr>\n",
       "    <tr>\n",
       "      <th>3</th>\n",
       "      <td>1</td>\n",
       "      <td>0</td>\n",
       "      <td>0</td>\n",
       "      <td>0</td>\n",
       "      <td>0</td>\n",
       "      <td>1</td>\n",
       "      <td>0</td>\n",
       "      <td>0</td>\n",
       "      <td>0</td>\n",
       "    </tr>\n",
       "    <tr>\n",
       "      <th>4</th>\n",
       "      <td>1</td>\n",
       "      <td>0</td>\n",
       "      <td>0</td>\n",
       "      <td>0</td>\n",
       "      <td>0</td>\n",
       "      <td>1</td>\n",
       "      <td>0</td>\n",
       "      <td>0</td>\n",
       "      <td>0</td>\n",
       "    </tr>\n",
       "  </tbody>\n",
       "</table>\n",
       "</div>"
      ],
      "text/plain": [
       "   DM_Hawaii  DM_Los Angeles  DM_New York City  DM_Rhode Island  DM_Seattle  \\\n",
       "0          1               0                 0                0           0   \n",
       "1          1               0                 0                0           0   \n",
       "2          1               0                 0                0           0   \n",
       "3          1               0                 0                0           0   \n",
       "4          1               0                 0                0           0   \n",
       "\n",
       "   DM_Entire home/apt  DM_Hotel room  DM_Private room  DM_Shared room  \n",
       "0                   1              0                0               0  \n",
       "1                   1              0                0               0  \n",
       "2                   1              0                0               0  \n",
       "3                   1              0                0               0  \n",
       "4                   1              0                0               0  "
      ]
     },
     "execution_count": 15,
     "metadata": {},
     "output_type": "execute_result"
    }
   ],
   "source": [
    "d = dummy.iloc[:, 16:]\n",
    "d.head()"
   ]
  },
  {
   "cell_type": "code",
   "execution_count": 16,
   "id": "52bb28bf",
   "metadata": {},
   "outputs": [],
   "source": [
    "y = numeric_df.iloc[:,0]\n",
    "scaled_df = scaler.fit_transform(numeric_df.iloc[:,1:])"
   ]
  },
  {
   "cell_type": "code",
   "execution_count": 17,
   "id": "5962f1fe",
   "metadata": {},
   "outputs": [
    {
     "data": {
      "text/html": [
       "<div>\n",
       "<style scoped>\n",
       "    .dataframe tbody tr th:only-of-type {\n",
       "        vertical-align: middle;\n",
       "    }\n",
       "\n",
       "    .dataframe tbody tr th {\n",
       "        vertical-align: top;\n",
       "    }\n",
       "\n",
       "    .dataframe thead th {\n",
       "        text-align: right;\n",
       "    }\n",
       "</style>\n",
       "<table border=\"1\" class=\"dataframe\">\n",
       "  <thead>\n",
       "    <tr style=\"text-align: right;\">\n",
       "      <th></th>\n",
       "      <th>minimum_nights</th>\n",
       "      <th>number_of_reviews</th>\n",
       "      <th>reviews_per_month</th>\n",
       "      <th>calculated_host_listings_count</th>\n",
       "      <th>availability_365</th>\n",
       "    </tr>\n",
       "  </thead>\n",
       "  <tbody>\n",
       "    <tr>\n",
       "      <th>0</th>\n",
       "      <td>1.80504</td>\n",
       "      <td>-0.405302</td>\n",
       "      <td>-0.877451</td>\n",
       "      <td>-0.009224</td>\n",
       "      <td>0.944019</td>\n",
       "    </tr>\n",
       "    <tr>\n",
       "      <th>1</th>\n",
       "      <td>-0.260837</td>\n",
       "      <td>0.021252</td>\n",
       "      <td>-0.660446</td>\n",
       "      <td>-0.204222</td>\n",
       "      <td>1.135798</td>\n",
       "    </tr>\n",
       "    <tr>\n",
       "      <th>2</th>\n",
       "      <td>-0.432994</td>\n",
       "      <td>0.362494</td>\n",
       "      <td>-0.674913</td>\n",
       "      <td>-0.39922</td>\n",
       "      <td>1.556235</td>\n",
       "    </tr>\n",
       "    <tr>\n",
       "      <th>3</th>\n",
       "      <td>-0.519072</td>\n",
       "      <td>0.362494</td>\n",
       "      <td>-0.284304</td>\n",
       "      <td>-0.39922</td>\n",
       "      <td>-0.619712</td>\n",
       "    </tr>\n",
       "    <tr>\n",
       "      <th>4</th>\n",
       "      <td>-0.174759</td>\n",
       "      <td>0.191873</td>\n",
       "      <td>-0.371106</td>\n",
       "      <td>0.57577</td>\n",
       "      <td>1.563611</td>\n",
       "    </tr>\n",
       "  </tbody>\n",
       "</table>\n",
       "</div>"
      ],
      "text/plain": [
       "  minimum_nights number_of_reviews reviews_per_month  \\\n",
       "0        1.80504         -0.405302         -0.877451   \n",
       "1      -0.260837          0.021252         -0.660446   \n",
       "2      -0.432994          0.362494         -0.674913   \n",
       "3      -0.519072          0.362494         -0.284304   \n",
       "4      -0.174759          0.191873         -0.371106   \n",
       "\n",
       "  calculated_host_listings_count availability_365  \n",
       "0                      -0.009224         0.944019  \n",
       "1                      -0.204222         1.135798  \n",
       "2                       -0.39922         1.556235  \n",
       "3                       -0.39922        -0.619712  \n",
       "4                        0.57577         1.563611  "
      ]
     },
     "execution_count": 17,
     "metadata": {},
     "output_type": "execute_result"
    }
   ],
   "source": [
    "s = pd.DataFrame(scaled_df, dtype='object', columns=['minimum_nights', 'number_of_reviews', 'reviews_per_month',\n",
    "       'calculated_host_listings_count', 'availability_365'])\n",
    "u = pd.DataFrame(d, columns = ['DM_Hawaii', 'DM_Los Angeles', 'DM_New York City',\n",
    "       'DM_Rhode Island', 'DM_Seattle', 'DM_Entire home/apt', 'DM_Hotel room', 'DM_Private room',\n",
    "       'DM_Shared room'])\n",
    "s.head()"
   ]
  },
  {
   "cell_type": "code",
   "execution_count": 18,
   "id": "4092d6c0",
   "metadata": {},
   "outputs": [
    {
     "data": {
      "text/html": [
       "<div>\n",
       "<style scoped>\n",
       "    .dataframe tbody tr th:only-of-type {\n",
       "        vertical-align: middle;\n",
       "    }\n",
       "\n",
       "    .dataframe tbody tr th {\n",
       "        vertical-align: top;\n",
       "    }\n",
       "\n",
       "    .dataframe thead th {\n",
       "        text-align: right;\n",
       "    }\n",
       "</style>\n",
       "<table border=\"1\" class=\"dataframe\">\n",
       "  <thead>\n",
       "    <tr style=\"text-align: right;\">\n",
       "      <th></th>\n",
       "      <th>DM_Hawaii</th>\n",
       "      <th>DM_Los Angeles</th>\n",
       "      <th>DM_New York City</th>\n",
       "      <th>DM_Rhode Island</th>\n",
       "      <th>DM_Seattle</th>\n",
       "      <th>DM_Entire home/apt</th>\n",
       "      <th>DM_Hotel room</th>\n",
       "      <th>DM_Private room</th>\n",
       "      <th>DM_Shared room</th>\n",
       "    </tr>\n",
       "  </thead>\n",
       "  <tbody>\n",
       "    <tr>\n",
       "      <th>0</th>\n",
       "      <td>1</td>\n",
       "      <td>0</td>\n",
       "      <td>0</td>\n",
       "      <td>0</td>\n",
       "      <td>0</td>\n",
       "      <td>1</td>\n",
       "      <td>0</td>\n",
       "      <td>0</td>\n",
       "      <td>0</td>\n",
       "    </tr>\n",
       "    <tr>\n",
       "      <th>1</th>\n",
       "      <td>1</td>\n",
       "      <td>0</td>\n",
       "      <td>0</td>\n",
       "      <td>0</td>\n",
       "      <td>0</td>\n",
       "      <td>1</td>\n",
       "      <td>0</td>\n",
       "      <td>0</td>\n",
       "      <td>0</td>\n",
       "    </tr>\n",
       "    <tr>\n",
       "      <th>2</th>\n",
       "      <td>1</td>\n",
       "      <td>0</td>\n",
       "      <td>0</td>\n",
       "      <td>0</td>\n",
       "      <td>0</td>\n",
       "      <td>1</td>\n",
       "      <td>0</td>\n",
       "      <td>0</td>\n",
       "      <td>0</td>\n",
       "    </tr>\n",
       "    <tr>\n",
       "      <th>3</th>\n",
       "      <td>1</td>\n",
       "      <td>0</td>\n",
       "      <td>0</td>\n",
       "      <td>0</td>\n",
       "      <td>0</td>\n",
       "      <td>1</td>\n",
       "      <td>0</td>\n",
       "      <td>0</td>\n",
       "      <td>0</td>\n",
       "    </tr>\n",
       "    <tr>\n",
       "      <th>4</th>\n",
       "      <td>1</td>\n",
       "      <td>0</td>\n",
       "      <td>0</td>\n",
       "      <td>0</td>\n",
       "      <td>0</td>\n",
       "      <td>1</td>\n",
       "      <td>0</td>\n",
       "      <td>0</td>\n",
       "      <td>0</td>\n",
       "    </tr>\n",
       "  </tbody>\n",
       "</table>\n",
       "</div>"
      ],
      "text/plain": [
       "   DM_Hawaii  DM_Los Angeles  DM_New York City  DM_Rhode Island  DM_Seattle  \\\n",
       "0          1               0                 0                0           0   \n",
       "1          1               0                 0                0           0   \n",
       "2          1               0                 0                0           0   \n",
       "3          1               0                 0                0           0   \n",
       "4          1               0                 0                0           0   \n",
       "\n",
       "   DM_Entire home/apt  DM_Hotel room  DM_Private room  DM_Shared room  \n",
       "0                   1              0                0               0  \n",
       "1                   1              0                0               0  \n",
       "2                   1              0                0               0  \n",
       "3                   1              0                0               0  \n",
       "4                   1              0                0               0  "
      ]
     },
     "execution_count": 18,
     "metadata": {},
     "output_type": "execute_result"
    }
   ],
   "source": [
    "u.head()"
   ]
  },
  {
   "cell_type": "code",
   "execution_count": 19,
   "id": "70344b9b",
   "metadata": {},
   "outputs": [
    {
     "data": {
      "text/plain": [
       "(62808, 9)"
      ]
     },
     "execution_count": 19,
     "metadata": {},
     "output_type": "execute_result"
    }
   ],
   "source": [
    "u.shape"
   ]
  },
  {
   "cell_type": "code",
   "execution_count": 20,
   "id": "244137b8",
   "metadata": {},
   "outputs": [
    {
     "data": {
      "text/plain": [
       "(62808, 5)"
      ]
     },
     "execution_count": 20,
     "metadata": {},
     "output_type": "execute_result"
    }
   ],
   "source": [
    "s.shape"
   ]
  },
  {
   "cell_type": "code",
   "execution_count": 21,
   "id": "b13cfea0",
   "metadata": {},
   "outputs": [],
   "source": [
    "X = pd.merge(s, u, right_index = True, left_index = True)"
   ]
  },
  {
   "cell_type": "code",
   "execution_count": 22,
   "id": "2871817f",
   "metadata": {},
   "outputs": [
    {
     "data": {
      "text/html": [
       "<div>\n",
       "<style scoped>\n",
       "    .dataframe tbody tr th:only-of-type {\n",
       "        vertical-align: middle;\n",
       "    }\n",
       "\n",
       "    .dataframe tbody tr th {\n",
       "        vertical-align: top;\n",
       "    }\n",
       "\n",
       "    .dataframe thead th {\n",
       "        text-align: right;\n",
       "    }\n",
       "</style>\n",
       "<table border=\"1\" class=\"dataframe\">\n",
       "  <thead>\n",
       "    <tr style=\"text-align: right;\">\n",
       "      <th></th>\n",
       "      <th>minimum_nights</th>\n",
       "      <th>number_of_reviews</th>\n",
       "      <th>reviews_per_month</th>\n",
       "      <th>calculated_host_listings_count</th>\n",
       "      <th>availability_365</th>\n",
       "      <th>DM_Hawaii</th>\n",
       "      <th>DM_Los Angeles</th>\n",
       "      <th>DM_New York City</th>\n",
       "      <th>DM_Rhode Island</th>\n",
       "      <th>DM_Seattle</th>\n",
       "      <th>DM_Entire home/apt</th>\n",
       "      <th>DM_Hotel room</th>\n",
       "      <th>DM_Private room</th>\n",
       "      <th>DM_Shared room</th>\n",
       "    </tr>\n",
       "  </thead>\n",
       "  <tbody>\n",
       "    <tr>\n",
       "      <th>0</th>\n",
       "      <td>1.80504</td>\n",
       "      <td>-0.405302</td>\n",
       "      <td>-0.877451</td>\n",
       "      <td>-0.009224</td>\n",
       "      <td>0.944019</td>\n",
       "      <td>1</td>\n",
       "      <td>0</td>\n",
       "      <td>0</td>\n",
       "      <td>0</td>\n",
       "      <td>0</td>\n",
       "      <td>1</td>\n",
       "      <td>0</td>\n",
       "      <td>0</td>\n",
       "      <td>0</td>\n",
       "    </tr>\n",
       "    <tr>\n",
       "      <th>1</th>\n",
       "      <td>-0.260837</td>\n",
       "      <td>0.021252</td>\n",
       "      <td>-0.660446</td>\n",
       "      <td>-0.204222</td>\n",
       "      <td>1.135798</td>\n",
       "      <td>1</td>\n",
       "      <td>0</td>\n",
       "      <td>0</td>\n",
       "      <td>0</td>\n",
       "      <td>0</td>\n",
       "      <td>1</td>\n",
       "      <td>0</td>\n",
       "      <td>0</td>\n",
       "      <td>0</td>\n",
       "    </tr>\n",
       "    <tr>\n",
       "      <th>2</th>\n",
       "      <td>-0.432994</td>\n",
       "      <td>0.362494</td>\n",
       "      <td>-0.674913</td>\n",
       "      <td>-0.39922</td>\n",
       "      <td>1.556235</td>\n",
       "      <td>1</td>\n",
       "      <td>0</td>\n",
       "      <td>0</td>\n",
       "      <td>0</td>\n",
       "      <td>0</td>\n",
       "      <td>1</td>\n",
       "      <td>0</td>\n",
       "      <td>0</td>\n",
       "      <td>0</td>\n",
       "    </tr>\n",
       "    <tr>\n",
       "      <th>3</th>\n",
       "      <td>-0.519072</td>\n",
       "      <td>0.362494</td>\n",
       "      <td>-0.284304</td>\n",
       "      <td>-0.39922</td>\n",
       "      <td>-0.619712</td>\n",
       "      <td>1</td>\n",
       "      <td>0</td>\n",
       "      <td>0</td>\n",
       "      <td>0</td>\n",
       "      <td>0</td>\n",
       "      <td>1</td>\n",
       "      <td>0</td>\n",
       "      <td>0</td>\n",
       "      <td>0</td>\n",
       "    </tr>\n",
       "    <tr>\n",
       "      <th>4</th>\n",
       "      <td>-0.174759</td>\n",
       "      <td>0.191873</td>\n",
       "      <td>-0.371106</td>\n",
       "      <td>0.57577</td>\n",
       "      <td>1.563611</td>\n",
       "      <td>1</td>\n",
       "      <td>0</td>\n",
       "      <td>0</td>\n",
       "      <td>0</td>\n",
       "      <td>0</td>\n",
       "      <td>1</td>\n",
       "      <td>0</td>\n",
       "      <td>0</td>\n",
       "      <td>0</td>\n",
       "    </tr>\n",
       "  </tbody>\n",
       "</table>\n",
       "</div>"
      ],
      "text/plain": [
       "  minimum_nights number_of_reviews reviews_per_month  \\\n",
       "0        1.80504         -0.405302         -0.877451   \n",
       "1      -0.260837          0.021252         -0.660446   \n",
       "2      -0.432994          0.362494         -0.674913   \n",
       "3      -0.519072          0.362494         -0.284304   \n",
       "4      -0.174759          0.191873         -0.371106   \n",
       "\n",
       "  calculated_host_listings_count availability_365  DM_Hawaii  DM_Los Angeles  \\\n",
       "0                      -0.009224         0.944019          1               0   \n",
       "1                      -0.204222         1.135798          1               0   \n",
       "2                       -0.39922         1.556235          1               0   \n",
       "3                       -0.39922        -0.619712          1               0   \n",
       "4                        0.57577         1.563611          1               0   \n",
       "\n",
       "   DM_New York City  DM_Rhode Island  DM_Seattle  DM_Entire home/apt  \\\n",
       "0                 0                0           0                   1   \n",
       "1                 0                0           0                   1   \n",
       "2                 0                0           0                   1   \n",
       "3                 0                0           0                   1   \n",
       "4                 0                0           0                   1   \n",
       "\n",
       "   DM_Hotel room  DM_Private room  DM_Shared room  \n",
       "0              0                0               0  \n",
       "1              0                0               0  \n",
       "2              0                0               0  \n",
       "3              0                0               0  \n",
       "4              0                0               0  "
      ]
     },
     "execution_count": 22,
     "metadata": {},
     "output_type": "execute_result"
    }
   ],
   "source": [
    "X.head()"
   ]
  },
  {
   "cell_type": "code",
   "execution_count": 23,
   "id": "9eba701a",
   "metadata": {},
   "outputs": [
    {
     "data": {
      "text/plain": [
       "(62808, 14)"
      ]
     },
     "execution_count": 23,
     "metadata": {},
     "output_type": "execute_result"
    }
   ],
   "source": [
    "X.shape"
   ]
  },
  {
   "cell_type": "code",
   "execution_count": 24,
   "id": "32f727b2",
   "metadata": {},
   "outputs": [
    {
     "data": {
      "text/plain": [
       "minimum_nights                    0\n",
       "number_of_reviews                 0\n",
       "reviews_per_month                 0\n",
       "calculated_host_listings_count    0\n",
       "availability_365                  0\n",
       "DM_Hawaii                         0\n",
       "DM_Los Angeles                    0\n",
       "DM_New York City                  0\n",
       "DM_Rhode Island                   0\n",
       "DM_Seattle                        0\n",
       "DM_Entire home/apt                0\n",
       "DM_Hotel room                     0\n",
       "DM_Private room                   0\n",
       "DM_Shared room                    0\n",
       "dtype: int64"
      ]
     },
     "execution_count": 24,
     "metadata": {},
     "output_type": "execute_result"
    }
   ],
   "source": [
    "X.isnull().sum()"
   ]
  },
  {
   "cell_type": "code",
   "execution_count": 25,
   "id": "045fa812",
   "metadata": {},
   "outputs": [
    {
     "data": {
      "text/plain": [
       "Index(['minimum_nights', 'number_of_reviews', 'reviews_per_month',\n",
       "       'calculated_host_listings_count', 'availability_365', 'DM_Hawaii',\n",
       "       'DM_Los Angeles', 'DM_New York City', 'DM_Rhode Island', 'DM_Seattle',\n",
       "       'DM_Entire home/apt', 'DM_Hotel room', 'DM_Private room',\n",
       "       'DM_Shared room'],\n",
       "      dtype='object')"
      ]
     },
     "execution_count": 25,
     "metadata": {},
     "output_type": "execute_result"
    }
   ],
   "source": [
    "X.columns"
   ]
  },
  {
   "cell_type": "code",
   "execution_count": 26,
   "id": "5c9d7189",
   "metadata": {},
   "outputs": [
    {
     "data": {
      "text/plain": [
       "0    45776\n",
       "1    17032\n",
       "Name: DM_Los Angeles, dtype: int64"
      ]
     },
     "execution_count": 26,
     "metadata": {},
     "output_type": "execute_result"
    }
   ],
   "source": [
    "X['DM_Los Angeles'].value_counts()"
   ]
  },
  {
   "cell_type": "code",
   "execution_count": 27,
   "id": "0aae48ca",
   "metadata": {},
   "outputs": [],
   "source": [
    "X_train, X_test, y_train, y_test= train_test_split(X, y, test_size=0.3, random_state=47)"
   ]
  },
  {
   "cell_type": "code",
   "execution_count": 28,
   "id": "e9c3c117",
   "metadata": {},
   "outputs": [
    {
     "data": {
      "text/plain": [
       "((43965, 14), (18843, 14))"
      ]
     },
     "execution_count": 28,
     "metadata": {},
     "output_type": "execute_result"
    }
   ],
   "source": [
    "X_train.shape, X_test.shape"
   ]
  },
  {
   "cell_type": "code",
   "execution_count": 29,
   "id": "0dd94861",
   "metadata": {},
   "outputs": [
    {
     "data": {
      "text/plain": [
       "((43965,), (18843,))"
      ]
     },
     "execution_count": 29,
     "metadata": {},
     "output_type": "execute_result"
    }
   ],
   "source": [
    "y_train.shape, y_test.shape"
   ]
  },
  {
   "cell_type": "code",
   "execution_count": 30,
   "id": "8a19049d",
   "metadata": {},
   "outputs": [
    {
     "data": {
      "text/plain": [
       "minimum_nights                    object\n",
       "number_of_reviews                 object\n",
       "reviews_per_month                 object\n",
       "calculated_host_listings_count    object\n",
       "availability_365                  object\n",
       "DM_Hawaii                          uint8\n",
       "DM_Los Angeles                     uint8\n",
       "DM_New York City                   uint8\n",
       "DM_Rhode Island                    uint8\n",
       "DM_Seattle                         uint8\n",
       "DM_Entire home/apt                 uint8\n",
       "DM_Hotel room                      uint8\n",
       "DM_Private room                    uint8\n",
       "DM_Shared room                     uint8\n",
       "dtype: object"
      ]
     },
     "execution_count": 30,
     "metadata": {},
     "output_type": "execute_result"
    }
   ],
   "source": [
    "X_train.dtypes"
   ]
  },
  {
   "cell_type": "code",
   "execution_count": 31,
   "id": "610031d9",
   "metadata": {},
   "outputs": [
    {
     "data": {
      "text/plain": [
       "minimum_nights                    object\n",
       "number_of_reviews                 object\n",
       "reviews_per_month                 object\n",
       "calculated_host_listings_count    object\n",
       "availability_365                  object\n",
       "DM_Hawaii                          uint8\n",
       "DM_Los Angeles                     uint8\n",
       "DM_New York City                   uint8\n",
       "DM_Rhode Island                    uint8\n",
       "DM_Seattle                         uint8\n",
       "DM_Entire home/apt                 uint8\n",
       "DM_Hotel room                      uint8\n",
       "DM_Private room                    uint8\n",
       "DM_Shared room                     uint8\n",
       "dtype: object"
      ]
     },
     "execution_count": 31,
     "metadata": {},
     "output_type": "execute_result"
    }
   ],
   "source": [
    "X_test.dtypes"
   ]
  },
  {
   "cell_type": "code",
   "execution_count": 32,
   "id": "a962ec72",
   "metadata": {},
   "outputs": [
    {
     "data": {
      "text/plain": [
       "2158     150\n",
       "54126    215\n",
       "54600    120\n",
       "12314    150\n",
       "4325     235\n",
       "        ... \n",
       "23112     40\n",
       "11528    120\n",
       "47431    150\n",
       "51078    100\n",
       "38023     85\n",
       "Name: price, Length: 43965, dtype: int64"
      ]
     },
     "execution_count": 32,
     "metadata": {},
     "output_type": "execute_result"
    }
   ],
   "source": [
    "y_train"
   ]
  },
  {
   "cell_type": "code",
   "execution_count": 33,
   "id": "e84774ff",
   "metadata": {},
   "outputs": [],
   "source": [
    "numeric_df.to_csv('Numeric Data.csv')"
   ]
  },
  {
   "cell_type": "code",
   "execution_count": 34,
   "id": "24d140b3",
   "metadata": {},
   "outputs": [],
   "source": [
    "X.to_csv('X Data.csv')"
   ]
  },
  {
   "cell_type": "code",
   "execution_count": null,
   "id": "2b12da2b",
   "metadata": {},
   "outputs": [],
   "source": []
  }
 ],
 "metadata": {
  "kernelspec": {
   "display_name": "Python 3",
   "language": "python",
   "name": "python3"
  },
  "language_info": {
   "codemirror_mode": {
    "name": "ipython",
    "version": 3
   },
   "file_extension": ".py",
   "mimetype": "text/x-python",
   "name": "python",
   "nbconvert_exporter": "python",
   "pygments_lexer": "ipython3",
   "version": "3.8.8"
  }
 },
 "nbformat": 4,
 "nbformat_minor": 5
}
