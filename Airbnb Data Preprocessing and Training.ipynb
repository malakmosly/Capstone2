{
 "cells": [
  {
   "cell_type": "code",
   "execution_count": 2,
   "id": "ae266a33",
   "metadata": {},
   "outputs": [],
   "source": [
    "import pandas as pd \n",
    "import numpy as np \n",
    "from sklearn.preprocessing import StandardScaler\n",
    "from sklearn.model_selection import train_test_split"
   ]
  },
  {
   "cell_type": "code",
   "execution_count": 3,
   "id": "d48b4a72",
   "metadata": {},
   "outputs": [],
   "source": [
    "df = pd.read_csv('AirbnbData_Cleaned.csv')"
   ]
  },
  {
   "cell_type": "code",
   "execution_count": 4,
   "id": "047464b6",
   "metadata": {},
   "outputs": [
    {
     "data": {
      "text/plain": [
       "Unnamed: 0                          int64\n",
       "id                                  int64\n",
       "name                               object\n",
       "host_id                             int64\n",
       "host_name                          object\n",
       "neighbourhood_group                object\n",
       "neighbourhood                      object\n",
       "latitude                          float64\n",
       "longitude                         float64\n",
       "room_type                          object\n",
       "price                               int64\n",
       "minimum_nights                      int64\n",
       "number_of_reviews                   int64\n",
       "last_review                        object\n",
       "reviews_per_month                 float64\n",
       "calculated_host_listings_count      int64\n",
       "availability_365                    int64\n",
       "city                               object\n",
       "dtype: object"
      ]
     },
     "execution_count": 4,
     "metadata": {},
     "output_type": "execute_result"
    }
   ],
   "source": [
    "df.dtypes"
   ]
  },
  {
   "cell_type": "code",
   "execution_count": 5,
   "id": "463f13c8",
   "metadata": {},
   "outputs": [
    {
     "name": "stdout",
     "output_type": "stream",
     "text": [
      "Index(['Unnamed: 0', 'id', 'name', 'host_id', 'host_name',\n",
      "       'neighbourhood_group', 'neighbourhood', 'latitude', 'longitude',\n",
      "       'price', 'minimum_nights', 'number_of_reviews', 'last_review',\n",
      "       'reviews_per_month', 'calculated_host_listings_count',\n",
      "       'availability_365', 'DM_Los Angeles', 'DM_New York City',\n",
      "       'DM_Rhode Island', 'DM_Seattle', 'DM_Hotel room', 'DM_Private room',\n",
      "       'DM_Shared room'],\n",
      "      dtype='object')\n"
     ]
    }
   ],
   "source": [
    "dummy = pd.get_dummies(df, columns=['city', 'room_type'], drop_first=True, prefix='DM')\n",
    "print(dummy.columns)"
   ]
  },
  {
   "cell_type": "code",
   "execution_count": 6,
   "id": "457fcac0",
   "metadata": {},
   "outputs": [],
   "source": [
    "scaler = StandardScaler()"
   ]
  },
  {
   "cell_type": "code",
   "execution_count": 7,
   "id": "190d6bed",
   "metadata": {},
   "outputs": [],
   "source": [
    "numeric_df = df.select_dtypes(include=['int64', 'float64'])"
   ]
  },
  {
   "cell_type": "code",
   "execution_count": 8,
   "id": "71bfa6b9",
   "metadata": {},
   "outputs": [
    {
     "data": {
      "text/plain": [
       "Index(['Unnamed: 0', 'id', 'host_id', 'latitude', 'longitude', 'price',\n",
       "       'minimum_nights', 'number_of_reviews', 'reviews_per_month',\n",
       "       'calculated_host_listings_count', 'availability_365'],\n",
       "      dtype='object')"
      ]
     },
     "execution_count": 8,
     "metadata": {},
     "output_type": "execute_result"
    }
   ],
   "source": [
    "numeric_df.columns"
   ]
  },
  {
   "cell_type": "code",
   "execution_count": 9,
   "id": "52bb28bf",
   "metadata": {},
   "outputs": [],
   "source": [
    "scaled_df = scaler.fit_transform(numeric_df)"
   ]
  },
  {
   "cell_type": "code",
   "execution_count": 10,
   "id": "dc8cf71e",
   "metadata": {},
   "outputs": [],
   "source": [
    "scaled_df = pd.DataFrame(scaled_df, columns=['Unnamed: 0', 'id', 'host_id', 'latitude', 'longitude', 'price', 'minimum_nights', 'number_of_reviews', 'reviews_per_month', 'calculated_host_listings_count', 'availability_365'])"
   ]
  },
  {
   "cell_type": "code",
   "execution_count": 11,
   "id": "90a4dd30",
   "metadata": {},
   "outputs": [
    {
     "data": {
      "text/html": [
       "<div>\n",
       "<style scoped>\n",
       "    .dataframe tbody tr th:only-of-type {\n",
       "        vertical-align: middle;\n",
       "    }\n",
       "\n",
       "    .dataframe tbody tr th {\n",
       "        vertical-align: top;\n",
       "    }\n",
       "\n",
       "    .dataframe thead th {\n",
       "        text-align: right;\n",
       "    }\n",
       "</style>\n",
       "<table border=\"1\" class=\"dataframe\">\n",
       "  <thead>\n",
       "    <tr style=\"text-align: right;\">\n",
       "      <th></th>\n",
       "      <th>Unnamed: 0</th>\n",
       "      <th>id</th>\n",
       "      <th>host_id</th>\n",
       "      <th>latitude</th>\n",
       "      <th>longitude</th>\n",
       "      <th>price</th>\n",
       "      <th>minimum_nights</th>\n",
       "      <th>number_of_reviews</th>\n",
       "      <th>reviews_per_month</th>\n",
       "      <th>calculated_host_listings_count</th>\n",
       "      <th>availability_365</th>\n",
       "    </tr>\n",
       "  </thead>\n",
       "  <tbody>\n",
       "    <tr>\n",
       "      <th>0</th>\n",
       "      <td>-1.507086</td>\n",
       "      <td>-1.762305</td>\n",
       "      <td>-0.909332</td>\n",
       "      <td>-1.896695</td>\n",
       "      <td>-1.521590</td>\n",
       "      <td>-0.298959</td>\n",
       "      <td>-0.343030</td>\n",
       "      <td>0.070068</td>\n",
       "      <td>-0.478757</td>\n",
       "      <td>-0.281507</td>\n",
       "      <td>1.464175</td>\n",
       "    </tr>\n",
       "    <tr>\n",
       "      <th>1</th>\n",
       "      <td>-1.507063</td>\n",
       "      <td>-1.762289</td>\n",
       "      <td>-0.909328</td>\n",
       "      <td>-1.898370</td>\n",
       "      <td>-1.529925</td>\n",
       "      <td>-0.167746</td>\n",
       "      <td>0.847045</td>\n",
       "      <td>-0.449823</td>\n",
       "      <td>-0.722354</td>\n",
       "      <td>-0.198516</td>\n",
       "      <td>0.728599</td>\n",
       "    </tr>\n",
       "    <tr>\n",
       "      <th>2</th>\n",
       "      <td>-1.507040</td>\n",
       "      <td>-1.762280</td>\n",
       "      <td>-0.909326</td>\n",
       "      <td>-1.972065</td>\n",
       "      <td>-1.535455</td>\n",
       "      <td>-0.298959</td>\n",
       "      <td>-0.215522</td>\n",
       "      <td>2.117138</td>\n",
       "      <td>0.096401</td>\n",
       "      <td>-0.253843</td>\n",
       "      <td>0.594215</td>\n",
       "    </tr>\n",
       "    <tr>\n",
       "      <th>3</th>\n",
       "      <td>-1.507017</td>\n",
       "      <td>-1.762280</td>\n",
       "      <td>-0.909326</td>\n",
       "      <td>-1.955633</td>\n",
       "      <td>-1.538012</td>\n",
       "      <td>0.219167</td>\n",
       "      <td>-0.173019</td>\n",
       "      <td>-0.287357</td>\n",
       "      <td>-0.620855</td>\n",
       "      <td>-0.253843</td>\n",
       "      <td>0.912493</td>\n",
       "    </tr>\n",
       "    <tr>\n",
       "      <th>4</th>\n",
       "      <td>-1.506994</td>\n",
       "      <td>-1.762280</td>\n",
       "      <td>-0.909325</td>\n",
       "      <td>-1.669000</td>\n",
       "      <td>-1.646581</td>\n",
       "      <td>-0.275408</td>\n",
       "      <td>-0.300527</td>\n",
       "      <td>1.710973</td>\n",
       "      <td>-0.086297</td>\n",
       "      <td>-0.309170</td>\n",
       "      <td>-0.296964</td>\n",
       "    </tr>\n",
       "  </tbody>\n",
       "</table>\n",
       "</div>"
      ],
      "text/plain": [
       "   Unnamed: 0        id   host_id  latitude  longitude     price  \\\n",
       "0   -1.507086 -1.762305 -0.909332 -1.896695  -1.521590 -0.298959   \n",
       "1   -1.507063 -1.762289 -0.909328 -1.898370  -1.529925 -0.167746   \n",
       "2   -1.507040 -1.762280 -0.909326 -1.972065  -1.535455 -0.298959   \n",
       "3   -1.507017 -1.762280 -0.909326 -1.955633  -1.538012  0.219167   \n",
       "4   -1.506994 -1.762280 -0.909325 -1.669000  -1.646581 -0.275408   \n",
       "\n",
       "   minimum_nights  number_of_reviews  reviews_per_month  \\\n",
       "0       -0.343030           0.070068          -0.478757   \n",
       "1        0.847045          -0.449823          -0.722354   \n",
       "2       -0.215522           2.117138           0.096401   \n",
       "3       -0.173019          -0.287357          -0.620855   \n",
       "4       -0.300527           1.710973          -0.086297   \n",
       "\n",
       "   calculated_host_listings_count  availability_365  \n",
       "0                       -0.281507          1.464175  \n",
       "1                       -0.198516          0.728599  \n",
       "2                       -0.253843          0.594215  \n",
       "3                       -0.253843          0.912493  \n",
       "4                       -0.309170         -0.296964  "
      ]
     },
     "execution_count": 11,
     "metadata": {},
     "output_type": "execute_result"
    }
   ],
   "source": [
    "scaled_df.head()"
   ]
  },
  {
   "cell_type": "code",
   "execution_count": 12,
   "id": "0aae48ca",
   "metadata": {},
   "outputs": [],
   "source": [
    "X_train, X_test, y_train, y_test= train_test_split(scaled_df.drop(columns='price'), scaled_df.price, test_size=0.3, random_state=47)"
   ]
  },
  {
   "cell_type": "code",
   "execution_count": 13,
   "id": "e9c3c117",
   "metadata": {},
   "outputs": [
    {
     "data": {
      "text/plain": [
       "((59600, 10), (25544, 10))"
      ]
     },
     "execution_count": 13,
     "metadata": {},
     "output_type": "execute_result"
    }
   ],
   "source": [
    "X_train.shape, X_test.shape"
   ]
  },
  {
   "cell_type": "code",
   "execution_count": 14,
   "id": "0dd94861",
   "metadata": {},
   "outputs": [
    {
     "data": {
      "text/plain": [
       "((59600,), (25544,))"
      ]
     },
     "execution_count": 14,
     "metadata": {},
     "output_type": "execute_result"
    }
   ],
   "source": [
    "y_train.shape, y_test.shape"
   ]
  },
  {
   "cell_type": "code",
   "execution_count": 15,
   "id": "8a19049d",
   "metadata": {},
   "outputs": [
    {
     "data": {
      "text/plain": [
       "Unnamed: 0                        float64\n",
       "id                                float64\n",
       "host_id                           float64\n",
       "latitude                          float64\n",
       "longitude                         float64\n",
       "minimum_nights                    float64\n",
       "number_of_reviews                 float64\n",
       "reviews_per_month                 float64\n",
       "calculated_host_listings_count    float64\n",
       "availability_365                  float64\n",
       "dtype: object"
      ]
     },
     "execution_count": 15,
     "metadata": {},
     "output_type": "execute_result"
    }
   ],
   "source": [
    "X_train.dtypes"
   ]
  },
  {
   "cell_type": "code",
   "execution_count": 16,
   "id": "610031d9",
   "metadata": {},
   "outputs": [
    {
     "data": {
      "text/plain": [
       "Unnamed: 0                        float64\n",
       "id                                float64\n",
       "host_id                           float64\n",
       "latitude                          float64\n",
       "longitude                         float64\n",
       "minimum_nights                    float64\n",
       "number_of_reviews                 float64\n",
       "reviews_per_month                 float64\n",
       "calculated_host_listings_count    float64\n",
       "availability_365                  float64\n",
       "dtype: object"
      ]
     },
     "execution_count": 16,
     "metadata": {},
     "output_type": "execute_result"
    }
   ],
   "source": [
    "X_test.dtypes"
   ]
  },
  {
   "cell_type": "code",
   "execution_count": 17,
   "id": "a962ec72",
   "metadata": {},
   "outputs": [
    {
     "data": {
      "text/plain": [
       "62356   -0.349426\n",
       "33342   -0.477276\n",
       "76208   -0.430173\n",
       "71673   -0.406622\n",
       "6267     0.239353\n",
       "           ...   \n",
       "80592   -0.359520\n",
       "25267   -0.450360\n",
       "23112   -0.372977\n",
       "11528   -0.113914\n",
       "51078    0.084588\n",
       "Name: price, Length: 59600, dtype: float64"
      ]
     },
     "execution_count": 17,
     "metadata": {},
     "output_type": "execute_result"
    }
   ],
   "source": [
    "y_train"
   ]
  },
  {
   "cell_type": "code",
   "execution_count": 18,
   "id": "eabf2f19",
   "metadata": {},
   "outputs": [],
   "source": [
    "scaled_df.to_csv('Scaled Cleaned Airbnb Data.csv')"
   ]
  },
  {
   "cell_type": "code",
   "execution_count": null,
   "id": "e84774ff",
   "metadata": {},
   "outputs": [],
   "source": []
  }
 ],
 "metadata": {
  "kernelspec": {
   "display_name": "Python 3",
   "language": "python",
   "name": "python3"
  },
  "language_info": {
   "codemirror_mode": {
    "name": "ipython",
    "version": 3
   },
   "file_extension": ".py",
   "mimetype": "text/x-python",
   "name": "python",
   "nbconvert_exporter": "python",
   "pygments_lexer": "ipython3",
   "version": "3.8.8"
  }
 },
 "nbformat": 4,
 "nbformat_minor": 5
}
