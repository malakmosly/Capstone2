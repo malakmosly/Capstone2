{
 "cells": [
  {
   "cell_type": "code",
   "execution_count": 1,
   "id": "7584583a",
   "metadata": {},
   "outputs": [],
   "source": [
    "import numpy as np\n",
    "import pandas as pd\n",
    "import seaborn as sns\n",
    "import matplotlib.pyplot as plt"
   ]
  },
  {
   "cell_type": "code",
   "execution_count": 2,
   "id": "8d65356f",
   "metadata": {},
   "outputs": [],
   "source": [
    "df = pd.read_csv('AirbnbData_cleaned.csv')"
   ]
  },
  {
   "cell_type": "code",
   "execution_count": 3,
   "id": "8b902a24",
   "metadata": {},
   "outputs": [
    {
     "data": {
      "text/html": [
       "<div>\n",
       "<style scoped>\n",
       "    .dataframe tbody tr th:only-of-type {\n",
       "        vertical-align: middle;\n",
       "    }\n",
       "\n",
       "    .dataframe tbody tr th {\n",
       "        vertical-align: top;\n",
       "    }\n",
       "\n",
       "    .dataframe thead th {\n",
       "        text-align: right;\n",
       "    }\n",
       "</style>\n",
       "<table border=\"1\" class=\"dataframe\">\n",
       "  <thead>\n",
       "    <tr style=\"text-align: right;\">\n",
       "      <th></th>\n",
       "      <th>Unnamed: 0</th>\n",
       "      <th>id</th>\n",
       "      <th>name</th>\n",
       "      <th>host_id</th>\n",
       "      <th>host_name</th>\n",
       "      <th>neighbourhood_group</th>\n",
       "      <th>neighbourhood</th>\n",
       "      <th>latitude</th>\n",
       "      <th>longitude</th>\n",
       "      <th>room_type</th>\n",
       "      <th>price</th>\n",
       "      <th>minimum_nights</th>\n",
       "      <th>number_of_reviews</th>\n",
       "      <th>last_review</th>\n",
       "      <th>reviews_per_month</th>\n",
       "      <th>calculated_host_listings_count</th>\n",
       "      <th>availability_365</th>\n",
       "      <th>city</th>\n",
       "    </tr>\n",
       "  </thead>\n",
       "  <tbody>\n",
       "    <tr>\n",
       "      <th>0</th>\n",
       "      <td>48150</td>\n",
       "      <td>5065</td>\n",
       "      <td>MAUKA BB</td>\n",
       "      <td>7257</td>\n",
       "      <td>Wayne</td>\n",
       "      <td>Hawaii</td>\n",
       "      <td>Hamakua</td>\n",
       "      <td>20.04095</td>\n",
       "      <td>-155.43251</td>\n",
       "      <td>Entire home/apt</td>\n",
       "      <td>85</td>\n",
       "      <td>2</td>\n",
       "      <td>42</td>\n",
       "      <td>2020-03-22</td>\n",
       "      <td>0.45</td>\n",
       "      <td>2</td>\n",
       "      <td>365</td>\n",
       "      <td>Hawaii</td>\n",
       "    </tr>\n",
       "    <tr>\n",
       "      <th>1</th>\n",
       "      <td>48151</td>\n",
       "      <td>5269</td>\n",
       "      <td>Upcountry Hospitality in the 'Auwai Suite</td>\n",
       "      <td>7620</td>\n",
       "      <td>Lea &amp; Pat</td>\n",
       "      <td>Hawaii</td>\n",
       "      <td>South Kohala</td>\n",
       "      <td>20.02740</td>\n",
       "      <td>-155.70200</td>\n",
       "      <td>Entire home/apt</td>\n",
       "      <td>124</td>\n",
       "      <td>30</td>\n",
       "      <td>10</td>\n",
       "      <td>2020-01-03</td>\n",
       "      <td>0.09</td>\n",
       "      <td>5</td>\n",
       "      <td>261</td>\n",
       "      <td>Hawaii</td>\n",
       "    </tr>\n",
       "    <tr>\n",
       "      <th>2</th>\n",
       "      <td>48152</td>\n",
       "      <td>5387</td>\n",
       "      <td>Hale Koa Studio &amp; 1 Bedroom Units!!</td>\n",
       "      <td>7878</td>\n",
       "      <td>Edward</td>\n",
       "      <td>Hawaii</td>\n",
       "      <td>South Kona</td>\n",
       "      <td>19.43119</td>\n",
       "      <td>-155.88079</td>\n",
       "      <td>Entire home/apt</td>\n",
       "      <td>85</td>\n",
       "      <td>5</td>\n",
       "      <td>168</td>\n",
       "      <td>2020-03-18</td>\n",
       "      <td>1.30</td>\n",
       "      <td>3</td>\n",
       "      <td>242</td>\n",
       "      <td>Hawaii</td>\n",
       "    </tr>\n",
       "    <tr>\n",
       "      <th>3</th>\n",
       "      <td>48153</td>\n",
       "      <td>5389</td>\n",
       "      <td>Keauhou Villa</td>\n",
       "      <td>7878</td>\n",
       "      <td>Edward</td>\n",
       "      <td>Hawaii</td>\n",
       "      <td>North Kona</td>\n",
       "      <td>19.56413</td>\n",
       "      <td>-155.96347</td>\n",
       "      <td>Entire home/apt</td>\n",
       "      <td>239</td>\n",
       "      <td>6</td>\n",
       "      <td>20</td>\n",
       "      <td>2020-03-22</td>\n",
       "      <td>0.24</td>\n",
       "      <td>3</td>\n",
       "      <td>287</td>\n",
       "      <td>Hawaii</td>\n",
       "    </tr>\n",
       "    <tr>\n",
       "      <th>4</th>\n",
       "      <td>48154</td>\n",
       "      <td>5390</td>\n",
       "      <td>STAY AT PRINCE KUHIO!</td>\n",
       "      <td>7887</td>\n",
       "      <td>Todd</td>\n",
       "      <td>Kauai</td>\n",
       "      <td>Koloa-Poipu</td>\n",
       "      <td>21.88305</td>\n",
       "      <td>-159.47372</td>\n",
       "      <td>Entire home/apt</td>\n",
       "      <td>92</td>\n",
       "      <td>3</td>\n",
       "      <td>143</td>\n",
       "      <td>2020-10-08</td>\n",
       "      <td>1.03</td>\n",
       "      <td>1</td>\n",
       "      <td>116</td>\n",
       "      <td>Hawaii</td>\n",
       "    </tr>\n",
       "  </tbody>\n",
       "</table>\n",
       "</div>"
      ],
      "text/plain": [
       "   Unnamed: 0    id                                       name  host_id  \\\n",
       "0       48150  5065                                   MAUKA BB     7257   \n",
       "1       48151  5269  Upcountry Hospitality in the 'Auwai Suite     7620   \n",
       "2       48152  5387        Hale Koa Studio & 1 Bedroom Units!!     7878   \n",
       "3       48153  5389                              Keauhou Villa     7878   \n",
       "4       48154  5390                      STAY AT PRINCE KUHIO!     7887   \n",
       "\n",
       "   host_name neighbourhood_group neighbourhood  latitude  longitude  \\\n",
       "0      Wayne              Hawaii       Hamakua  20.04095 -155.43251   \n",
       "1  Lea & Pat              Hawaii  South Kohala  20.02740 -155.70200   \n",
       "2     Edward              Hawaii    South Kona  19.43119 -155.88079   \n",
       "3     Edward              Hawaii    North Kona  19.56413 -155.96347   \n",
       "4       Todd               Kauai   Koloa-Poipu  21.88305 -159.47372   \n",
       "\n",
       "         room_type  price  minimum_nights  number_of_reviews last_review  \\\n",
       "0  Entire home/apt     85               2                 42  2020-03-22   \n",
       "1  Entire home/apt    124              30                 10  2020-01-03   \n",
       "2  Entire home/apt     85               5                168  2020-03-18   \n",
       "3  Entire home/apt    239               6                 20  2020-03-22   \n",
       "4  Entire home/apt     92               3                143  2020-10-08   \n",
       "\n",
       "   reviews_per_month  calculated_host_listings_count  availability_365    city  \n",
       "0               0.45                               2               365  Hawaii  \n",
       "1               0.09                               5               261  Hawaii  \n",
       "2               1.30                               3               242  Hawaii  \n",
       "3               0.24                               3               287  Hawaii  \n",
       "4               1.03                               1               116  Hawaii  "
      ]
     },
     "execution_count": 3,
     "metadata": {},
     "output_type": "execute_result"
    }
   ],
   "source": [
    "df.head()"
   ]
  },
  {
   "cell_type": "code",
   "execution_count": 4,
   "id": "ffe85767",
   "metadata": {},
   "outputs": [],
   "source": [
    "df.drop('Unnamed: 0', axis=1, inplace=True)"
   ]
  },
  {
   "cell_type": "code",
   "execution_count": 5,
   "id": "c363e513",
   "metadata": {},
   "outputs": [
    {
     "data": {
      "text/html": [
       "<div>\n",
       "<style scoped>\n",
       "    .dataframe tbody tr th:only-of-type {\n",
       "        vertical-align: middle;\n",
       "    }\n",
       "\n",
       "    .dataframe tbody tr th {\n",
       "        vertical-align: top;\n",
       "    }\n",
       "\n",
       "    .dataframe thead th {\n",
       "        text-align: right;\n",
       "    }\n",
       "</style>\n",
       "<table border=\"1\" class=\"dataframe\">\n",
       "  <thead>\n",
       "    <tr style=\"text-align: right;\">\n",
       "      <th></th>\n",
       "      <th>id</th>\n",
       "      <th>name</th>\n",
       "      <th>host_id</th>\n",
       "      <th>host_name</th>\n",
       "      <th>neighbourhood_group</th>\n",
       "      <th>neighbourhood</th>\n",
       "      <th>latitude</th>\n",
       "      <th>longitude</th>\n",
       "      <th>room_type</th>\n",
       "      <th>price</th>\n",
       "      <th>minimum_nights</th>\n",
       "      <th>number_of_reviews</th>\n",
       "      <th>last_review</th>\n",
       "      <th>reviews_per_month</th>\n",
       "      <th>calculated_host_listings_count</th>\n",
       "      <th>availability_365</th>\n",
       "      <th>city</th>\n",
       "    </tr>\n",
       "  </thead>\n",
       "  <tbody>\n",
       "    <tr>\n",
       "      <th>0</th>\n",
       "      <td>5065</td>\n",
       "      <td>MAUKA BB</td>\n",
       "      <td>7257</td>\n",
       "      <td>Wayne</td>\n",
       "      <td>Hawaii</td>\n",
       "      <td>Hamakua</td>\n",
       "      <td>20.04095</td>\n",
       "      <td>-155.43251</td>\n",
       "      <td>Entire home/apt</td>\n",
       "      <td>85</td>\n",
       "      <td>2</td>\n",
       "      <td>42</td>\n",
       "      <td>2020-03-22</td>\n",
       "      <td>0.45</td>\n",
       "      <td>2</td>\n",
       "      <td>365</td>\n",
       "      <td>Hawaii</td>\n",
       "    </tr>\n",
       "    <tr>\n",
       "      <th>1</th>\n",
       "      <td>5269</td>\n",
       "      <td>Upcountry Hospitality in the 'Auwai Suite</td>\n",
       "      <td>7620</td>\n",
       "      <td>Lea &amp; Pat</td>\n",
       "      <td>Hawaii</td>\n",
       "      <td>South Kohala</td>\n",
       "      <td>20.02740</td>\n",
       "      <td>-155.70200</td>\n",
       "      <td>Entire home/apt</td>\n",
       "      <td>124</td>\n",
       "      <td>30</td>\n",
       "      <td>10</td>\n",
       "      <td>2020-01-03</td>\n",
       "      <td>0.09</td>\n",
       "      <td>5</td>\n",
       "      <td>261</td>\n",
       "      <td>Hawaii</td>\n",
       "    </tr>\n",
       "    <tr>\n",
       "      <th>2</th>\n",
       "      <td>5387</td>\n",
       "      <td>Hale Koa Studio &amp; 1 Bedroom Units!!</td>\n",
       "      <td>7878</td>\n",
       "      <td>Edward</td>\n",
       "      <td>Hawaii</td>\n",
       "      <td>South Kona</td>\n",
       "      <td>19.43119</td>\n",
       "      <td>-155.88079</td>\n",
       "      <td>Entire home/apt</td>\n",
       "      <td>85</td>\n",
       "      <td>5</td>\n",
       "      <td>168</td>\n",
       "      <td>2020-03-18</td>\n",
       "      <td>1.30</td>\n",
       "      <td>3</td>\n",
       "      <td>242</td>\n",
       "      <td>Hawaii</td>\n",
       "    </tr>\n",
       "    <tr>\n",
       "      <th>3</th>\n",
       "      <td>5389</td>\n",
       "      <td>Keauhou Villa</td>\n",
       "      <td>7878</td>\n",
       "      <td>Edward</td>\n",
       "      <td>Hawaii</td>\n",
       "      <td>North Kona</td>\n",
       "      <td>19.56413</td>\n",
       "      <td>-155.96347</td>\n",
       "      <td>Entire home/apt</td>\n",
       "      <td>239</td>\n",
       "      <td>6</td>\n",
       "      <td>20</td>\n",
       "      <td>2020-03-22</td>\n",
       "      <td>0.24</td>\n",
       "      <td>3</td>\n",
       "      <td>287</td>\n",
       "      <td>Hawaii</td>\n",
       "    </tr>\n",
       "    <tr>\n",
       "      <th>4</th>\n",
       "      <td>5390</td>\n",
       "      <td>STAY AT PRINCE KUHIO!</td>\n",
       "      <td>7887</td>\n",
       "      <td>Todd</td>\n",
       "      <td>Kauai</td>\n",
       "      <td>Koloa-Poipu</td>\n",
       "      <td>21.88305</td>\n",
       "      <td>-159.47372</td>\n",
       "      <td>Entire home/apt</td>\n",
       "      <td>92</td>\n",
       "      <td>3</td>\n",
       "      <td>143</td>\n",
       "      <td>2020-10-08</td>\n",
       "      <td>1.03</td>\n",
       "      <td>1</td>\n",
       "      <td>116</td>\n",
       "      <td>Hawaii</td>\n",
       "    </tr>\n",
       "  </tbody>\n",
       "</table>\n",
       "</div>"
      ],
      "text/plain": [
       "     id                                       name  host_id  host_name  \\\n",
       "0  5065                                   MAUKA BB     7257      Wayne   \n",
       "1  5269  Upcountry Hospitality in the 'Auwai Suite     7620  Lea & Pat   \n",
       "2  5387        Hale Koa Studio & 1 Bedroom Units!!     7878     Edward   \n",
       "3  5389                              Keauhou Villa     7878     Edward   \n",
       "4  5390                      STAY AT PRINCE KUHIO!     7887       Todd   \n",
       "\n",
       "  neighbourhood_group neighbourhood  latitude  longitude        room_type  \\\n",
       "0              Hawaii       Hamakua  20.04095 -155.43251  Entire home/apt   \n",
       "1              Hawaii  South Kohala  20.02740 -155.70200  Entire home/apt   \n",
       "2              Hawaii    South Kona  19.43119 -155.88079  Entire home/apt   \n",
       "3              Hawaii    North Kona  19.56413 -155.96347  Entire home/apt   \n",
       "4               Kauai   Koloa-Poipu  21.88305 -159.47372  Entire home/apt   \n",
       "\n",
       "   price  minimum_nights  number_of_reviews last_review  reviews_per_month  \\\n",
       "0     85               2                 42  2020-03-22               0.45   \n",
       "1    124              30                 10  2020-01-03               0.09   \n",
       "2     85               5                168  2020-03-18               1.30   \n",
       "3    239               6                 20  2020-03-22               0.24   \n",
       "4     92               3                143  2020-10-08               1.03   \n",
       "\n",
       "   calculated_host_listings_count  availability_365    city  \n",
       "0                               2               365  Hawaii  \n",
       "1                               5               261  Hawaii  \n",
       "2                               3               242  Hawaii  \n",
       "3                               3               287  Hawaii  \n",
       "4                               1               116  Hawaii  "
      ]
     },
     "execution_count": 5,
     "metadata": {},
     "output_type": "execute_result"
    }
   ],
   "source": [
    "df.head()"
   ]
  },
  {
   "cell_type": "code",
   "execution_count": 6,
   "id": "44fa4a09",
   "metadata": {},
   "outputs": [
    {
     "name": "stdout",
     "output_type": "stream",
     "text": [
      "<class 'pandas.core.frame.DataFrame'>\n",
      "RangeIndex: 85144 entries, 0 to 85143\n",
      "Data columns (total 17 columns):\n",
      " #   Column                          Non-Null Count  Dtype  \n",
      "---  ------                          --------------  -----  \n",
      " 0   id                              85144 non-null  int64  \n",
      " 1   name                            85144 non-null  object \n",
      " 2   host_id                         85144 non-null  int64  \n",
      " 3   host_name                       85144 non-null  object \n",
      " 4   neighbourhood_group             85144 non-null  object \n",
      " 5   neighbourhood                   85144 non-null  object \n",
      " 6   latitude                        85144 non-null  float64\n",
      " 7   longitude                       85144 non-null  float64\n",
      " 8   room_type                       85144 non-null  object \n",
      " 9   price                           85144 non-null  int64  \n",
      " 10  minimum_nights                  85144 non-null  int64  \n",
      " 11  number_of_reviews               85144 non-null  int64  \n",
      " 12  last_review                     85144 non-null  object \n",
      " 13  reviews_per_month               85144 non-null  float64\n",
      " 14  calculated_host_listings_count  85144 non-null  int64  \n",
      " 15  availability_365                85144 non-null  int64  \n",
      " 16  city                            85144 non-null  object \n",
      "dtypes: float64(3), int64(7), object(7)\n",
      "memory usage: 11.0+ MB\n"
     ]
    }
   ],
   "source": [
    "df.info()"
   ]
  },
  {
   "cell_type": "code",
   "execution_count": 7,
   "id": "90282953",
   "metadata": {},
   "outputs": [
    {
     "data": {
      "text/plain": [
       "Index(['id', 'name', 'host_id', 'host_name', 'neighbourhood_group',\n",
       "       'neighbourhood', 'latitude', 'longitude', 'room_type', 'price',\n",
       "       'minimum_nights', 'number_of_reviews', 'last_review',\n",
       "       'reviews_per_month', 'calculated_host_listings_count',\n",
       "       'availability_365', 'city'],\n",
       "      dtype='object')"
      ]
     },
     "execution_count": 7,
     "metadata": {},
     "output_type": "execute_result"
    }
   ],
   "source": [
    "df.columns"
   ]
  },
  {
   "cell_type": "code",
   "execution_count": 8,
   "id": "3faee065",
   "metadata": {},
   "outputs": [
    {
     "data": {
      "text/plain": [
       "<seaborn.axisgrid.FacetGrid at 0x1c6b594cd00>"
      ]
     },
     "execution_count": 8,
     "metadata": {},
     "output_type": "execute_result"
    },
    {
     "data": {
      "image/png": "[encoded data removed]",
      "text/plain": [
       "<Figure size 360x360 with 1 Axes>"
      ]
     },
     "metadata": {
      "needs_background": "light"
     },
     "output_type": "display_data"
    }
   ],
   "source": [
    "sns.relplot(data = df, x='city', y='price')"
   ]
  },
  {
   "cell_type": "code",
   "execution_count": 9,
   "id": "7c8353f1",
   "metadata": {},
   "outputs": [
    {
     "data": {
      "image/png": "[encoded data removed]",
      "text/plain": [
       "<Figure size 432x288 with 1 Axes>"
      ]
     },
     "metadata": {
      "needs_background": "light"
     },
     "output_type": "display_data"
    }
   ],
   "source": [
    "plt.hist(data=df, x='city')\n",
    "plt.ylabel('City Frequency')\n",
    "plt.xlabel('City')\n",
    "plt.title('Number of listings per US city')\n",
    "plt.show()"
   ]
  },
  {
   "cell_type": "code",
   "execution_count": 10,
   "id": "0cf8f773",
   "metadata": {},
   "outputs": [
    {
     "data": {
      "text/plain": [
       "<seaborn.axisgrid.FacetGrid at 0x1c6b5f4d700>"
      ]
     },
     "execution_count": 10,
     "metadata": {},
     "output_type": "execute_result"
    },
    {
     "data": {
      "image/png": "[encoded data removed]",
      "text/plain": [
       "<Figure size 464x360 with 1 Axes>"
      ]
     },
     "metadata": {
      "needs_background": "light"
     },
     "output_type": "display_data"
    }
   ],
   "source": [
    "sns.relplot(data=df, x='room_type', y='price', hue='city')"
   ]
  },
  {
   "cell_type": "code",
   "execution_count": null,
   "id": "3139dc29",
   "metadata": {},
   "outputs": [],
   "source": []
  }
 ],
 "metadata": {
  "kernelspec": {
   "display_name": "Python 3",
   "language": "python",
   "name": "python3"
  },
  "language_info": {
   "codemirror_mode": {
    "name": "ipython",
    "version": 3
   },
   "file_extension": ".py",
   "mimetype": "text/x-python",
   "name": "python",
   "nbconvert_exporter": "python",
   "pygments_lexer": "ipython3",
   "version": "3.8.8"
  }
 },
 "nbformat": 4,
 "nbformat_minor": 5
}
