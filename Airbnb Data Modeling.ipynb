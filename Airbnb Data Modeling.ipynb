{
 "cells": [
  {
   "cell_type": "code",
   "execution_count": 1,
   "id": "d4481589",
   "metadata": {},
   "outputs": [],
   "source": [
    "#Linear Reg, KNN, RF Model\n",
    "#Cross Validation & MAE\n",
    "#Grid Search CV for hyperparameter tuning"
   ]
  },
  {
   "cell_type": "code",
   "execution_count": 1,
   "id": "d52b7f97",
   "metadata": {},
   "outputs": [],
   "source": [
    "import pandas as pd\n",
    "import numpy as np\n",
    "import matplotlib.pyplot as plt\n",
    "from sklearn.preprocessing import StandardScaler\n",
    "from sklearn.model_selection import train_test_split, cross_val_score, GridSearchCV\n",
    "from sklearn.linear_model import LinearRegression\n",
    "from sklearn.ensemble import RandomForestRegressor\n",
    "from sklearn.pipeline import make_pipeline\n",
    "from sklearn.neighbors import KNeighborsRegressor\n",
    "from sklearn.metrics import r2_score, mean_squared_error, mean_absolute_error\n",
    "from sklearn.feature_selection import SelectKBest, f_regression"
   ]
  },
  {
   "cell_type": "code",
   "execution_count": 2,
   "id": "a8e87705",
   "metadata": {},
   "outputs": [],
   "source": [
    "X = pd.read_csv(\"X Data.csv\")\n",
    "numeric_df = pd.read_csv('Numeric Data.csv')"
   ]
  },
  {
   "cell_type": "code",
   "execution_count": 3,
   "id": "f9462718",
   "metadata": {},
   "outputs": [
    {
     "data": {
      "text/html": [
       "<div>\n",
       "<style scoped>\n",
       "    .dataframe tbody tr th:only-of-type {\n",
       "        vertical-align: middle;\n",
       "    }\n",
       "\n",
       "    .dataframe tbody tr th {\n",
       "        vertical-align: top;\n",
       "    }\n",
       "\n",
       "    .dataframe thead th {\n",
       "        text-align: right;\n",
       "    }\n",
       "</style>\n",
       "<table border=\"1\" class=\"dataframe\">\n",
       "  <thead>\n",
       "    <tr style=\"text-align: right;\">\n",
       "      <th></th>\n",
       "      <th>Unnamed: 0</th>\n",
       "      <th>minimum_nights</th>\n",
       "      <th>number_of_reviews</th>\n",
       "      <th>reviews_per_month</th>\n",
       "      <th>calculated_host_listings_count</th>\n",
       "      <th>availability_365</th>\n",
       "      <th>DM_Los Angeles</th>\n",
       "      <th>DM_New York City</th>\n",
       "      <th>DM_Rhode Island</th>\n",
       "      <th>DM_Seattle</th>\n",
       "      <th>DM_Hotel room</th>\n",
       "      <th>DM_Private room</th>\n",
       "      <th>DM_Shared room</th>\n",
       "    </tr>\n",
       "  </thead>\n",
       "  <tbody>\n",
       "    <tr>\n",
       "      <th>0</th>\n",
       "      <td>0</td>\n",
       "      <td>-0.343030</td>\n",
       "      <td>0.070068</td>\n",
       "      <td>-0.478757</td>\n",
       "      <td>-0.281507</td>\n",
       "      <td>1.464175</td>\n",
       "      <td>0.0</td>\n",
       "      <td>0.0</td>\n",
       "      <td>0.0</td>\n",
       "      <td>0.0</td>\n",
       "      <td>0.0</td>\n",
       "      <td>0.0</td>\n",
       "      <td>0.0</td>\n",
       "    </tr>\n",
       "    <tr>\n",
       "      <th>1</th>\n",
       "      <td>1</td>\n",
       "      <td>0.847045</td>\n",
       "      <td>-0.449823</td>\n",
       "      <td>-0.722354</td>\n",
       "      <td>-0.198516</td>\n",
       "      <td>0.728599</td>\n",
       "      <td>0.0</td>\n",
       "      <td>0.0</td>\n",
       "      <td>0.0</td>\n",
       "      <td>0.0</td>\n",
       "      <td>0.0</td>\n",
       "      <td>0.0</td>\n",
       "      <td>0.0</td>\n",
       "    </tr>\n",
       "    <tr>\n",
       "      <th>2</th>\n",
       "      <td>2</td>\n",
       "      <td>-0.215522</td>\n",
       "      <td>2.117138</td>\n",
       "      <td>0.096401</td>\n",
       "      <td>-0.253843</td>\n",
       "      <td>0.594215</td>\n",
       "      <td>0.0</td>\n",
       "      <td>0.0</td>\n",
       "      <td>0.0</td>\n",
       "      <td>0.0</td>\n",
       "      <td>0.0</td>\n",
       "      <td>0.0</td>\n",
       "      <td>0.0</td>\n",
       "    </tr>\n",
       "    <tr>\n",
       "      <th>3</th>\n",
       "      <td>3</td>\n",
       "      <td>-0.173019</td>\n",
       "      <td>-0.287357</td>\n",
       "      <td>-0.620855</td>\n",
       "      <td>-0.253843</td>\n",
       "      <td>0.912493</td>\n",
       "      <td>0.0</td>\n",
       "      <td>0.0</td>\n",
       "      <td>0.0</td>\n",
       "      <td>0.0</td>\n",
       "      <td>0.0</td>\n",
       "      <td>0.0</td>\n",
       "      <td>0.0</td>\n",
       "    </tr>\n",
       "    <tr>\n",
       "      <th>4</th>\n",
       "      <td>4</td>\n",
       "      <td>-0.300527</td>\n",
       "      <td>1.710973</td>\n",
       "      <td>-0.086297</td>\n",
       "      <td>-0.309170</td>\n",
       "      <td>-0.296964</td>\n",
       "      <td>0.0</td>\n",
       "      <td>0.0</td>\n",
       "      <td>0.0</td>\n",
       "      <td>0.0</td>\n",
       "      <td>0.0</td>\n",
       "      <td>0.0</td>\n",
       "      <td>0.0</td>\n",
       "    </tr>\n",
       "  </tbody>\n",
       "</table>\n",
       "</div>"
      ],
      "text/plain": [
       "   Unnamed: 0  minimum_nights  number_of_reviews  reviews_per_month  \\\n",
       "0           0       -0.343030           0.070068          -0.478757   \n",
       "1           1        0.847045          -0.449823          -0.722354   \n",
       "2           2       -0.215522           2.117138           0.096401   \n",
       "3           3       -0.173019          -0.287357          -0.620855   \n",
       "4           4       -0.300527           1.710973          -0.086297   \n",
       "\n",
       "   calculated_host_listings_count  availability_365  DM_Los Angeles  \\\n",
       "0                       -0.281507          1.464175             0.0   \n",
       "1                       -0.198516          0.728599             0.0   \n",
       "2                       -0.253843          0.594215             0.0   \n",
       "3                       -0.253843          0.912493             0.0   \n",
       "4                       -0.309170         -0.296964             0.0   \n",
       "\n",
       "   DM_New York City  DM_Rhode Island  DM_Seattle  DM_Hotel room  \\\n",
       "0               0.0              0.0         0.0            0.0   \n",
       "1               0.0              0.0         0.0            0.0   \n",
       "2               0.0              0.0         0.0            0.0   \n",
       "3               0.0              0.0         0.0            0.0   \n",
       "4               0.0              0.0         0.0            0.0   \n",
       "\n",
       "   DM_Private room  DM_Shared room  \n",
       "0              0.0             0.0  \n",
       "1              0.0             0.0  \n",
       "2              0.0             0.0  \n",
       "3              0.0             0.0  \n",
       "4              0.0             0.0  "
      ]
     },
     "execution_count": 3,
     "metadata": {},
     "output_type": "execute_result"
    }
   ],
   "source": [
    "X.head()"
   ]
  },
  {
   "cell_type": "code",
   "execution_count": 4,
   "id": "8a3133e2",
   "metadata": {},
   "outputs": [],
   "source": [
    "X = X.drop(columns='Unnamed: 0')"
   ]
  },
  {
   "cell_type": "code",
   "execution_count": 5,
   "id": "5ef073c4",
   "metadata": {},
   "outputs": [
    {
     "data": {
      "text/html": [
       "<div>\n",
       "<style scoped>\n",
       "    .dataframe tbody tr th:only-of-type {\n",
       "        vertical-align: middle;\n",
       "    }\n",
       "\n",
       "    .dataframe tbody tr th {\n",
       "        vertical-align: top;\n",
       "    }\n",
       "\n",
       "    .dataframe thead th {\n",
       "        text-align: right;\n",
       "    }\n",
       "</style>\n",
       "<table border=\"1\" class=\"dataframe\">\n",
       "  <thead>\n",
       "    <tr style=\"text-align: right;\">\n",
       "      <th></th>\n",
       "      <th>minimum_nights</th>\n",
       "      <th>number_of_reviews</th>\n",
       "      <th>reviews_per_month</th>\n",
       "      <th>calculated_host_listings_count</th>\n",
       "      <th>availability_365</th>\n",
       "      <th>DM_Los Angeles</th>\n",
       "      <th>DM_New York City</th>\n",
       "      <th>DM_Rhode Island</th>\n",
       "      <th>DM_Seattle</th>\n",
       "      <th>DM_Hotel room</th>\n",
       "      <th>DM_Private room</th>\n",
       "      <th>DM_Shared room</th>\n",
       "    </tr>\n",
       "  </thead>\n",
       "  <tbody>\n",
       "    <tr>\n",
       "      <th>0</th>\n",
       "      <td>-0.343030</td>\n",
       "      <td>0.070068</td>\n",
       "      <td>-0.478757</td>\n",
       "      <td>-0.281507</td>\n",
       "      <td>1.464175</td>\n",
       "      <td>0.0</td>\n",
       "      <td>0.0</td>\n",
       "      <td>0.0</td>\n",
       "      <td>0.0</td>\n",
       "      <td>0.0</td>\n",
       "      <td>0.0</td>\n",
       "      <td>0.0</td>\n",
       "    </tr>\n",
       "    <tr>\n",
       "      <th>1</th>\n",
       "      <td>0.847045</td>\n",
       "      <td>-0.449823</td>\n",
       "      <td>-0.722354</td>\n",
       "      <td>-0.198516</td>\n",
       "      <td>0.728599</td>\n",
       "      <td>0.0</td>\n",
       "      <td>0.0</td>\n",
       "      <td>0.0</td>\n",
       "      <td>0.0</td>\n",
       "      <td>0.0</td>\n",
       "      <td>0.0</td>\n",
       "      <td>0.0</td>\n",
       "    </tr>\n",
       "    <tr>\n",
       "      <th>2</th>\n",
       "      <td>-0.215522</td>\n",
       "      <td>2.117138</td>\n",
       "      <td>0.096401</td>\n",
       "      <td>-0.253843</td>\n",
       "      <td>0.594215</td>\n",
       "      <td>0.0</td>\n",
       "      <td>0.0</td>\n",
       "      <td>0.0</td>\n",
       "      <td>0.0</td>\n",
       "      <td>0.0</td>\n",
       "      <td>0.0</td>\n",
       "      <td>0.0</td>\n",
       "    </tr>\n",
       "    <tr>\n",
       "      <th>3</th>\n",
       "      <td>-0.173019</td>\n",
       "      <td>-0.287357</td>\n",
       "      <td>-0.620855</td>\n",
       "      <td>-0.253843</td>\n",
       "      <td>0.912493</td>\n",
       "      <td>0.0</td>\n",
       "      <td>0.0</td>\n",
       "      <td>0.0</td>\n",
       "      <td>0.0</td>\n",
       "      <td>0.0</td>\n",
       "      <td>0.0</td>\n",
       "      <td>0.0</td>\n",
       "    </tr>\n",
       "    <tr>\n",
       "      <th>4</th>\n",
       "      <td>-0.300527</td>\n",
       "      <td>1.710973</td>\n",
       "      <td>-0.086297</td>\n",
       "      <td>-0.309170</td>\n",
       "      <td>-0.296964</td>\n",
       "      <td>0.0</td>\n",
       "      <td>0.0</td>\n",
       "      <td>0.0</td>\n",
       "      <td>0.0</td>\n",
       "      <td>0.0</td>\n",
       "      <td>0.0</td>\n",
       "      <td>0.0</td>\n",
       "    </tr>\n",
       "  </tbody>\n",
       "</table>\n",
       "</div>"
      ],
      "text/plain": [
       "   minimum_nights  number_of_reviews  reviews_per_month  \\\n",
       "0       -0.343030           0.070068          -0.478757   \n",
       "1        0.847045          -0.449823          -0.722354   \n",
       "2       -0.215522           2.117138           0.096401   \n",
       "3       -0.173019          -0.287357          -0.620855   \n",
       "4       -0.300527           1.710973          -0.086297   \n",
       "\n",
       "   calculated_host_listings_count  availability_365  DM_Los Angeles  \\\n",
       "0                       -0.281507          1.464175             0.0   \n",
       "1                       -0.198516          0.728599             0.0   \n",
       "2                       -0.253843          0.594215             0.0   \n",
       "3                       -0.253843          0.912493             0.0   \n",
       "4                       -0.309170         -0.296964             0.0   \n",
       "\n",
       "   DM_New York City  DM_Rhode Island  DM_Seattle  DM_Hotel room  \\\n",
       "0               0.0              0.0         0.0            0.0   \n",
       "1               0.0              0.0         0.0            0.0   \n",
       "2               0.0              0.0         0.0            0.0   \n",
       "3               0.0              0.0         0.0            0.0   \n",
       "4               0.0              0.0         0.0            0.0   \n",
       "\n",
       "   DM_Private room  DM_Shared room  \n",
       "0              0.0             0.0  \n",
       "1              0.0             0.0  \n",
       "2              0.0             0.0  \n",
       "3              0.0             0.0  \n",
       "4              0.0             0.0  "
      ]
     },
     "execution_count": 5,
     "metadata": {},
     "output_type": "execute_result"
    }
   ],
   "source": [
    "X.head()"
   ]
  },
  {
   "cell_type": "code",
   "execution_count": 6,
   "id": "db3c26bc",
   "metadata": {},
   "outputs": [
    {
     "data": {
      "text/html": [
       "<div>\n",
       "<style scoped>\n",
       "    .dataframe tbody tr th:only-of-type {\n",
       "        vertical-align: middle;\n",
       "    }\n",
       "\n",
       "    .dataframe tbody tr th {\n",
       "        vertical-align: top;\n",
       "    }\n",
       "\n",
       "    .dataframe thead th {\n",
       "        text-align: right;\n",
       "    }\n",
       "</style>\n",
       "<table border=\"1\" class=\"dataframe\">\n",
       "  <thead>\n",
       "    <tr style=\"text-align: right;\">\n",
       "      <th></th>\n",
       "      <th>Unnamed: 0</th>\n",
       "      <th>price</th>\n",
       "      <th>minimum_nights</th>\n",
       "      <th>number_of_reviews</th>\n",
       "      <th>reviews_per_month</th>\n",
       "      <th>calculated_host_listings_count</th>\n",
       "      <th>availability_365</th>\n",
       "    </tr>\n",
       "  </thead>\n",
       "  <tbody>\n",
       "    <tr>\n",
       "      <th>0</th>\n",
       "      <td>0</td>\n",
       "      <td>85</td>\n",
       "      <td>2</td>\n",
       "      <td>42</td>\n",
       "      <td>0.45</td>\n",
       "      <td>2</td>\n",
       "      <td>365</td>\n",
       "    </tr>\n",
       "    <tr>\n",
       "      <th>1</th>\n",
       "      <td>1</td>\n",
       "      <td>124</td>\n",
       "      <td>30</td>\n",
       "      <td>10</td>\n",
       "      <td>0.09</td>\n",
       "      <td>5</td>\n",
       "      <td>261</td>\n",
       "    </tr>\n",
       "    <tr>\n",
       "      <th>2</th>\n",
       "      <td>2</td>\n",
       "      <td>85</td>\n",
       "      <td>5</td>\n",
       "      <td>168</td>\n",
       "      <td>1.30</td>\n",
       "      <td>3</td>\n",
       "      <td>242</td>\n",
       "    </tr>\n",
       "    <tr>\n",
       "      <th>3</th>\n",
       "      <td>3</td>\n",
       "      <td>239</td>\n",
       "      <td>6</td>\n",
       "      <td>20</td>\n",
       "      <td>0.24</td>\n",
       "      <td>3</td>\n",
       "      <td>287</td>\n",
       "    </tr>\n",
       "    <tr>\n",
       "      <th>4</th>\n",
       "      <td>4</td>\n",
       "      <td>92</td>\n",
       "      <td>3</td>\n",
       "      <td>143</td>\n",
       "      <td>1.03</td>\n",
       "      <td>1</td>\n",
       "      <td>116</td>\n",
       "    </tr>\n",
       "  </tbody>\n",
       "</table>\n",
       "</div>"
      ],
      "text/plain": [
       "   Unnamed: 0  price  minimum_nights  number_of_reviews  reviews_per_month  \\\n",
       "0           0     85               2                 42               0.45   \n",
       "1           1    124              30                 10               0.09   \n",
       "2           2     85               5                168               1.30   \n",
       "3           3    239               6                 20               0.24   \n",
       "4           4     92               3                143               1.03   \n",
       "\n",
       "   calculated_host_listings_count  availability_365  \n",
       "0                               2               365  \n",
       "1                               5               261  \n",
       "2                               3               242  \n",
       "3                               3               287  \n",
       "4                               1               116  "
      ]
     },
     "execution_count": 6,
     "metadata": {},
     "output_type": "execute_result"
    }
   ],
   "source": [
    "numeric_df.head()"
   ]
  },
  {
   "cell_type": "code",
   "execution_count": 7,
   "id": "534b8cfe",
   "metadata": {},
   "outputs": [],
   "source": [
    "numeric_df = numeric_df.drop(columns='Unnamed: 0')"
   ]
  },
  {
   "cell_type": "code",
   "execution_count": 8,
   "id": "ec14f73e",
   "metadata": {},
   "outputs": [
    {
     "data": {
      "text/html": [
       "<div>\n",
       "<style scoped>\n",
       "    .dataframe tbody tr th:only-of-type {\n",
       "        vertical-align: middle;\n",
       "    }\n",
       "\n",
       "    .dataframe tbody tr th {\n",
       "        vertical-align: top;\n",
       "    }\n",
       "\n",
       "    .dataframe thead th {\n",
       "        text-align: right;\n",
       "    }\n",
       "</style>\n",
       "<table border=\"1\" class=\"dataframe\">\n",
       "  <thead>\n",
       "    <tr style=\"text-align: right;\">\n",
       "      <th></th>\n",
       "      <th>price</th>\n",
       "      <th>minimum_nights</th>\n",
       "      <th>number_of_reviews</th>\n",
       "      <th>reviews_per_month</th>\n",
       "      <th>calculated_host_listings_count</th>\n",
       "      <th>availability_365</th>\n",
       "    </tr>\n",
       "  </thead>\n",
       "  <tbody>\n",
       "    <tr>\n",
       "      <th>0</th>\n",
       "      <td>85</td>\n",
       "      <td>2</td>\n",
       "      <td>42</td>\n",
       "      <td>0.45</td>\n",
       "      <td>2</td>\n",
       "      <td>365</td>\n",
       "    </tr>\n",
       "    <tr>\n",
       "      <th>1</th>\n",
       "      <td>124</td>\n",
       "      <td>30</td>\n",
       "      <td>10</td>\n",
       "      <td>0.09</td>\n",
       "      <td>5</td>\n",
       "      <td>261</td>\n",
       "    </tr>\n",
       "    <tr>\n",
       "      <th>2</th>\n",
       "      <td>85</td>\n",
       "      <td>5</td>\n",
       "      <td>168</td>\n",
       "      <td>1.30</td>\n",
       "      <td>3</td>\n",
       "      <td>242</td>\n",
       "    </tr>\n",
       "    <tr>\n",
       "      <th>3</th>\n",
       "      <td>239</td>\n",
       "      <td>6</td>\n",
       "      <td>20</td>\n",
       "      <td>0.24</td>\n",
       "      <td>3</td>\n",
       "      <td>287</td>\n",
       "    </tr>\n",
       "    <tr>\n",
       "      <th>4</th>\n",
       "      <td>92</td>\n",
       "      <td>3</td>\n",
       "      <td>143</td>\n",
       "      <td>1.03</td>\n",
       "      <td>1</td>\n",
       "      <td>116</td>\n",
       "    </tr>\n",
       "  </tbody>\n",
       "</table>\n",
       "</div>"
      ],
      "text/plain": [
       "   price  minimum_nights  number_of_reviews  reviews_per_month  \\\n",
       "0     85               2                 42               0.45   \n",
       "1    124              30                 10               0.09   \n",
       "2     85               5                168               1.30   \n",
       "3    239               6                 20               0.24   \n",
       "4     92               3                143               1.03   \n",
       "\n",
       "   calculated_host_listings_count  availability_365  \n",
       "0                               2               365  \n",
       "1                               5               261  \n",
       "2                               3               242  \n",
       "3                               3               287  \n",
       "4                               1               116  "
      ]
     },
     "execution_count": 8,
     "metadata": {},
     "output_type": "execute_result"
    }
   ],
   "source": [
    "numeric_df.head()"
   ]
  },
  {
   "cell_type": "code",
   "execution_count": 9,
   "id": "34bf6e2d",
   "metadata": {},
   "outputs": [
    {
     "data": {
      "text/plain": [
       "0         85\n",
       "1        124\n",
       "2         85\n",
       "3        239\n",
       "4         92\n",
       "        ... \n",
       "85139    100\n",
       "85140     79\n",
       "85141     79\n",
       "85142    200\n",
       "85143     35\n",
       "Name: price, Length: 85144, dtype: int64"
      ]
     },
     "execution_count": 9,
     "metadata": {},
     "output_type": "execute_result"
    }
   ],
   "source": [
    "y = numeric_df['price']\n",
    "y"
   ]
  },
  {
   "cell_type": "code",
   "execution_count": 10,
   "id": "1fe7d90c",
   "metadata": {},
   "outputs": [],
   "source": [
    "X_train, X_test, y_train, y_test= train_test_split(X, y, test_size=0.3, random_state=47)"
   ]
  },
  {
   "cell_type": "code",
   "execution_count": 11,
   "id": "a2430caa",
   "metadata": {},
   "outputs": [
    {
     "data": {
      "text/plain": [
       "((59600, 12), (25544, 12))"
      ]
     },
     "execution_count": 11,
     "metadata": {},
     "output_type": "execute_result"
    }
   ],
   "source": [
    "X_train.shape, X_test.shape"
   ]
  },
  {
   "cell_type": "code",
   "execution_count": 12,
   "id": "fadd83fc",
   "metadata": {},
   "outputs": [
    {
     "data": {
      "text/plain": [
       "((59600,), (25544,))"
      ]
     },
     "execution_count": 12,
     "metadata": {},
     "output_type": "execute_result"
    }
   ],
   "source": [
    "y_train.shape, y_test.shape"
   ]
  },
  {
   "cell_type": "code",
   "execution_count": 13,
   "id": "158b1255",
   "metadata": {},
   "outputs": [
    {
     "data": {
      "text/plain": [
       "minimum_nights                    float64\n",
       "number_of_reviews                 float64\n",
       "reviews_per_month                 float64\n",
       "calculated_host_listings_count    float64\n",
       "availability_365                  float64\n",
       "DM_Los Angeles                    float64\n",
       "DM_New York City                  float64\n",
       "DM_Rhode Island                   float64\n",
       "DM_Seattle                        float64\n",
       "DM_Hotel room                     float64\n",
       "DM_Private room                   float64\n",
       "DM_Shared room                    float64\n",
       "dtype: object"
      ]
     },
     "execution_count": 13,
     "metadata": {},
     "output_type": "execute_result"
    }
   ],
   "source": [
    "X_train.dtypes"
   ]
  },
  {
   "cell_type": "markdown",
   "id": "a19ee264",
   "metadata": {},
   "source": [
    "# First Model: Linear Regression"
   ]
  },
  {
   "cell_type": "code",
   "execution_count": 14,
   "id": "7a08d00f",
   "metadata": {},
   "outputs": [],
   "source": [
    "clm = LinearRegression()"
   ]
  },
  {
   "cell_type": "code",
   "execution_count": 15,
   "id": "fbe261cd",
   "metadata": {},
   "outputs": [
    {
     "data": {
      "text/plain": [
       "LinearRegression()"
      ]
     },
     "execution_count": 15,
     "metadata": {},
     "output_type": "execute_result"
    }
   ],
   "source": [
    "clm.fit(X_train, y_train)"
   ]
  },
  {
   "cell_type": "code",
   "execution_count": 16,
   "id": "f9bf9b1f",
   "metadata": {},
   "outputs": [],
   "source": [
    "y_train_pred = clm.predict(X_train)\n",
    "y_test_pred = clm.predict(X_test)"
   ]
  },
  {
   "cell_type": "markdown",
   "id": "bcda20b7",
   "metadata": {},
   "source": [
    "# Model Assessment"
   ]
  },
  {
   "cell_type": "code",
   "execution_count": 17,
   "id": "73b8c94d",
   "metadata": {},
   "outputs": [
    {
     "data": {
      "text/plain": [
       "(0.014547568360470553, 0.015390596406085977)"
      ]
     },
     "execution_count": 17,
     "metadata": {},
     "output_type": "execute_result"
    }
   ],
   "source": [
    "r2_score(y_train, y_train_pred), r2_score(y_test, y_test_pred)"
   ]
  },
  {
   "cell_type": "code",
   "execution_count": 18,
   "id": "af69301e",
   "metadata": {},
   "outputs": [
    {
     "data": {
      "text/plain": [
       "(111.90724901715284, 111.56331007165414)"
      ]
     },
     "execution_count": 18,
     "metadata": {},
     "output_type": "execute_result"
    }
   ],
   "source": [
    "mean_absolute_error(y_train, y_train_pred), mean_absolute_error(y_test, y_test_pred)"
   ]
  },
  {
   "cell_type": "code",
   "execution_count": 19,
   "id": "35b979b3",
   "metadata": {},
   "outputs": [
    {
     "data": {
      "text/plain": [
       "array([0.01439086, 0.01781162, 0.00758168, 0.02336099, 0.01790095])"
      ]
     },
     "execution_count": 19,
     "metadata": {},
     "output_type": "execute_result"
    }
   ],
   "source": [
    "cv_results = cross_val_score(clm, X_train, y_train, cv = 5)\n",
    "cv_results"
   ]
  },
  {
   "cell_type": "code",
   "execution_count": 20,
   "id": "44859ee2",
   "metadata": {},
   "outputs": [
    {
     "data": {
      "text/plain": [
       "(0.016209219395810347, 0.005183018497957226)"
      ]
     },
     "execution_count": 20,
     "metadata": {},
     "output_type": "execute_result"
    }
   ],
   "source": [
    "np.mean(cv_results), np.std(cv_results)"
   ]
  },
  {
   "cell_type": "code",
   "execution_count": 21,
   "id": "91ab7562",
   "metadata": {},
   "outputs": [
    {
     "data": {
      "text/plain": [
       "array([0.01, 0.03])"
      ]
     },
     "execution_count": 21,
     "metadata": {},
     "output_type": "execute_result"
    }
   ],
   "source": [
    "np.round((np.mean(cv_results) - 2 * np.std(cv_results), np.mean(cv_results) + 2 * np.std(cv_results)), 2)"
   ]
  },
  {
   "cell_type": "markdown",
   "id": "5dc6a005",
   "metadata": {},
   "source": [
    "# Hyperparameter tuning with GridSearchCV "
   ]
  },
  {
   "cell_type": "code",
   "execution_count": 22,
   "id": "618d3861",
   "metadata": {},
   "outputs": [],
   "source": [
    "pipe = make_pipeline(SelectKBest(f_regression, k='all'), LinearRegression())"
   ]
  },
  {
   "cell_type": "code",
   "execution_count": 23,
   "id": "45114ff5",
   "metadata": {},
   "outputs": [
    {
     "name": "stderr",
     "output_type": "stream",
     "text": [
      "C:\\Users\\malak\\anaconda3\\lib\\site-packages\\sklearn\\feature_selection\\_univariate_selection.py:301: RuntimeWarning: invalid value encountered in true_divide\n",
      "  corr /= X_norms\n"
     ]
    },
    {
     "data": {
      "text/plain": [
       "Pipeline(steps=[('selectkbest',\n",
       "                 SelectKBest(k='all',\n",
       "                             score_func=<function f_regression at 0x00000233E5CE0790>)),\n",
       "                ('linearregression', LinearRegression())])"
      ]
     },
     "execution_count": 23,
     "metadata": {},
     "output_type": "execute_result"
    }
   ],
   "source": [
    "pipe.fit(X_train, y_train)"
   ]
  },
  {
   "cell_type": "code",
   "execution_count": 24,
   "id": "92f4cdfe",
   "metadata": {},
   "outputs": [],
   "source": [
    "y_tr_pred = pipe.predict(X_train)\n",
    "y_te_pred = pipe.predict(X_test)"
   ]
  },
  {
   "cell_type": "code",
   "execution_count": 25,
   "id": "436442fd",
   "metadata": {},
   "outputs": [
    {
     "data": {
      "text/plain": [
       "(0.014547568360470553, 0.015390596406085977)"
      ]
     },
     "execution_count": 25,
     "metadata": {},
     "output_type": "execute_result"
    }
   ],
   "source": [
    "r2_score(y_train, y_tr_pred), r2_score(y_test, y_te_pred)"
   ]
  },
  {
   "cell_type": "code",
   "execution_count": 26,
   "id": "7a004774",
   "metadata": {},
   "outputs": [
    {
     "data": {
      "text/plain": [
       "(111.90724901715284, 111.56331007165414)"
      ]
     },
     "execution_count": 26,
     "metadata": {},
     "output_type": "execute_result"
    }
   ],
   "source": [
    "mean_absolute_error(y_train, y_tr_pred), mean_absolute_error(y_test, y_te_pred)"
   ]
  },
  {
   "cell_type": "code",
   "execution_count": 27,
   "id": "9a1dfca9",
   "metadata": {},
   "outputs": [
    {
     "name": "stdout",
     "output_type": "stream",
     "text": [
      "[0.01439086 0.01781162 0.00758168 0.02336099 0.01790095]\n"
     ]
    },
    {
     "name": "stderr",
     "output_type": "stream",
     "text": [
      "C:\\Users\\malak\\anaconda3\\lib\\site-packages\\sklearn\\feature_selection\\_univariate_selection.py:301: RuntimeWarning: invalid value encountered in true_divide\n",
      "  corr /= X_norms\n",
      "C:\\Users\\malak\\anaconda3\\lib\\site-packages\\sklearn\\feature_selection\\_univariate_selection.py:301: RuntimeWarning: invalid value encountered in true_divide\n",
      "  corr /= X_norms\n",
      "C:\\Users\\malak\\anaconda3\\lib\\site-packages\\sklearn\\feature_selection\\_univariate_selection.py:301: RuntimeWarning: invalid value encountered in true_divide\n",
      "  corr /= X_norms\n",
      "C:\\Users\\malak\\anaconda3\\lib\\site-packages\\sklearn\\feature_selection\\_univariate_selection.py:301: RuntimeWarning: invalid value encountered in true_divide\n",
      "  corr /= X_norms\n",
      "C:\\Users\\malak\\anaconda3\\lib\\site-packages\\sklearn\\feature_selection\\_univariate_selection.py:301: RuntimeWarning: invalid value encountered in true_divide\n",
      "  corr /= X_norms\n"
     ]
    }
   ],
   "source": [
    "cv_results2 = cross_val_score(pipe, X_train, y_train, cv=5)\n",
    "print(cv_results2)"
   ]
  },
  {
   "cell_type": "code",
   "execution_count": 28,
   "id": "ead47193",
   "metadata": {},
   "outputs": [
    {
     "data": {
      "text/plain": [
       "(0.016209219395810347, 0.005183018497957226)"
      ]
     },
     "execution_count": 28,
     "metadata": {},
     "output_type": "execute_result"
    }
   ],
   "source": [
    "np.mean(cv_results2), np.std(cv_results2)"
   ]
  },
  {
   "cell_type": "code",
   "execution_count": 29,
   "id": "b5bd8e17",
   "metadata": {},
   "outputs": [
    {
     "data": {
      "text/plain": [
       "array([0.01, 0.03])"
      ]
     },
     "execution_count": 29,
     "metadata": {},
     "output_type": "execute_result"
    }
   ],
   "source": [
    "np.round((np.mean(cv_results2) - 2 * np.std(cv_results2), np.mean(cv_results2) + 2 * np.std(cv_results2)), 2)"
   ]
  },
  {
   "cell_type": "code",
   "execution_count": 30,
   "id": "f4fe3e34",
   "metadata": {},
   "outputs": [],
   "source": [
    "k  =[k+1 for k in range(len(X_train.columns))]\n",
    "params = {'selectkbest__k': k}"
   ]
  },
  {
   "cell_type": "code",
   "execution_count": 31,
   "id": "b2e4a4eb",
   "metadata": {},
   "outputs": [],
   "source": [
    "lr_grid_cv = GridSearchCV(pipe, param_grid = params, cv=5, n_jobs=-1)"
   ]
  },
  {
   "cell_type": "code",
   "execution_count": 32,
   "id": "49bd36d9",
   "metadata": {},
   "outputs": [
    {
     "name": "stderr",
     "output_type": "stream",
     "text": [
      "C:\\Users\\malak\\anaconda3\\lib\\site-packages\\sklearn\\feature_selection\\_univariate_selection.py:301: RuntimeWarning: invalid value encountered in true_divide\n",
      "  corr /= X_norms\n"
     ]
    },
    {
     "data": {
      "text/plain": [
       "GridSearchCV(cv=5,\n",
       "             estimator=Pipeline(steps=[('selectkbest',\n",
       "                                        SelectKBest(k='all',\n",
       "                                                    score_func=<function f_regression at 0x00000233E5CE0790>)),\n",
       "                                       ('linearregression',\n",
       "                                        LinearRegression())]),\n",
       "             n_jobs=-1,\n",
       "             param_grid={'selectkbest__k': [1, 2, 3, 4, 5, 6, 7, 8, 9, 10, 11,\n",
       "                                            12]})"
      ]
     },
     "execution_count": 32,
     "metadata": {},
     "output_type": "execute_result"
    }
   ],
   "source": [
    "lr_grid_cv.fit(X_train, y_train)"
   ]
  },
  {
   "cell_type": "code",
   "execution_count": 33,
   "id": "30784ade",
   "metadata": {},
   "outputs": [
    {
     "data": {
      "text/plain": [
       "{'selectkbest__k': 8}"
      ]
     },
     "execution_count": 33,
     "metadata": {},
     "output_type": "execute_result"
    }
   ],
   "source": [
    "lr_grid_cv.best_params_"
   ]
  },
  {
   "cell_type": "code",
   "execution_count": 34,
   "id": "cb0e1b42",
   "metadata": {},
   "outputs": [],
   "source": [
    "pipe_best = make_pipeline(SelectKBest(f_regression, k=8), LinearRegression())"
   ]
  },
  {
   "cell_type": "code",
   "execution_count": 35,
   "id": "85495e05",
   "metadata": {},
   "outputs": [
    {
     "name": "stderr",
     "output_type": "stream",
     "text": [
      "C:\\Users\\malak\\anaconda3\\lib\\site-packages\\sklearn\\feature_selection\\_univariate_selection.py:301: RuntimeWarning: invalid value encountered in true_divide\n",
      "  corr /= X_norms\n"
     ]
    }
   ],
   "source": [
    "pipe_best.fit(X_train, y_train)\n",
    "y_pr_lr = pipe_best.predict(X_test)"
   ]
  },
  {
   "cell_type": "code",
   "execution_count": 36,
   "id": "839569f2",
   "metadata": {},
   "outputs": [
    {
     "data": {
      "text/plain": [
       "0.015390596406085755"
      ]
     },
     "execution_count": 36,
     "metadata": {},
     "output_type": "execute_result"
    }
   ],
   "source": [
    "r2_score(y_test, y_pr_lr)"
   ]
  },
  {
   "cell_type": "code",
   "execution_count": 37,
   "id": "579528b9",
   "metadata": {},
   "outputs": [
    {
     "data": {
      "text/plain": [
       "111.5633100716542"
      ]
     },
     "execution_count": 37,
     "metadata": {},
     "output_type": "execute_result"
    }
   ],
   "source": [
    "mean_absolute_error(y_test, y_pr_lr)"
   ]
  },
  {
   "cell_type": "code",
   "execution_count": 38,
   "id": "09b943d6",
   "metadata": {},
   "outputs": [
    {
     "name": "stdout",
     "output_type": "stream",
     "text": [
      "[0.01439086 0.01781162 0.00758168 0.02336099 0.01790095]\n"
     ]
    },
    {
     "name": "stderr",
     "output_type": "stream",
     "text": [
      "C:\\Users\\malak\\anaconda3\\lib\\site-packages\\sklearn\\feature_selection\\_univariate_selection.py:301: RuntimeWarning: invalid value encountered in true_divide\n",
      "  corr /= X_norms\n",
      "C:\\Users\\malak\\anaconda3\\lib\\site-packages\\sklearn\\feature_selection\\_univariate_selection.py:301: RuntimeWarning: invalid value encountered in true_divide\n",
      "  corr /= X_norms\n",
      "C:\\Users\\malak\\anaconda3\\lib\\site-packages\\sklearn\\feature_selection\\_univariate_selection.py:301: RuntimeWarning: invalid value encountered in true_divide\n",
      "  corr /= X_norms\n",
      "C:\\Users\\malak\\anaconda3\\lib\\site-packages\\sklearn\\feature_selection\\_univariate_selection.py:301: RuntimeWarning: invalid value encountered in true_divide\n",
      "  corr /= X_norms\n",
      "C:\\Users\\malak\\anaconda3\\lib\\site-packages\\sklearn\\feature_selection\\_univariate_selection.py:301: RuntimeWarning: invalid value encountered in true_divide\n",
      "  corr /= X_norms\n"
     ]
    }
   ],
   "source": [
    "cv_best = cross_val_score(pipe_best, X_train, y_train, cv=5)\n",
    "print(cv_best)"
   ]
  },
  {
   "cell_type": "code",
   "execution_count": 39,
   "id": "32fc2bb3",
   "metadata": {},
   "outputs": [
    {
     "data": {
      "text/plain": [
       "(0.016209219395810347, 0.005183018497957242)"
      ]
     },
     "execution_count": 39,
     "metadata": {},
     "output_type": "execute_result"
    }
   ],
   "source": [
    "np.mean(cv_best), np.std(cv_best)"
   ]
  },
  {
   "cell_type": "code",
   "execution_count": 40,
   "id": "c1e2e01e",
   "metadata": {},
   "outputs": [
    {
     "data": {
      "text/plain": [
       "array([0.01, 0.03])"
      ]
     },
     "execution_count": 40,
     "metadata": {},
     "output_type": "execute_result"
    }
   ],
   "source": [
    "np.round((np.mean(cv_best) - 2 * np.std(cv_best), np.mean(cv_best) + 2 * np.std(cv_best)), 2)"
   ]
  },
  {
   "cell_type": "markdown",
   "id": "a1cace9c",
   "metadata": {},
   "source": [
    "# Most Useful Features"
   ]
  },
  {
   "cell_type": "code",
   "execution_count": 41,
   "id": "72c0455f",
   "metadata": {},
   "outputs": [],
   "source": [
    "selected = lr_grid_cv.best_estimator_.named_steps.selectkbest.get_support()"
   ]
  },
  {
   "cell_type": "code",
   "execution_count": 42,
   "id": "02900780",
   "metadata": {},
   "outputs": [
    {
     "data": {
      "text/plain": [
       "availability_365                  23.897151\n",
       "calculated_host_listings_count    13.423402\n",
       "DM_Hotel room                      0.000000\n",
       "DM_Private room                    0.000000\n",
       "DM_Shared room                     0.000000\n",
       "minimum_nights                    -5.129413\n",
       "number_of_reviews                -11.458524\n",
       "reviews_per_month                -13.691339\n",
       "dtype: float64"
      ]
     },
     "execution_count": 42,
     "metadata": {},
     "output_type": "execute_result"
    }
   ],
   "source": [
    "coefs = lr_grid_cv.best_estimator_.named_steps.linearregression.coef_\n",
    "features = X_train.columns[selected]\n",
    "pd.Series(coefs, index=features).sort_values(ascending=False)"
   ]
  },
  {
   "cell_type": "markdown",
   "id": "a338111b",
   "metadata": {},
   "source": [
    "It appears that out of all features, according to this model, the availability throughout the year of a listing is the largest positive feature to predict price."
   ]
  },
  {
   "cell_type": "markdown",
   "id": "73bc4d0a",
   "metadata": {},
   "source": [
    "# Second Model: Random Forest Model"
   ]
  },
  {
   "cell_type": "code",
   "execution_count": 43,
   "id": "62186b34",
   "metadata": {},
   "outputs": [],
   "source": [
    "rf = RandomForestRegressor()\n",
    "rf.fit(X_train, y_train)\n",
    "\n",
    "y_pred_rf = rf.predict(X_test)"
   ]
  },
  {
   "cell_type": "markdown",
   "id": "d231f564",
   "metadata": {},
   "source": [
    "# Model Assessment"
   ]
  },
  {
   "cell_type": "code",
   "execution_count": 44,
   "id": "4de2e6d1",
   "metadata": {},
   "outputs": [
    {
     "name": "stdout",
     "output_type": "stream",
     "text": [
      "[ 0.01947465 -0.09572609  0.01323085 -0.28167576 -0.03685094]\n"
     ]
    }
   ],
   "source": [
    "rf_cv_scores = cross_val_score(rf, X_train, y_train, cv=5)\n",
    "print(rf_cv_scores)"
   ]
  },
  {
   "cell_type": "code",
   "execution_count": 45,
   "id": "e54296b8",
   "metadata": {},
   "outputs": [
    {
     "data": {
      "text/plain": [
       "(-0.07630945805768397, 0.11072611261243892)"
      ]
     },
     "execution_count": 45,
     "metadata": {},
     "output_type": "execute_result"
    }
   ],
   "source": [
    "np.mean(rf_cv_scores), np.std(rf_cv_scores)"
   ]
  },
  {
   "cell_type": "code",
   "execution_count": 46,
   "id": "e6e01f8c",
   "metadata": {},
   "outputs": [
    {
     "data": {
      "text/plain": [
       "-0.030849691348500796"
      ]
     },
     "execution_count": 46,
     "metadata": {},
     "output_type": "execute_result"
    }
   ],
   "source": [
    "r2_score(y_test, y_pred_rf)"
   ]
  },
  {
   "cell_type": "code",
   "execution_count": 47,
   "id": "7f2140d3",
   "metadata": {},
   "outputs": [
    {
     "data": {
      "text/plain": [
       "113.82004212721942"
      ]
     },
     "execution_count": 47,
     "metadata": {},
     "output_type": "execute_result"
    }
   ],
   "source": [
    "mean_absolute_error(y_test, y_pred_rf)"
   ]
  },
  {
   "cell_type": "markdown",
   "id": "87790699",
   "metadata": {},
   "source": [
    "# Hyperparameter Tuning Using GridSearchCV "
   ]
  },
  {
   "cell_type": "code",
   "execution_count": 48,
   "id": "7ed2255f",
   "metadata": {},
   "outputs": [
    {
     "data": {
      "text/plain": [
       "dict_keys(['bootstrap', 'ccp_alpha', 'criterion', 'max_depth', 'max_features', 'max_leaf_nodes', 'max_samples', 'min_impurity_decrease', 'min_impurity_split', 'min_samples_leaf', 'min_samples_split', 'min_weight_fraction_leaf', 'n_estimators', 'n_jobs', 'oob_score', 'random_state', 'verbose', 'warm_start'])"
      ]
     },
     "execution_count": 48,
     "metadata": {},
     "output_type": "execute_result"
    }
   ],
   "source": [
    "rf.get_params().keys()"
   ]
  },
  {
   "cell_type": "code",
   "execution_count": 49,
   "id": "0ec7113e",
   "metadata": {},
   "outputs": [
    {
     "data": {
      "text/plain": [
       "{'n_estimators': [10,\n",
       "  12,\n",
       "  16,\n",
       "  20,\n",
       "  26,\n",
       "  33,\n",
       "  42,\n",
       "  54,\n",
       "  69,\n",
       "  88,\n",
       "  112,\n",
       "  143,\n",
       "  183,\n",
       "  233,\n",
       "  297,\n",
       "  379,\n",
       "  483,\n",
       "  615,\n",
       "  784,\n",
       "  1000]}"
      ]
     },
     "execution_count": 49,
     "metadata": {},
     "output_type": "execute_result"
    }
   ],
   "source": [
    "n_est = [int(n) for n in np.logspace(start=1, stop=3, num=20)]\n",
    "grid_params = {'n_estimators' : n_est}\n",
    "grid_params"
   ]
  },
  {
   "cell_type": "code",
   "execution_count": 50,
   "id": "5dcb41cf",
   "metadata": {},
   "outputs": [
    {
     "data": {
      "text/plain": [
       "GridSearchCV(cv=5, estimator=RandomForestRegressor(), n_jobs=-1,\n",
       "             param_grid={'n_estimators': [10, 12, 16, 20, 26, 33, 42, 54, 69,\n",
       "                                          88, 112, 143, 183, 233, 297, 379, 483,\n",
       "                                          615, 784, 1000]})"
      ]
     },
     "execution_count": 50,
     "metadata": {},
     "output_type": "execute_result"
    }
   ],
   "source": [
    "rf_grid_cv = GridSearchCV(rf, param_grid = grid_params, cv=5, n_jobs=-1)\n",
    "rf_grid_cv.fit(X_train, y_train)"
   ]
  },
  {
   "cell_type": "code",
   "execution_count": 51,
   "id": "61a4301a",
   "metadata": {},
   "outputs": [
    {
     "name": "stdout",
     "output_type": "stream",
     "text": [
      "RandomForestRegressor(n_estimators=297)\n",
      "{'n_estimators': 297}\n"
     ]
    }
   ],
   "source": [
    "print(rf_grid_cv.best_estimator_)\n",
    "print(rf_grid_cv.best_params_)"
   ]
  },
  {
   "cell_type": "code",
   "execution_count": 52,
   "id": "af89a09f",
   "metadata": {},
   "outputs": [],
   "source": [
    "rf_best = RandomForestRegressor(n_estimators=297)\n",
    "rf_best.fit(X_train, y_train)\n",
    "y_pr_best_rf = rf_best.predict(X_test)"
   ]
  },
  {
   "cell_type": "code",
   "execution_count": 53,
   "id": "797e7256",
   "metadata": {},
   "outputs": [
    {
     "name": "stdout",
     "output_type": "stream",
     "text": [
      "[ 0.01106976 -0.07231395  0.00903264 -0.27348515 -0.03952944]\n"
     ]
    }
   ],
   "source": [
    "cv_rf_best = cross_val_score(rf_best, X_train, y_train, cv=5)\n",
    "print(cv_rf_best)"
   ]
  },
  {
   "cell_type": "code",
   "execution_count": 54,
   "id": "a1f53ef0",
   "metadata": {},
   "outputs": [
    {
     "data": {
      "text/plain": [
       "(-0.07304523008899735, 0.10498772725482397)"
      ]
     },
     "execution_count": 54,
     "metadata": {},
     "output_type": "execute_result"
    }
   ],
   "source": [
    "np.mean(cv_rf_best), np.std(cv_rf_best)"
   ]
  },
  {
   "cell_type": "code",
   "execution_count": 55,
   "id": "bdedce8f",
   "metadata": {},
   "outputs": [
    {
     "data": {
      "text/plain": [
       "113.20970313874699"
      ]
     },
     "execution_count": 55,
     "metadata": {},
     "output_type": "execute_result"
    }
   ],
   "source": [
    "mean_absolute_error(y_test, y_pr_best_rf)"
   ]
  },
  {
   "cell_type": "markdown",
   "id": "7c3065fa",
   "metadata": {},
   "source": [
    "# Model 3: KNN Regression"
   ]
  },
  {
   "cell_type": "code",
   "execution_count": 56,
   "id": "bcdf2407",
   "metadata": {},
   "outputs": [
    {
     "name": "stdout",
     "output_type": "stream",
     "text": [
      "RMSE value for k=  1 is: 342.2218825046365\n",
      "RMSE value for k=  2 is: 321.8484456358144\n",
      "RMSE value for k=  3 is: 303.4890554584582\n",
      "RMSE value for k=  4 is: 294.43633027154954\n",
      "RMSE value for k=  5 is: 288.6107990271054\n",
      "RMSE value for k=  6 is: 283.12063445556566\n",
      "RMSE value for k=  7 is: 279.46505906669614\n",
      "RMSE value for k=  8 is: 277.4772783267477\n",
      "RMSE value for k=  9 is: 275.8963725448457\n",
      "RMSE value for k=  10 is: 275.60266405403826\n",
      "RMSE value for k=  11 is: 274.9977442333544\n",
      "RMSE value for k=  12 is: 273.93107190937866\n",
      "RMSE value for k=  13 is: 274.27356029353905\n",
      "RMSE value for k=  14 is: 274.0873291794982\n",
      "RMSE value for k=  15 is: 274.09788195178527\n",
      "RMSE value for k=  16 is: 273.34571586536936\n",
      "RMSE value for k=  17 is: 273.0003225587313\n",
      "RMSE value for k=  18 is: 272.76084701945774\n",
      "RMSE value for k=  19 is: 272.20183848426063\n",
      "RMSE value for k=  20 is: 271.78030837947574\n"
     ]
    }
   ],
   "source": [
    "rmse_val = []\n",
    "for K in range(20):\n",
    "    K= K+1\n",
    "    model = KNeighborsRegressor(n_neighbors=K)\n",
    "    \n",
    "    model.fit(X_train, y_train)\n",
    "    y_pred_knn = model.predict(X_test)\n",
    "    error = np.sqrt(mean_squared_error(y_test, y_pred_knn))\n",
    "    rmse_val.append(error)\n",
    "    print('RMSE value for k= ', K, 'is:', error)"
   ]
  },
  {
   "cell_type": "code",
   "execution_count": 57,
   "id": "34212e1a",
   "metadata": {},
   "outputs": [
    {
     "data": {
      "text/plain": [
       "Text(0.5, 1.0, 'Elbow Curve')"
      ]
     },
     "execution_count": 57,
     "metadata": {},
     "output_type": "execute_result"
    },
    {
     "data": {
      "image/png": "[encoded data removed]",
      "text/plain": [
       "<Figure size 432x288 with 1 Axes>"
      ]
     },
     "metadata": {
      "needs_background": "light"
     },
     "output_type": "display_data"
    }
   ],
   "source": [
    "elbow_curve = pd.DataFrame(rmse_val)\n",
    "elbow_curve.plot()\n",
    "plt.xlabel('K')\n",
    "plt.ylabel('RMSE')\n",
    "plt.title('Elbow Curve')"
   ]
  },
  {
   "cell_type": "markdown",
   "id": "6838067b",
   "metadata": {},
   "source": [
    "# Hyperparameter tuning with GridSearchCV"
   ]
  },
  {
   "cell_type": "code",
   "execution_count": 58,
   "id": "9dc6b903",
   "metadata": {},
   "outputs": [
    {
     "name": "stdout",
     "output_type": "stream",
     "text": [
      "KNeighborsRegressor(n_neighbors=9)\n"
     ]
    }
   ],
   "source": [
    "grid_params = {'n_neighbors' : [2,3,4,5,6,7,8,9]}\n",
    "knn = KNeighborsRegressor()\n",
    "model_best = GridSearchCV(knn, grid_params, cv=5)\n",
    "model_best.fit(X_train, y_train)\n",
    "y_pred_knn_best = model_best.predict(X_test)\n",
    "print(model_best.best_estimator_)"
   ]
  },
  {
   "cell_type": "code",
   "execution_count": 59,
   "id": "d135d3bb",
   "metadata": {},
   "outputs": [
    {
     "name": "stdout",
     "output_type": "stream",
     "text": [
      "[-0.01966048 -0.04335367  0.00095466 -0.18434423 -0.05111994]\n"
     ]
    }
   ],
   "source": [
    "cv_knn_best = cross_val_score(model_best, X_train, y_train, cv=5)\n",
    "print(cv_knn_best)"
   ]
  },
  {
   "cell_type": "code",
   "execution_count": 60,
   "id": "7ce6f151",
   "metadata": {},
   "outputs": [
    {
     "data": {
      "text/plain": [
       "(-0.05950473200807871, 0.06505223157273421)"
      ]
     },
     "execution_count": 60,
     "metadata": {},
     "output_type": "execute_result"
    }
   ],
   "source": [
    "np.mean(cv_knn_best), np.std(cv_knn_best)"
   ]
  },
  {
   "cell_type": "code",
   "execution_count": 61,
   "id": "bcc729aa",
   "metadata": {},
   "outputs": [
    {
     "data": {
      "text/plain": [
       "-0.012786613880408915"
      ]
     },
     "execution_count": 61,
     "metadata": {},
     "output_type": "execute_result"
    }
   ],
   "source": [
    "r2_score(y_test, y_pred_knn_best)"
   ]
  },
  {
   "cell_type": "code",
   "execution_count": 62,
   "id": "25a645f5",
   "metadata": {},
   "outputs": [
    {
     "data": {
      "text/plain": [
       "111.94575373212236"
      ]
     },
     "execution_count": 62,
     "metadata": {},
     "output_type": "execute_result"
    }
   ],
   "source": [
    "mean_absolute_error(y_test, y_pred_knn_best)"
   ]
  },
  {
   "cell_type": "markdown",
   "id": "f451801a",
   "metadata": {},
   "source": [
    "# Negative MAE Comparison  "
   ]
  },
  {
   "cell_type": "code",
   "execution_count": 63,
   "id": "18be1c07",
   "metadata": {},
   "outputs": [],
   "source": [
    "lr_neg_mae = cross_val_score(lr_grid_cv.best_estimator_, X_train, y_train, \n",
    "                            scoring='neg_mean_absolute_error', cv=5, n_jobs=-1)"
   ]
  },
  {
   "cell_type": "code",
   "execution_count": 64,
   "id": "28ee6f17",
   "metadata": {},
   "outputs": [
    {
     "data": {
      "text/plain": [
       "(111.94781214474362, 2.465080987797808)"
      ]
     },
     "execution_count": 64,
     "metadata": {},
     "output_type": "execute_result"
    }
   ],
   "source": [
    "lr_mae_mean = np.mean(-1 * lr_neg_mae)\n",
    "lr_mae_std = np.std(-1 * lr_neg_mae)\n",
    "lr_mae_mean, lr_mae_std"
   ]
  },
  {
   "cell_type": "code",
   "execution_count": 65,
   "id": "f5479469",
   "metadata": {},
   "outputs": [
    {
     "data": {
      "text/plain": [
       "111.5633100716542"
      ]
     },
     "execution_count": 65,
     "metadata": {},
     "output_type": "execute_result"
    }
   ],
   "source": [
    "mean_absolute_error(y_test, lr_grid_cv.best_estimator_.predict(X_test))"
   ]
  },
  {
   "cell_type": "code",
   "execution_count": 66,
   "id": "91de610b",
   "metadata": {},
   "outputs": [],
   "source": [
    "rf_neg_mae = cross_val_score(rf_grid_cv.best_estimator_, X_train, y_train, \n",
    "                            scoring='neg_mean_absolute_error', cv=5, n_jobs=-1)"
   ]
  },
  {
   "cell_type": "code",
   "execution_count": 67,
   "id": "c9a052e9",
   "metadata": {},
   "outputs": [
    {
     "data": {
      "text/plain": [
       "(114.63877276731918, 1.8623230556599901)"
      ]
     },
     "execution_count": 67,
     "metadata": {},
     "output_type": "execute_result"
    }
   ],
   "source": [
    "rf_mae_mean = np.mean(-1 * rf_neg_mae)\n",
    "rf_mae_std = np.std(-1 * rf_neg_mae)\n",
    "rf_mae_mean, rf_mae_std"
   ]
  },
  {
   "cell_type": "code",
   "execution_count": 68,
   "id": "f3f9eeaf",
   "metadata": {},
   "outputs": [
    {
     "data": {
      "text/plain": [
       "113.1671713055954"
      ]
     },
     "execution_count": 68,
     "metadata": {},
     "output_type": "execute_result"
    }
   ],
   "source": [
    "mean_absolute_error(y_test, rf_grid_cv.best_estimator_.predict(X_test))"
   ]
  },
  {
   "cell_type": "code",
   "execution_count": 69,
   "id": "ea57e0aa",
   "metadata": {},
   "outputs": [],
   "source": [
    "knn_neg_mae = cross_val_score(model_best.best_estimator_, X_train, y_train, scoring = 'neg_mean_absolute_error', cv=5, n_jobs=-1)"
   ]
  },
  {
   "cell_type": "code",
   "execution_count": 70,
   "id": "c8686b6d",
   "metadata": {},
   "outputs": [
    {
     "data": {
      "text/plain": [
       "(113.32642244593585, 2.1228479800309468)"
      ]
     },
     "execution_count": 70,
     "metadata": {},
     "output_type": "execute_result"
    }
   ],
   "source": [
    "knn_neg_mae_mean = np.mean(-1 * knn_neg_mae)\n",
    "knn_neg_mae_std = np.std(-1 * knn_neg_mae)\n",
    "knn_neg_mae_mean, knn_neg_mae_std"
   ]
  },
  {
   "cell_type": "code",
   "execution_count": 71,
   "id": "90921150",
   "metadata": {},
   "outputs": [
    {
     "data": {
      "text/plain": [
       "111.94575373212236"
      ]
     },
     "execution_count": 71,
     "metadata": {},
     "output_type": "execute_result"
    }
   ],
   "source": [
    "mean_absolute_error(y_test,model_best.best_estimator_.predict(X_test))"
   ]
  },
  {
   "cell_type": "markdown",
   "id": "81dd017f",
   "metadata": {},
   "source": [
    "# Conclusion"
   ]
  },
  {
   "cell_type": "markdown",
   "id": "d7ece07c",
   "metadata": {},
   "source": [
    "After cross-validating and hyperparameter tuning with grid search CV on all three models, it appears that the best performing model in terms of mean absolute error is the Linear Regression model, as  it had the lowest MAE out of all models (111.5633100716542),  although it had the highest variability in MAE (2.465080987797808) after hyperparameter tuning. The KNN Regression model is the second best performing model, because it had a slightly higher MAE (111.94575373212236) (but still lower than the RF regression model) as well as second lowest variability (2.12284798003094683). The Random Forest Regression model was the worst performing with the highest MAE (113.1671713055954), however it had the lowest variability out of all 3 models (1.8623230556599901). \n",
    "\n",
    "The results suggest that the Linear Regression model had the most accuracy of predicting price in in dollar terms. It was more accurate than the KNN Regression model by 0.38 dollars, and more accurate than the RF Regression model by $1.60. Interestingly though, the MAE standard deviation calculations for each model suggest that the Random Forest model will preidct prices with the least variability.\n",
    "\n",
    "Since the Linear Regression model showed to be the most accurate model to predict listing price, I will proceed with using this model over the KNN Regression or RF Regression Models. \n",
    "\n",
    "It is also important to note that the most useful feature revealed by the Linear Regression Model to predict price was the listing avaialibility throughout the year."
   ]
  },
  {
   "cell_type": "code",
   "execution_count": 130,
   "id": "9b1aae64",
   "metadata": {},
   "outputs": [],
   "source": [
    "import joblib"
   ]
  },
  {
   "cell_type": "code",
   "execution_count": 133,
   "id": "8cce7ff2",
   "metadata": {},
   "outputs": [
    {
     "data": {
      "text/plain": [
       "['RF Regression Model for Price Prediction.sav']"
      ]
     },
     "execution_count": 133,
     "metadata": {},
     "output_type": "execute_result"
    }
   ],
   "source": [
    "model = rf_best\n",
    "filename = 'RF Regression Model for Price Prediction.sav'\n",
    "joblib.dump(model, filename)"
   ]
  },
  {
   "cell_type": "code",
   "execution_count": null,
   "id": "d283590d",
   "metadata": {},
   "outputs": [],
   "source": []
  }
 ],
 "metadata": {
  "kernelspec": {
   "display_name": "Python 3",
   "language": "python",
   "name": "python3"
  },
  "language_info": {
   "codemirror_mode": {
    "name": "ipython",
    "version": 3
   },
   "file_extension": ".py",
   "mimetype": "text/x-python",
   "name": "python",
   "nbconvert_exporter": "python",
   "pygments_lexer": "ipython3",
   "version": "3.8.8"
  }
 },
 "nbformat": 4,
 "nbformat_minor": 5
}
