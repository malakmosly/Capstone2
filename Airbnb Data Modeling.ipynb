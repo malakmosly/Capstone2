{
 "cells": [
  {
   "cell_type": "code",
   "execution_count": 1,
   "id": "d4481589",
   "metadata": {},
   "outputs": [],
   "source": [
    "#Linear Reg, KNN, RF Model\n",
    "#Cross Validation & MAE\n",
    "#Grid Search CV for hyperparameter tuning RF Model"
   ]
  },
  {
   "cell_type": "code",
   "execution_count": 74,
   "id": "d52b7f97",
   "metadata": {},
   "outputs": [],
   "source": [
    "import pandas as pd\n",
    "import numpy as np\n",
    "import matplotlib.pyplot as plt\n",
    "from sklearn.preprocessing import StandardScaler\n",
    "from sklearn.model_selection import train_test_split, cross_val_score, GridSearchCV\n",
    "from sklearn.linear_model import LinearRegression\n",
    "from sklearn.ensemble import RandomForestRegressor\n",
    "from sklearn.pipeline import make_pipeline\n",
    "from sklearn.neighbors import KNeighborsRegressor\n",
    "from sklearn.metrics import r2_score, mean_squared_error, mean_absolute_error\n",
    "from sklearn.feature_selection import SelectKBest, f_regression"
   ]
  },
  {
   "cell_type": "code",
   "execution_count": 3,
   "id": "a8e87705",
   "metadata": {},
   "outputs": [],
   "source": [
    "df = pd.read_csv(\"Scaled Cleaned Airbnb Data.csv\")"
   ]
  },
  {
   "cell_type": "code",
   "execution_count": 4,
   "id": "dd2c7304",
   "metadata": {},
   "outputs": [
    {
     "data": {
      "text/html": [
       "<div>\n",
       "<style scoped>\n",
       "    .dataframe tbody tr th:only-of-type {\n",
       "        vertical-align: middle;\n",
       "    }\n",
       "\n",
       "    .dataframe tbody tr th {\n",
       "        vertical-align: top;\n",
       "    }\n",
       "\n",
       "    .dataframe thead th {\n",
       "        text-align: right;\n",
       "    }\n",
       "</style>\n",
       "<table border=\"1\" class=\"dataframe\">\n",
       "  <thead>\n",
       "    <tr style=\"text-align: right;\">\n",
       "      <th></th>\n",
       "      <th>Unnamed: 0</th>\n",
       "      <th>Unnamed: 0.1</th>\n",
       "      <th>id</th>\n",
       "      <th>host_id</th>\n",
       "      <th>latitude</th>\n",
       "      <th>longitude</th>\n",
       "      <th>price</th>\n",
       "      <th>minimum_nights</th>\n",
       "      <th>number_of_reviews</th>\n",
       "      <th>reviews_per_month</th>\n",
       "      <th>calculated_host_listings_count</th>\n",
       "      <th>availability_365</th>\n",
       "    </tr>\n",
       "  </thead>\n",
       "  <tbody>\n",
       "    <tr>\n",
       "      <th>0</th>\n",
       "      <td>0</td>\n",
       "      <td>-1.507086</td>\n",
       "      <td>-1.762305</td>\n",
       "      <td>-0.909332</td>\n",
       "      <td>-1.896695</td>\n",
       "      <td>-1.521590</td>\n",
       "      <td>-0.298959</td>\n",
       "      <td>-0.343030</td>\n",
       "      <td>0.070068</td>\n",
       "      <td>-0.478757</td>\n",
       "      <td>-0.281507</td>\n",
       "      <td>1.464175</td>\n",
       "    </tr>\n",
       "    <tr>\n",
       "      <th>1</th>\n",
       "      <td>1</td>\n",
       "      <td>-1.507063</td>\n",
       "      <td>-1.762289</td>\n",
       "      <td>-0.909328</td>\n",
       "      <td>-1.898370</td>\n",
       "      <td>-1.529925</td>\n",
       "      <td>-0.167746</td>\n",
       "      <td>0.847045</td>\n",
       "      <td>-0.449823</td>\n",
       "      <td>-0.722354</td>\n",
       "      <td>-0.198516</td>\n",
       "      <td>0.728599</td>\n",
       "    </tr>\n",
       "    <tr>\n",
       "      <th>2</th>\n",
       "      <td>2</td>\n",
       "      <td>-1.507040</td>\n",
       "      <td>-1.762280</td>\n",
       "      <td>-0.909326</td>\n",
       "      <td>-1.972065</td>\n",
       "      <td>-1.535455</td>\n",
       "      <td>-0.298959</td>\n",
       "      <td>-0.215522</td>\n",
       "      <td>2.117138</td>\n",
       "      <td>0.096401</td>\n",
       "      <td>-0.253843</td>\n",
       "      <td>0.594215</td>\n",
       "    </tr>\n",
       "    <tr>\n",
       "      <th>3</th>\n",
       "      <td>3</td>\n",
       "      <td>-1.507017</td>\n",
       "      <td>-1.762280</td>\n",
       "      <td>-0.909326</td>\n",
       "      <td>-1.955633</td>\n",
       "      <td>-1.538012</td>\n",
       "      <td>0.219167</td>\n",
       "      <td>-0.173019</td>\n",
       "      <td>-0.287357</td>\n",
       "      <td>-0.620855</td>\n",
       "      <td>-0.253843</td>\n",
       "      <td>0.912493</td>\n",
       "    </tr>\n",
       "    <tr>\n",
       "      <th>4</th>\n",
       "      <td>4</td>\n",
       "      <td>-1.506994</td>\n",
       "      <td>-1.762280</td>\n",
       "      <td>-0.909325</td>\n",
       "      <td>-1.669000</td>\n",
       "      <td>-1.646581</td>\n",
       "      <td>-0.275408</td>\n",
       "      <td>-0.300527</td>\n",
       "      <td>1.710973</td>\n",
       "      <td>-0.086297</td>\n",
       "      <td>-0.309170</td>\n",
       "      <td>-0.296964</td>\n",
       "    </tr>\n",
       "  </tbody>\n",
       "</table>\n",
       "</div>"
      ],
      "text/plain": [
       "   Unnamed: 0  Unnamed: 0.1        id   host_id  latitude  longitude  \\\n",
       "0           0     -1.507086 -1.762305 -0.909332 -1.896695  -1.521590   \n",
       "1           1     -1.507063 -1.762289 -0.909328 -1.898370  -1.529925   \n",
       "2           2     -1.507040 -1.762280 -0.909326 -1.972065  -1.535455   \n",
       "3           3     -1.507017 -1.762280 -0.909326 -1.955633  -1.538012   \n",
       "4           4     -1.506994 -1.762280 -0.909325 -1.669000  -1.646581   \n",
       "\n",
       "      price  minimum_nights  number_of_reviews  reviews_per_month  \\\n",
       "0 -0.298959       -0.343030           0.070068          -0.478757   \n",
       "1 -0.167746        0.847045          -0.449823          -0.722354   \n",
       "2 -0.298959       -0.215522           2.117138           0.096401   \n",
       "3  0.219167       -0.173019          -0.287357          -0.620855   \n",
       "4 -0.275408       -0.300527           1.710973          -0.086297   \n",
       "\n",
       "   calculated_host_listings_count  availability_365  \n",
       "0                       -0.281507          1.464175  \n",
       "1                       -0.198516          0.728599  \n",
       "2                       -0.253843          0.594215  \n",
       "3                       -0.253843          0.912493  \n",
       "4                       -0.309170         -0.296964  "
      ]
     },
     "execution_count": 4,
     "metadata": {},
     "output_type": "execute_result"
    }
   ],
   "source": [
    "df.head()"
   ]
  },
  {
   "cell_type": "code",
   "execution_count": 5,
   "id": "1fe7d90c",
   "metadata": {},
   "outputs": [],
   "source": [
    "X_train, X_test, y_train, y_test= train_test_split(df.drop(columns='price'), df.price, test_size=0.3, random_state=47)"
   ]
  },
  {
   "cell_type": "code",
   "execution_count": 6,
   "id": "a2430caa",
   "metadata": {},
   "outputs": [
    {
     "data": {
      "text/plain": [
       "((59600, 11), (25544, 11))"
      ]
     },
     "execution_count": 6,
     "metadata": {},
     "output_type": "execute_result"
    }
   ],
   "source": [
    "X_train.shape, X_test.shape"
   ]
  },
  {
   "cell_type": "code",
   "execution_count": 7,
   "id": "fadd83fc",
   "metadata": {},
   "outputs": [
    {
     "data": {
      "text/plain": [
       "((59600,), (25544,))"
      ]
     },
     "execution_count": 7,
     "metadata": {},
     "output_type": "execute_result"
    }
   ],
   "source": [
    "y_train.shape, y_test.shape"
   ]
  },
  {
   "cell_type": "code",
   "execution_count": 8,
   "id": "158b1255",
   "metadata": {},
   "outputs": [
    {
     "data": {
      "text/plain": [
       "Unnamed: 0                          int64\n",
       "Unnamed: 0.1                      float64\n",
       "id                                float64\n",
       "host_id                           float64\n",
       "latitude                          float64\n",
       "longitude                         float64\n",
       "minimum_nights                    float64\n",
       "number_of_reviews                 float64\n",
       "reviews_per_month                 float64\n",
       "calculated_host_listings_count    float64\n",
       "availability_365                  float64\n",
       "dtype: object"
      ]
     },
     "execution_count": 8,
     "metadata": {},
     "output_type": "execute_result"
    }
   ],
   "source": [
    "X_train.dtypes"
   ]
  },
  {
   "cell_type": "markdown",
   "id": "a19ee264",
   "metadata": {},
   "source": [
    "# First Model: Linear Regression"
   ]
  },
  {
   "cell_type": "code",
   "execution_count": 9,
   "id": "7a08d00f",
   "metadata": {},
   "outputs": [],
   "source": [
    "clm = LinearRegression()"
   ]
  },
  {
   "cell_type": "code",
   "execution_count": 10,
   "id": "fbe261cd",
   "metadata": {},
   "outputs": [
    {
     "data": {
      "text/plain": [
       "LinearRegression()"
      ]
     },
     "execution_count": 10,
     "metadata": {},
     "output_type": "execute_result"
    }
   ],
   "source": [
    "clm.fit(X_train, y_train)"
   ]
  },
  {
   "cell_type": "code",
   "execution_count": 11,
   "id": "f9bf9b1f",
   "metadata": {},
   "outputs": [],
   "source": [
    "y_train_pred = clm.predict(X_train)\n",
    "y_test_pred = clm.predict(X_test)"
   ]
  },
  {
   "cell_type": "markdown",
   "id": "bcda20b7",
   "metadata": {},
   "source": [
    "# Model Assessment"
   ]
  },
  {
   "cell_type": "code",
   "execution_count": 12,
   "id": "73b8c94d",
   "metadata": {},
   "outputs": [
    {
     "data": {
      "text/plain": [
       "(0.022405559641114015, 0.02546461956046464)"
      ]
     },
     "execution_count": 12,
     "metadata": {},
     "output_type": "execute_result"
    }
   ],
   "source": [
    "r2_score(y_train, y_train_pred), r2_score(y_test, y_test_pred)"
   ]
  },
  {
   "cell_type": "code",
   "execution_count": 13,
   "id": "af69301e",
   "metadata": {},
   "outputs": [
    {
     "data": {
      "text/plain": [
       "(0.37141733805648214, 0.3698981018126119)"
      ]
     },
     "execution_count": 13,
     "metadata": {},
     "output_type": "execute_result"
    }
   ],
   "source": [
    "mean_absolute_error(y_train, y_train_pred), mean_absolute_error(y_test, y_test_pred)"
   ]
  },
  {
   "cell_type": "code",
   "execution_count": 14,
   "id": "35b979b3",
   "metadata": {},
   "outputs": [
    {
     "data": {
      "text/plain": [
       "array([0.02497732, 0.02562849, 0.01247126, 0.03636601, 0.02639246])"
      ]
     },
     "execution_count": 14,
     "metadata": {},
     "output_type": "execute_result"
    }
   ],
   "source": [
    "cv_results = cross_val_score(clm, X_train, y_train, cv = 5)\n",
    "cv_results"
   ]
  },
  {
   "cell_type": "code",
   "execution_count": 15,
   "id": "44859ee2",
   "metadata": {},
   "outputs": [
    {
     "data": {
      "text/plain": [
       "(0.0251671088879754, 0.007594083752756104)"
      ]
     },
     "execution_count": 15,
     "metadata": {},
     "output_type": "execute_result"
    }
   ],
   "source": [
    "np.mean(cv_results), np.std(cv_results)"
   ]
  },
  {
   "cell_type": "code",
   "execution_count": 16,
   "id": "91ab7562",
   "metadata": {},
   "outputs": [
    {
     "data": {
      "text/plain": [
       "array([0.01, 0.04])"
      ]
     },
     "execution_count": 16,
     "metadata": {},
     "output_type": "execute_result"
    }
   ],
   "source": [
    "np.round((np.mean(cv_results) - 2 * np.std(cv_results), np.mean(cv_results) + 2 * np.std(cv_results)), 2)"
   ]
  },
  {
   "cell_type": "markdown",
   "id": "5dc6a005",
   "metadata": {},
   "source": [
    "# Hyperparameter tuning with GridSearchCV "
   ]
  },
  {
   "cell_type": "code",
   "execution_count": 86,
   "id": "618d3861",
   "metadata": {},
   "outputs": [],
   "source": [
    "pipe = make_pipeline(SelectKBest(f_regression), LinearRegression())"
   ]
  },
  {
   "cell_type": "code",
   "execution_count": 87,
   "id": "45114ff5",
   "metadata": {},
   "outputs": [
    {
     "data": {
      "text/plain": [
       "Pipeline(steps=[('selectkbest',\n",
       "                 SelectKBest(score_func=<function f_regression at 0x0000027D5C8908B0>)),\n",
       "                ('linearregression', LinearRegression())])"
      ]
     },
     "execution_count": 87,
     "metadata": {},
     "output_type": "execute_result"
    }
   ],
   "source": [
    "pipe.fit(X_train, y_train)"
   ]
  },
  {
   "cell_type": "code",
   "execution_count": 88,
   "id": "92f4cdfe",
   "metadata": {},
   "outputs": [],
   "source": [
    "y_tr_pred = pipe.predict(X_train)\n",
    "y_te_pred = pipe.predict(X_test)"
   ]
  },
  {
   "cell_type": "code",
   "execution_count": 89,
   "id": "436442fd",
   "metadata": {},
   "outputs": [
    {
     "data": {
      "text/plain": [
       "(0.02073590129987113, 0.023760178314726543)"
      ]
     },
     "execution_count": 89,
     "metadata": {},
     "output_type": "execute_result"
    }
   ],
   "source": [
    "r2_score(y_train, y_tr_pred), r2_score(y_test, y_te_pred)"
   ]
  },
  {
   "cell_type": "code",
   "execution_count": 90,
   "id": "7a004774",
   "metadata": {},
   "outputs": [
    {
     "data": {
      "text/plain": [
       "(0.37226422917093316, 0.3707151232866031)"
      ]
     },
     "execution_count": 90,
     "metadata": {},
     "output_type": "execute_result"
    }
   ],
   "source": [
    "mean_absolute_error(y_train, y_tr_pred), mean_absolute_error(y_test, y_te_pred)"
   ]
  },
  {
   "cell_type": "code",
   "execution_count": 91,
   "id": "9a1dfca9",
   "metadata": {},
   "outputs": [
    {
     "name": "stdout",
     "output_type": "stream",
     "text": [
      "[0.02416501 0.02358267 0.01152446 0.03185088 0.02444227]\n"
     ]
    }
   ],
   "source": [
    "cv_results2 = cross_val_score(pipe, X_train, y_train, cv=5)\n",
    "print(cv_results2)"
   ]
  },
  {
   "cell_type": "code",
   "execution_count": 92,
   "id": "ead47193",
   "metadata": {},
   "outputs": [
    {
     "data": {
      "text/plain": [
       "(0.023113056987165547, 0.006538180157397594)"
      ]
     },
     "execution_count": 92,
     "metadata": {},
     "output_type": "execute_result"
    }
   ],
   "source": [
    "np.mean(cv_results2), np.std(cv_results2)"
   ]
  },
  {
   "cell_type": "code",
   "execution_count": 93,
   "id": "b5bd8e17",
   "metadata": {},
   "outputs": [
    {
     "data": {
      "text/plain": [
       "array([0.01, 0.04])"
      ]
     },
     "execution_count": 93,
     "metadata": {},
     "output_type": "execute_result"
    }
   ],
   "source": [
    "np.round((np.mean(cv_results2) - 2 * np.std(cv_results2), np.mean(cv_results2) + 2 * np.std(cv_results2)), 2)"
   ]
  },
  {
   "cell_type": "code",
   "execution_count": 95,
   "id": "f4fe3e34",
   "metadata": {},
   "outputs": [],
   "source": [
    "k  =[k+1 for k in range(len(X_train.columns))]\n",
    "params = {'selectkbest__k': k}"
   ]
  },
  {
   "cell_type": "code",
   "execution_count": 96,
   "id": "b2e4a4eb",
   "metadata": {},
   "outputs": [],
   "source": [
    "lr_grid_cv = GridSearchCV(pipe, param_grid = params, cv=5, n_jobs=-1)"
   ]
  },
  {
   "cell_type": "code",
   "execution_count": 97,
   "id": "49bd36d9",
   "metadata": {},
   "outputs": [
    {
     "data": {
      "text/plain": [
       "GridSearchCV(cv=5,\n",
       "             estimator=Pipeline(steps=[('selectkbest',\n",
       "                                        SelectKBest(score_func=<function f_regression at 0x0000027D5C8908B0>)),\n",
       "                                       ('linearregression',\n",
       "                                        LinearRegression())]),\n",
       "             n_jobs=-1,\n",
       "             param_grid={'selectkbest__k': [1, 2, 3, 4, 5, 6, 7, 8, 9, 10, 11]})"
      ]
     },
     "execution_count": 97,
     "metadata": {},
     "output_type": "execute_result"
    }
   ],
   "source": [
    "lr_grid_cv.fit(X_train, y_train)"
   ]
  },
  {
   "cell_type": "code",
   "execution_count": 99,
   "id": "30784ade",
   "metadata": {},
   "outputs": [
    {
     "data": {
      "text/plain": [
       "{'selectkbest__k': 11}"
      ]
     },
     "execution_count": 99,
     "metadata": {},
     "output_type": "execute_result"
    }
   ],
   "source": [
    "lr_grid_cv.best_params_"
   ]
  },
  {
   "cell_type": "code",
   "execution_count": 100,
   "id": "cb0e1b42",
   "metadata": {},
   "outputs": [],
   "source": [
    "pipe_best = make_pipeline(SelectKBest(f_regression, k=11), LinearRegression())"
   ]
  },
  {
   "cell_type": "code",
   "execution_count": 101,
   "id": "85495e05",
   "metadata": {},
   "outputs": [],
   "source": [
    "pipe_best.fit(X_train, y_train)\n",
    "y_pr_lr = pipe_best.predict(X_test)"
   ]
  },
  {
   "cell_type": "code",
   "execution_count": 102,
   "id": "839569f2",
   "metadata": {},
   "outputs": [
    {
     "data": {
      "text/plain": [
       "0.02546461956046464"
      ]
     },
     "execution_count": 102,
     "metadata": {},
     "output_type": "execute_result"
    }
   ],
   "source": [
    "r2_score(y_test, y_pr_lr)"
   ]
  },
  {
   "cell_type": "code",
   "execution_count": 103,
   "id": "579528b9",
   "metadata": {},
   "outputs": [
    {
     "data": {
      "text/plain": [
       "0.3698981018126119"
      ]
     },
     "execution_count": 103,
     "metadata": {},
     "output_type": "execute_result"
    }
   ],
   "source": [
    "mean_absolute_error(y_test, y_pr_lr)"
   ]
  },
  {
   "cell_type": "code",
   "execution_count": 104,
   "id": "09b943d6",
   "metadata": {},
   "outputs": [
    {
     "name": "stdout",
     "output_type": "stream",
     "text": [
      "[0.02497732 0.02562849 0.01247126 0.03636601 0.02639246]\n"
     ]
    }
   ],
   "source": [
    "cv_best = cross_val_score(pipe_best, X_train, y_train, cv=5)\n",
    "print(cv_best)"
   ]
  },
  {
   "cell_type": "code",
   "execution_count": 105,
   "id": "32fc2bb3",
   "metadata": {},
   "outputs": [
    {
     "data": {
      "text/plain": [
       "(0.0251671088879754, 0.007594083752756104)"
      ]
     },
     "execution_count": 105,
     "metadata": {},
     "output_type": "execute_result"
    }
   ],
   "source": [
    "np.mean(cv_best), np.std(cv_best)"
   ]
  },
  {
   "cell_type": "code",
   "execution_count": 106,
   "id": "c1e2e01e",
   "metadata": {},
   "outputs": [
    {
     "data": {
      "text/plain": [
       "array([0.01, 0.04])"
      ]
     },
     "execution_count": 106,
     "metadata": {},
     "output_type": "execute_result"
    }
   ],
   "source": [
    "np.round((np.mean(cv_best) - 2 * np.std(cv_best), np.mean(cv_best) + 2 * np.std(cv_best)), 2)"
   ]
  },
  {
   "cell_type": "markdown",
   "id": "a1cace9c",
   "metadata": {},
   "source": [
    "# Most Useful Features"
   ]
  },
  {
   "cell_type": "code",
   "execution_count": 107,
   "id": "72c0455f",
   "metadata": {},
   "outputs": [],
   "source": [
    "selected = lr_grid_cv.best_estimator_.named_steps.selectkbest.get_support()"
   ]
  },
  {
   "cell_type": "code",
   "execution_count": 108,
   "id": "02900780",
   "metadata": {},
   "outputs": [
    {
     "data": {
      "text/plain": [
       "availability_365                  0.061034\n",
       "calculated_host_listings_count    0.020012\n",
       "Unnamed: 0                        0.000031\n",
       "host_id                          -0.011149\n",
       "minimum_nights                   -0.017702\n",
       "reviews_per_month                -0.026784\n",
       "latitude                         -0.065729\n",
       "number_of_reviews                -0.069309\n",
       "id                               -0.132045\n",
       "longitude                        -0.232475\n",
       "Unnamed: 0.1                     -0.582340\n",
       "dtype: float64"
      ]
     },
     "execution_count": 108,
     "metadata": {},
     "output_type": "execute_result"
    }
   ],
   "source": [
    "coefs = lr_grid_cv.best_estimator_.named_steps.linearregression.coef_\n",
    "features = X_train.columns[selected]\n",
    "pd.Series(coefs, index=features).sort_values(ascending=False)"
   ]
  },
  {
   "cell_type": "markdown",
   "id": "a338111b",
   "metadata": {},
   "source": [
    "It appears that out of all features, according to this model, the availability throughout the year of a listing is the largest positive feature to predict price."
   ]
  },
  {
   "cell_type": "markdown",
   "id": "73bc4d0a",
   "metadata": {},
   "source": [
    "# Second Model: Random Forest Model"
   ]
  },
  {
   "cell_type": "code",
   "execution_count": 17,
   "id": "62186b34",
   "metadata": {},
   "outputs": [],
   "source": [
    "rf = RandomForestRegressor()\n",
    "rf.fit(X_train, y_train)\n",
    "\n",
    "y_pred_rf = rf.predict(X_test)"
   ]
  },
  {
   "cell_type": "markdown",
   "id": "d231f564",
   "metadata": {},
   "source": [
    "# Model Assessment"
   ]
  },
  {
   "cell_type": "code",
   "execution_count": 18,
   "id": "4de2e6d1",
   "metadata": {},
   "outputs": [
    {
     "name": "stdout",
     "output_type": "stream",
     "text": [
      "[0.03358853 0.1763723  0.08175665 0.1143324  0.20833678]\n"
     ]
    }
   ],
   "source": [
    "rf_cv_scores = cross_val_score(rf, X_train, y_train, cv=5)\n",
    "print(rf_cv_scores)"
   ]
  },
  {
   "cell_type": "code",
   "execution_count": 19,
   "id": "e54296b8",
   "metadata": {},
   "outputs": [
    {
     "data": {
      "text/plain": [
       "(0.12287733111250496, 0.0630895315084631)"
      ]
     },
     "execution_count": 19,
     "metadata": {},
     "output_type": "execute_result"
    }
   ],
   "source": [
    "np.mean(rf_cv_scores), np.std(rf_cv_scores)"
   ]
  },
  {
   "cell_type": "code",
   "execution_count": 32,
   "id": "e6e01f8c",
   "metadata": {},
   "outputs": [
    {
     "data": {
      "text/plain": [
       "0.18047471734751108"
      ]
     },
     "execution_count": 32,
     "metadata": {},
     "output_type": "execute_result"
    }
   ],
   "source": [
    "r2_score(y_test, y_pred_rf)"
   ]
  },
  {
   "cell_type": "code",
   "execution_count": 31,
   "id": "7f2140d3",
   "metadata": {},
   "outputs": [
    {
     "data": {
      "text/plain": [
       "0.3064020071861519"
      ]
     },
     "execution_count": 31,
     "metadata": {},
     "output_type": "execute_result"
    }
   ],
   "source": [
    "mean_absolute_error(y_test, y_pred_rf)"
   ]
  },
  {
   "cell_type": "markdown",
   "id": "87790699",
   "metadata": {},
   "source": [
    "# Hyperparameter Tuning Using GridSearchCV "
   ]
  },
  {
   "cell_type": "code",
   "execution_count": 20,
   "id": "7ed2255f",
   "metadata": {},
   "outputs": [
    {
     "data": {
      "text/plain": [
       "dict_keys(['bootstrap', 'ccp_alpha', 'criterion', 'max_depth', 'max_features', 'max_leaf_nodes', 'max_samples', 'min_impurity_decrease', 'min_impurity_split', 'min_samples_leaf', 'min_samples_split', 'min_weight_fraction_leaf', 'n_estimators', 'n_jobs', 'oob_score', 'random_state', 'verbose', 'warm_start'])"
      ]
     },
     "execution_count": 20,
     "metadata": {},
     "output_type": "execute_result"
    }
   ],
   "source": [
    "rf.get_params().keys()"
   ]
  },
  {
   "cell_type": "code",
   "execution_count": 21,
   "id": "0ec7113e",
   "metadata": {},
   "outputs": [
    {
     "data": {
      "text/plain": [
       "{'n_estimators': [10,\n",
       "  12,\n",
       "  16,\n",
       "  20,\n",
       "  26,\n",
       "  33,\n",
       "  42,\n",
       "  54,\n",
       "  69,\n",
       "  88,\n",
       "  112,\n",
       "  143,\n",
       "  183,\n",
       "  233,\n",
       "  297,\n",
       "  379,\n",
       "  483,\n",
       "  615,\n",
       "  784,\n",
       "  1000]}"
      ]
     },
     "execution_count": 21,
     "metadata": {},
     "output_type": "execute_result"
    }
   ],
   "source": [
    "n_est = [int(n) for n in np.logspace(start=1, stop=3, num=20)]\n",
    "grid_params = {'n_estimators' : n_est}\n",
    "grid_params"
   ]
  },
  {
   "cell_type": "code",
   "execution_count": 22,
   "id": "5dcb41cf",
   "metadata": {},
   "outputs": [
    {
     "data": {
      "text/plain": [
       "GridSearchCV(cv=5, estimator=RandomForestRegressor(), n_jobs=-1,\n",
       "             param_grid={'n_estimators': [10, 12, 16, 20, 26, 33, 42, 54, 69,\n",
       "                                          88, 112, 143, 183, 233, 297, 379, 483,\n",
       "                                          615, 784, 1000]})"
      ]
     },
     "execution_count": 22,
     "metadata": {},
     "output_type": "execute_result"
    }
   ],
   "source": [
    "rf_grid_cv = GridSearchCV(rf, param_grid = grid_params, cv=5, n_jobs=-1)\n",
    "rf_grid_cv.fit(X_train, y_train)"
   ]
  },
  {
   "cell_type": "code",
   "execution_count": 27,
   "id": "61a4301a",
   "metadata": {},
   "outputs": [
    {
     "name": "stdout",
     "output_type": "stream",
     "text": [
      "RandomForestRegressor(n_estimators=297)\n",
      "{'n_estimators': 297}\n"
     ]
    }
   ],
   "source": [
    "print(rf_grid_cv.best_estimator_)\n",
    "print(rf_grid_cv.best_params_)"
   ]
  },
  {
   "cell_type": "code",
   "execution_count": 26,
   "id": "af89a09f",
   "metadata": {},
   "outputs": [],
   "source": [
    "rf_best = RandomForestRegressor(n_estimators=297)\n",
    "rf_best.fit(X_train, y_train)\n",
    "y_pr_best_rf = rf_best.predict(X_test)"
   ]
  },
  {
   "cell_type": "code",
   "execution_count": 28,
   "id": "797e7256",
   "metadata": {},
   "outputs": [
    {
     "name": "stdout",
     "output_type": "stream",
     "text": [
      "[0.07176002 0.19561806 0.08330999 0.06767606 0.21357905]\n"
     ]
    }
   ],
   "source": [
    "cv_rf_best = cross_val_score(rf_best, X_train, y_train, cv=5)\n",
    "print(cv_rf_best)"
   ]
  },
  {
   "cell_type": "code",
   "execution_count": 29,
   "id": "a1f53ef0",
   "metadata": {},
   "outputs": [
    {
     "data": {
      "text/plain": [
       "(0.12638863491418956, 0.06431501163350999)"
      ]
     },
     "execution_count": 29,
     "metadata": {},
     "output_type": "execute_result"
    }
   ],
   "source": [
    "np.mean(cv_rf_best), np.std(cv_rf_best)"
   ]
  },
  {
   "cell_type": "code",
   "execution_count": 51,
   "id": "bdedce8f",
   "metadata": {},
   "outputs": [
    {
     "data": {
      "text/plain": [
       "0.30495145599736806"
      ]
     },
     "execution_count": 51,
     "metadata": {},
     "output_type": "execute_result"
    }
   ],
   "source": [
    "mean_absolute_error(y_test, y_pr_best_rf)"
   ]
  },
  {
   "cell_type": "markdown",
   "id": "7c3065fa",
   "metadata": {},
   "source": [
    "# Model 3: KNN Regression"
   ]
  },
  {
   "cell_type": "code",
   "execution_count": 35,
   "id": "bcdf2407",
   "metadata": {},
   "outputs": [
    {
     "name": "stdout",
     "output_type": "stream",
     "text": [
      "RMSE value for k=  1 is: 1.1335797964213858\n",
      "RMSE value for k=  2 is: 1.082775238870181\n",
      "RMSE value for k=  3 is: 1.0308329603065434\n",
      "RMSE value for k=  4 is: 1.0046909792509382\n",
      "RMSE value for k=  5 is: 0.9901022310298669\n",
      "RMSE value for k=  6 is: 0.9716998040239236\n",
      "RMSE value for k=  7 is: 0.9628634380219213\n",
      "RMSE value for k=  8 is: 0.9562333409198115\n",
      "RMSE value for k=  9 is: 0.9528492667731807\n",
      "RMSE value for k=  10 is: 0.9480160082147575\n",
      "RMSE value for k=  11 is: 0.9444981554913939\n",
      "RMSE value for k=  12 is: 0.9408048231323324\n",
      "RMSE value for k=  13 is: 0.9379325462368344\n",
      "RMSE value for k=  14 is: 0.9361747356090726\n",
      "RMSE value for k=  15 is: 0.9353767104510954\n",
      "RMSE value for k=  16 is: 0.93420026627702\n",
      "RMSE value for k=  17 is: 0.9332637062734015\n",
      "RMSE value for k=  18 is: 0.9319785619720602\n",
      "RMSE value for k=  19 is: 0.9307301558892032\n",
      "RMSE value for k=  20 is: 0.9297318916055868\n"
     ]
    }
   ],
   "source": [
    "rmse_val = []\n",
    "for K in range(20):\n",
    "    K= K+1\n",
    "    model = KNeighborsRegressor(n_neighbors=K)\n",
    "    \n",
    "    model.fit(X_train, y_train)\n",
    "    y_pred_knn = model.predict(X_test)\n",
    "    error = np.sqrt(mean_squared_error(y_test, y_pred_knn))\n",
    "    rmse_val.append(error)\n",
    "    print('RMSE value for k= ', K, 'is:', error)"
   ]
  },
  {
   "cell_type": "code",
   "execution_count": 39,
   "id": "34212e1a",
   "metadata": {},
   "outputs": [
    {
     "data": {
      "text/plain": [
       "Text(0.5, 1.0, 'Elbow Curve')"
      ]
     },
     "execution_count": 39,
     "metadata": {},
     "output_type": "execute_result"
    },
    {
     "data": {
      "image/png": "[encoded data removed]",
      "text/plain": [
       "<Figure size 432x288 with 1 Axes>"
      ]
     },
     "metadata": {
      "needs_background": "light"
     },
     "output_type": "display_data"
    }
   ],
   "source": [
    "elbow_curve = pd.DataFrame(rmse_val)\n",
    "elbow_curve.plot()\n",
    "plt.xlabel('K')\n",
    "plt.ylabel('RMSE')\n",
    "plt.title('Elbow Curve')"
   ]
  },
  {
   "cell_type": "markdown",
   "id": "6838067b",
   "metadata": {},
   "source": [
    "# Hyperparameter tuning with GridSearchCV"
   ]
  },
  {
   "cell_type": "code",
   "execution_count": 46,
   "id": "9dc6b903",
   "metadata": {},
   "outputs": [
    {
     "name": "stdout",
     "output_type": "stream",
     "text": [
      "KNeighborsRegressor(n_neighbors=9)\n"
     ]
    }
   ],
   "source": [
    "grid_params = {'n_neighbors' : [2,3,4,5,6,7,8,9]}\n",
    "knn = KNeighborsRegressor()\n",
    "model_best = GridSearchCV(knn, grid_params, cv=5)\n",
    "model_best.fit(X_train, y_train)\n",
    "y_pred_knn_best = model_best.predict(X_test)\n",
    "print(model_best.best_estimator_)"
   ]
  },
  {
   "cell_type": "code",
   "execution_count": 47,
   "id": "d135d3bb",
   "metadata": {},
   "outputs": [
    {
     "name": "stdout",
     "output_type": "stream",
     "text": [
      "[-0.05817228 -0.09694916 -0.02414444 -0.1733705  -0.07015246]\n"
     ]
    }
   ],
   "source": [
    "cv_knn_best = cross_val_score(model_best, X_train, y_train, cv=5)\n",
    "print(cv_knn_best)"
   ]
  },
  {
   "cell_type": "code",
   "execution_count": 48,
   "id": "7ce6f151",
   "metadata": {},
   "outputs": [
    {
     "data": {
      "text/plain": [
       "(-0.08455776818157834, 0.05018909123136702)"
      ]
     },
     "execution_count": 48,
     "metadata": {},
     "output_type": "execute_result"
    }
   ],
   "source": [
    "np.mean(cv_knn_best), np.std(cv_knn_best)"
   ]
  },
  {
   "cell_type": "code",
   "execution_count": 49,
   "id": "bcc729aa",
   "metadata": {},
   "outputs": [
    {
     "data": {
      "text/plain": [
       "-0.0671975895203889"
      ]
     },
     "execution_count": 49,
     "metadata": {},
     "output_type": "execute_result"
    }
   ],
   "source": [
    "r2_score(y_test, y_pred_knn_best)"
   ]
  },
  {
   "cell_type": "code",
   "execution_count": 50,
   "id": "25a645f5",
   "metadata": {},
   "outputs": [
    {
     "data": {
      "text/plain": [
       "0.39230040501039454"
      ]
     },
     "execution_count": 50,
     "metadata": {},
     "output_type": "execute_result"
    }
   ],
   "source": [
    "mean_absolute_error(y_test, y_pred_knn_best)"
   ]
  },
  {
   "cell_type": "markdown",
   "id": "f451801a",
   "metadata": {},
   "source": [
    "# Negative MAE Comparison  "
   ]
  },
  {
   "cell_type": "code",
   "execution_count": 110,
   "id": "18be1c07",
   "metadata": {},
   "outputs": [],
   "source": [
    "lr_neg_mae = cross_val_score(lr_grid_cv.best_estimator_, X_train, y_train, \n",
    "                            scoring='neg_mean_absolute_error', cv=5, n_jobs=-1)"
   ]
  },
  {
   "cell_type": "code",
   "execution_count": 112,
   "id": "28ee6f17",
   "metadata": {},
   "outputs": [
    {
     "data": {
      "text/plain": [
       "(0.37158586734444193, 0.008617294000506703)"
      ]
     },
     "execution_count": 112,
     "metadata": {},
     "output_type": "execute_result"
    }
   ],
   "source": [
    "lr_mae_mean = np.mean(-1 * lr_neg_mae)\n",
    "lr_mae_std = np.std(-1 * lr_neg_mae)\n",
    "lr_mae_mean, lr_mae_std"
   ]
  },
  {
   "cell_type": "code",
   "execution_count": 113,
   "id": "f5479469",
   "metadata": {},
   "outputs": [
    {
     "data": {
      "text/plain": [
       "0.3698981018126119"
      ]
     },
     "execution_count": 113,
     "metadata": {},
     "output_type": "execute_result"
    }
   ],
   "source": [
    "mean_absolute_error(y_test, lr_grid_cv.best_estimator_.predict(X_test))"
   ]
  },
  {
   "cell_type": "code",
   "execution_count": 115,
   "id": "91de610b",
   "metadata": {},
   "outputs": [],
   "source": [
    "rf_neg_mae = cross_val_score(rf_grid_cv.best_estimator_, X_train, y_train, \n",
    "                            scoring='neg_mean_absolute_error', cv=5, n_jobs=-1)"
   ]
  },
  {
   "cell_type": "code",
   "execution_count": 117,
   "id": "c9a052e9",
   "metadata": {},
   "outputs": [
    {
     "data": {
      "text/plain": [
       "(0.30983578016086244, 0.006057037247197408)"
      ]
     },
     "execution_count": 117,
     "metadata": {},
     "output_type": "execute_result"
    }
   ],
   "source": [
    "rf_mae_mean = np.mean(-1 * rf_neg_mae)\n",
    "rf_mae_std = np.std(-1 * rf_neg_mae)\n",
    "rf_mae_mean, rf_mae_std"
   ]
  },
  {
   "cell_type": "code",
   "execution_count": 118,
   "id": "f3f9eeaf",
   "metadata": {},
   "outputs": [
    {
     "data": {
      "text/plain": [
       "0.30410257379752836"
      ]
     },
     "execution_count": 118,
     "metadata": {},
     "output_type": "execute_result"
    }
   ],
   "source": [
    "mean_absolute_error(y_test, rf_grid_cv.best_estimator_.predict(X_test))"
   ]
  },
  {
   "cell_type": "code",
   "execution_count": 119,
   "id": "ea57e0aa",
   "metadata": {},
   "outputs": [],
   "source": [
    "knn_neg_mae = cross_val_score(model_best.best_estimator_, X_train, y_train, scoring = 'neg_mean_absolute_error', cv=5, n_jobs=-1)"
   ]
  },
  {
   "cell_type": "code",
   "execution_count": 120,
   "id": "c8686b6d",
   "metadata": {},
   "outputs": [
    {
     "data": {
      "text/plain": [
       "(0.3983651208024316, 0.008830209791589395)"
      ]
     },
     "execution_count": 120,
     "metadata": {},
     "output_type": "execute_result"
    }
   ],
   "source": [
    "knn_neg_mae_mean = np.mean(-1 * knn_neg_mae)\n",
    "knn_neg_mae_std = np.std(-1 * knn_neg_mae)\n",
    "knn_neg_mae_mean, knn_neg_mae_std"
   ]
  },
  {
   "cell_type": "code",
   "execution_count": 121,
   "id": "90921150",
   "metadata": {},
   "outputs": [
    {
     "data": {
      "text/plain": [
       "0.39230040501039454"
      ]
     },
     "execution_count": 121,
     "metadata": {},
     "output_type": "execute_result"
    }
   ],
   "source": [
    "mean_absolute_error(y_test,model_best.best_estimator_.predict(X_test))"
   ]
  },
  {
   "cell_type": "markdown",
   "id": "81dd017f",
   "metadata": {},
   "source": [
    "# Conclusion"
   ]
  },
  {
   "cell_type": "markdown",
   "id": "d7ece07c",
   "metadata": {},
   "source": [
    "After cross-validating and hyperparameter tuning with grid search CV on all three models, it appears that the best performing model in terms of mean absolute error is the Random Forest Regression model, as  it had the lowest MAE out of all models (0.30410257379752836),  and lowest variability (0.006057037247197408) after hyperparameter tuning. The Linear Regression model is the second best performing model, because it had a slightly higher MAE (0.3698981018126119) (but still lower than the KNN regression model) as well as variability (0.008617294000506703). The KNN Regression model was the worst performing with the highest MAE (0.39230040501039454) and highest variability (0.008830209791589395).\n",
    "\n",
    "Therefore, I will proceed with using the Random Forest Regression model."
   ]
  },
  {
   "cell_type": "code",
   "execution_count": 130,
   "id": "9b1aae64",
   "metadata": {},
   "outputs": [],
   "source": [
    "import joblib"
   ]
  },
  {
   "cell_type": "code",
   "execution_count": 133,
   "id": "8cce7ff2",
   "metadata": {},
   "outputs": [
    {
     "data": {
      "text/plain": [
       "['RF Regression Model for Price Prediction.sav']"
      ]
     },
     "execution_count": 133,
     "metadata": {},
     "output_type": "execute_result"
    }
   ],
   "source": [
    "model = rf_best\n",
    "filename = 'RF Regression Model for Price Prediction.sav'\n",
    "joblib.dump(model, filename)"
   ]
  },
  {
   "cell_type": "code",
   "execution_count": null,
   "id": "d283590d",
   "metadata": {},
   "outputs": [],
   "source": []
  }
 ],
 "metadata": {
  "kernelspec": {
   "display_name": "Python 3",
   "language": "python",
   "name": "python3"
  },
  "language_info": {
   "codemirror_mode": {
    "name": "ipython",
    "version": 3
   },
   "file_extension": ".py",
   "mimetype": "text/x-python",
   "name": "python",
   "nbconvert_exporter": "python",
   "pygments_lexer": "ipython3",
   "version": "3.8.8"
  }
 },
 "nbformat": 4,
 "nbformat_minor": 5
}
