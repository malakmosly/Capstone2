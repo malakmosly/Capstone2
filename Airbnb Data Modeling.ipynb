{
 "cells": [
  {
   "cell_type": "code",
   "execution_count": 1,
   "id": "d4481589",
   "metadata": {},
   "outputs": [],
   "source": [
    "#Linear Reg, KNN, RF Model\n",
    "#Cross Validation & MAE\n",
    "#Grid Search CV for hyperparameter tuning"
   ]
  },
  {
   "cell_type": "code",
   "execution_count": 2,
   "id": "d52b7f97",
   "metadata": {},
   "outputs": [],
   "source": [
    "import pandas as pd\n",
    "import numpy as np\n",
    "import matplotlib.pyplot as plt\n",
    "from sklearn.preprocessing import StandardScaler\n",
    "from sklearn.model_selection import train_test_split, cross_val_score, GridSearchCV\n",
    "from sklearn.linear_model import LinearRegression\n",
    "from sklearn.ensemble import RandomForestRegressor\n",
    "from sklearn.pipeline import make_pipeline\n",
    "from sklearn.neighbors import KNeighborsRegressor\n",
    "from sklearn.metrics import r2_score, mean_squared_error, mean_absolute_error\n",
    "from sklearn.feature_selection import SelectKBest, f_regression"
   ]
  },
  {
   "cell_type": "code",
   "execution_count": 3,
   "id": "a8e87705",
   "metadata": {},
   "outputs": [],
   "source": [
    "X = pd.read_csv(\"X Data.csv\")\n",
    "numeric_df = pd.read_csv('Numeric Data.csv')"
   ]
  },
  {
   "cell_type": "code",
   "execution_count": 4,
   "id": "f9462718",
   "metadata": {},
   "outputs": [
    {
     "data": {
      "text/html": [
       "<div>\n",
       "<style scoped>\n",
       "    .dataframe tbody tr th:only-of-type {\n",
       "        vertical-align: middle;\n",
       "    }\n",
       "\n",
       "    .dataframe tbody tr th {\n",
       "        vertical-align: top;\n",
       "    }\n",
       "\n",
       "    .dataframe thead th {\n",
       "        text-align: right;\n",
       "    }\n",
       "</style>\n",
       "<table border=\"1\" class=\"dataframe\">\n",
       "  <thead>\n",
       "    <tr style=\"text-align: right;\">\n",
       "      <th></th>\n",
       "      <th>Unnamed: 0</th>\n",
       "      <th>minimum_nights</th>\n",
       "      <th>number_of_reviews</th>\n",
       "      <th>reviews_per_month</th>\n",
       "      <th>calculated_host_listings_count</th>\n",
       "      <th>availability_365</th>\n",
       "      <th>DM_Hawaii</th>\n",
       "      <th>DM_Los Angeles</th>\n",
       "      <th>DM_New York City</th>\n",
       "      <th>DM_Rhode Island</th>\n",
       "      <th>DM_Seattle</th>\n",
       "      <th>DM_Entire home/apt</th>\n",
       "      <th>DM_Hotel room</th>\n",
       "      <th>DM_Private room</th>\n",
       "      <th>DM_Shared room</th>\n",
       "    </tr>\n",
       "  </thead>\n",
       "  <tbody>\n",
       "    <tr>\n",
       "      <th>0</th>\n",
       "      <td>0</td>\n",
       "      <td>1.805040</td>\n",
       "      <td>-0.405302</td>\n",
       "      <td>-0.877451</td>\n",
       "      <td>-0.009224</td>\n",
       "      <td>0.944019</td>\n",
       "      <td>1</td>\n",
       "      <td>0</td>\n",
       "      <td>0</td>\n",
       "      <td>0</td>\n",
       "      <td>0</td>\n",
       "      <td>1</td>\n",
       "      <td>0</td>\n",
       "      <td>0</td>\n",
       "      <td>0</td>\n",
       "    </tr>\n",
       "    <tr>\n",
       "      <th>1</th>\n",
       "      <td>1</td>\n",
       "      <td>-0.260837</td>\n",
       "      <td>0.021252</td>\n",
       "      <td>-0.660446</td>\n",
       "      <td>-0.204222</td>\n",
       "      <td>1.135798</td>\n",
       "      <td>1</td>\n",
       "      <td>0</td>\n",
       "      <td>0</td>\n",
       "      <td>0</td>\n",
       "      <td>0</td>\n",
       "      <td>1</td>\n",
       "      <td>0</td>\n",
       "      <td>0</td>\n",
       "      <td>0</td>\n",
       "    </tr>\n",
       "    <tr>\n",
       "      <th>2</th>\n",
       "      <td>2</td>\n",
       "      <td>-0.432994</td>\n",
       "      <td>0.362494</td>\n",
       "      <td>-0.674913</td>\n",
       "      <td>-0.399220</td>\n",
       "      <td>1.556235</td>\n",
       "      <td>1</td>\n",
       "      <td>0</td>\n",
       "      <td>0</td>\n",
       "      <td>0</td>\n",
       "      <td>0</td>\n",
       "      <td>1</td>\n",
       "      <td>0</td>\n",
       "      <td>0</td>\n",
       "      <td>0</td>\n",
       "    </tr>\n",
       "    <tr>\n",
       "      <th>3</th>\n",
       "      <td>3</td>\n",
       "      <td>-0.519072</td>\n",
       "      <td>0.362494</td>\n",
       "      <td>-0.284304</td>\n",
       "      <td>-0.399220</td>\n",
       "      <td>-0.619712</td>\n",
       "      <td>1</td>\n",
       "      <td>0</td>\n",
       "      <td>0</td>\n",
       "      <td>0</td>\n",
       "      <td>0</td>\n",
       "      <td>1</td>\n",
       "      <td>0</td>\n",
       "      <td>0</td>\n",
       "      <td>0</td>\n",
       "    </tr>\n",
       "    <tr>\n",
       "      <th>4</th>\n",
       "      <td>4</td>\n",
       "      <td>-0.174759</td>\n",
       "      <td>0.191873</td>\n",
       "      <td>-0.371106</td>\n",
       "      <td>0.575770</td>\n",
       "      <td>1.563611</td>\n",
       "      <td>1</td>\n",
       "      <td>0</td>\n",
       "      <td>0</td>\n",
       "      <td>0</td>\n",
       "      <td>0</td>\n",
       "      <td>1</td>\n",
       "      <td>0</td>\n",
       "      <td>0</td>\n",
       "      <td>0</td>\n",
       "    </tr>\n",
       "  </tbody>\n",
       "</table>\n",
       "</div>"
      ],
      "text/plain": [
       "   Unnamed: 0  minimum_nights  number_of_reviews  reviews_per_month  \\\n",
       "0           0        1.805040          -0.405302          -0.877451   \n",
       "1           1       -0.260837           0.021252          -0.660446   \n",
       "2           2       -0.432994           0.362494          -0.674913   \n",
       "3           3       -0.519072           0.362494          -0.284304   \n",
       "4           4       -0.174759           0.191873          -0.371106   \n",
       "\n",
       "   calculated_host_listings_count  availability_365  DM_Hawaii  \\\n",
       "0                       -0.009224          0.944019          1   \n",
       "1                       -0.204222          1.135798          1   \n",
       "2                       -0.399220          1.556235          1   \n",
       "3                       -0.399220         -0.619712          1   \n",
       "4                        0.575770          1.563611          1   \n",
       "\n",
       "   DM_Los Angeles  DM_New York City  DM_Rhode Island  DM_Seattle  \\\n",
       "0               0                 0                0           0   \n",
       "1               0                 0                0           0   \n",
       "2               0                 0                0           0   \n",
       "3               0                 0                0           0   \n",
       "4               0                 0                0           0   \n",
       "\n",
       "   DM_Entire home/apt  DM_Hotel room  DM_Private room  DM_Shared room  \n",
       "0                   1              0                0               0  \n",
       "1                   1              0                0               0  \n",
       "2                   1              0                0               0  \n",
       "3                   1              0                0               0  \n",
       "4                   1              0                0               0  "
      ]
     },
     "execution_count": 4,
     "metadata": {},
     "output_type": "execute_result"
    }
   ],
   "source": [
    "X.head()"
   ]
  },
  {
   "cell_type": "code",
   "execution_count": 5,
   "id": "8a3133e2",
   "metadata": {},
   "outputs": [],
   "source": [
    "X = X.drop(columns='Unnamed: 0')"
   ]
  },
  {
   "cell_type": "code",
   "execution_count": 6,
   "id": "5ef073c4",
   "metadata": {},
   "outputs": [
    {
     "data": {
      "text/html": [
       "<div>\n",
       "<style scoped>\n",
       "    .dataframe tbody tr th:only-of-type {\n",
       "        vertical-align: middle;\n",
       "    }\n",
       "\n",
       "    .dataframe tbody tr th {\n",
       "        vertical-align: top;\n",
       "    }\n",
       "\n",
       "    .dataframe thead th {\n",
       "        text-align: right;\n",
       "    }\n",
       "</style>\n",
       "<table border=\"1\" class=\"dataframe\">\n",
       "  <thead>\n",
       "    <tr style=\"text-align: right;\">\n",
       "      <th></th>\n",
       "      <th>minimum_nights</th>\n",
       "      <th>number_of_reviews</th>\n",
       "      <th>reviews_per_month</th>\n",
       "      <th>calculated_host_listings_count</th>\n",
       "      <th>availability_365</th>\n",
       "      <th>DM_Hawaii</th>\n",
       "      <th>DM_Los Angeles</th>\n",
       "      <th>DM_New York City</th>\n",
       "      <th>DM_Rhode Island</th>\n",
       "      <th>DM_Seattle</th>\n",
       "      <th>DM_Entire home/apt</th>\n",
       "      <th>DM_Hotel room</th>\n",
       "      <th>DM_Private room</th>\n",
       "      <th>DM_Shared room</th>\n",
       "    </tr>\n",
       "  </thead>\n",
       "  <tbody>\n",
       "    <tr>\n",
       "      <th>0</th>\n",
       "      <td>1.805040</td>\n",
       "      <td>-0.405302</td>\n",
       "      <td>-0.877451</td>\n",
       "      <td>-0.009224</td>\n",
       "      <td>0.944019</td>\n",
       "      <td>1</td>\n",
       "      <td>0</td>\n",
       "      <td>0</td>\n",
       "      <td>0</td>\n",
       "      <td>0</td>\n",
       "      <td>1</td>\n",
       "      <td>0</td>\n",
       "      <td>0</td>\n",
       "      <td>0</td>\n",
       "    </tr>\n",
       "    <tr>\n",
       "      <th>1</th>\n",
       "      <td>-0.260837</td>\n",
       "      <td>0.021252</td>\n",
       "      <td>-0.660446</td>\n",
       "      <td>-0.204222</td>\n",
       "      <td>1.135798</td>\n",
       "      <td>1</td>\n",
       "      <td>0</td>\n",
       "      <td>0</td>\n",
       "      <td>0</td>\n",
       "      <td>0</td>\n",
       "      <td>1</td>\n",
       "      <td>0</td>\n",
       "      <td>0</td>\n",
       "      <td>0</td>\n",
       "    </tr>\n",
       "    <tr>\n",
       "      <th>2</th>\n",
       "      <td>-0.432994</td>\n",
       "      <td>0.362494</td>\n",
       "      <td>-0.674913</td>\n",
       "      <td>-0.399220</td>\n",
       "      <td>1.556235</td>\n",
       "      <td>1</td>\n",
       "      <td>0</td>\n",
       "      <td>0</td>\n",
       "      <td>0</td>\n",
       "      <td>0</td>\n",
       "      <td>1</td>\n",
       "      <td>0</td>\n",
       "      <td>0</td>\n",
       "      <td>0</td>\n",
       "    </tr>\n",
       "    <tr>\n",
       "      <th>3</th>\n",
       "      <td>-0.519072</td>\n",
       "      <td>0.362494</td>\n",
       "      <td>-0.284304</td>\n",
       "      <td>-0.399220</td>\n",
       "      <td>-0.619712</td>\n",
       "      <td>1</td>\n",
       "      <td>0</td>\n",
       "      <td>0</td>\n",
       "      <td>0</td>\n",
       "      <td>0</td>\n",
       "      <td>1</td>\n",
       "      <td>0</td>\n",
       "      <td>0</td>\n",
       "      <td>0</td>\n",
       "    </tr>\n",
       "    <tr>\n",
       "      <th>4</th>\n",
       "      <td>-0.174759</td>\n",
       "      <td>0.191873</td>\n",
       "      <td>-0.371106</td>\n",
       "      <td>0.575770</td>\n",
       "      <td>1.563611</td>\n",
       "      <td>1</td>\n",
       "      <td>0</td>\n",
       "      <td>0</td>\n",
       "      <td>0</td>\n",
       "      <td>0</td>\n",
       "      <td>1</td>\n",
       "      <td>0</td>\n",
       "      <td>0</td>\n",
       "      <td>0</td>\n",
       "    </tr>\n",
       "  </tbody>\n",
       "</table>\n",
       "</div>"
      ],
      "text/plain": [
       "   minimum_nights  number_of_reviews  reviews_per_month  \\\n",
       "0        1.805040          -0.405302          -0.877451   \n",
       "1       -0.260837           0.021252          -0.660446   \n",
       "2       -0.432994           0.362494          -0.674913   \n",
       "3       -0.519072           0.362494          -0.284304   \n",
       "4       -0.174759           0.191873          -0.371106   \n",
       "\n",
       "   calculated_host_listings_count  availability_365  DM_Hawaii  \\\n",
       "0                       -0.009224          0.944019          1   \n",
       "1                       -0.204222          1.135798          1   \n",
       "2                       -0.399220          1.556235          1   \n",
       "3                       -0.399220         -0.619712          1   \n",
       "4                        0.575770          1.563611          1   \n",
       "\n",
       "   DM_Los Angeles  DM_New York City  DM_Rhode Island  DM_Seattle  \\\n",
       "0               0                 0                0           0   \n",
       "1               0                 0                0           0   \n",
       "2               0                 0                0           0   \n",
       "3               0                 0                0           0   \n",
       "4               0                 0                0           0   \n",
       "\n",
       "   DM_Entire home/apt  DM_Hotel room  DM_Private room  DM_Shared room  \n",
       "0                   1              0                0               0  \n",
       "1                   1              0                0               0  \n",
       "2                   1              0                0               0  \n",
       "3                   1              0                0               0  \n",
       "4                   1              0                0               0  "
      ]
     },
     "execution_count": 6,
     "metadata": {},
     "output_type": "execute_result"
    }
   ],
   "source": [
    "X.head()"
   ]
  },
  {
   "cell_type": "code",
   "execution_count": 7,
   "id": "9116536c",
   "metadata": {},
   "outputs": [
    {
     "data": {
      "text/plain": [
       "(62808, 14)"
      ]
     },
     "execution_count": 7,
     "metadata": {},
     "output_type": "execute_result"
    }
   ],
   "source": [
    "X.shape"
   ]
  },
  {
   "cell_type": "code",
   "execution_count": 8,
   "id": "eaf8107a",
   "metadata": {},
   "outputs": [
    {
     "data": {
      "text/plain": [
       "(6.108951607594908,\n",
       " 3.689612474415388,\n",
       " 2.9997064892032563,\n",
       " 5.938219243507531,\n",
       " 1.703756521029944)"
      ]
     },
     "execution_count": 8,
     "metadata": {},
     "output_type": "execute_result"
    }
   ],
   "source": [
    "X['minimum_nights'].max(), X['number_of_reviews'].max(), X['reviews_per_month'].max(), X['calculated_host_listings_count'].max(), X['availability_365'].max()"
   ]
  },
  {
   "cell_type": "code",
   "execution_count": 9,
   "id": "db3c26bc",
   "metadata": {},
   "outputs": [
    {
     "data": {
      "text/html": [
       "<div>\n",
       "<style scoped>\n",
       "    .dataframe tbody tr th:only-of-type {\n",
       "        vertical-align: middle;\n",
       "    }\n",
       "\n",
       "    .dataframe tbody tr th {\n",
       "        vertical-align: top;\n",
       "    }\n",
       "\n",
       "    .dataframe thead th {\n",
       "        text-align: right;\n",
       "    }\n",
       "</style>\n",
       "<table border=\"1\" class=\"dataframe\">\n",
       "  <thead>\n",
       "    <tr style=\"text-align: right;\">\n",
       "      <th></th>\n",
       "      <th>Unnamed: 0</th>\n",
       "      <th>price</th>\n",
       "      <th>minimum_nights</th>\n",
       "      <th>number_of_reviews</th>\n",
       "      <th>reviews_per_month</th>\n",
       "      <th>calculated_host_listings_count</th>\n",
       "      <th>availability_365</th>\n",
       "    </tr>\n",
       "  </thead>\n",
       "  <tbody>\n",
       "    <tr>\n",
       "      <th>0</th>\n",
       "      <td>0</td>\n",
       "      <td>124</td>\n",
       "      <td>30</td>\n",
       "      <td>10</td>\n",
       "      <td>0.09</td>\n",
       "      <td>5</td>\n",
       "      <td>261</td>\n",
       "    </tr>\n",
       "    <tr>\n",
       "      <th>1</th>\n",
       "      <td>1</td>\n",
       "      <td>239</td>\n",
       "      <td>6</td>\n",
       "      <td>20</td>\n",
       "      <td>0.24</td>\n",
       "      <td>3</td>\n",
       "      <td>287</td>\n",
       "    </tr>\n",
       "    <tr>\n",
       "      <th>2</th>\n",
       "      <td>2</td>\n",
       "      <td>120</td>\n",
       "      <td>4</td>\n",
       "      <td>28</td>\n",
       "      <td>0.23</td>\n",
       "      <td>1</td>\n",
       "      <td>344</td>\n",
       "    </tr>\n",
       "    <tr>\n",
       "      <th>3</th>\n",
       "      <td>3</td>\n",
       "      <td>120</td>\n",
       "      <td>3</td>\n",
       "      <td>28</td>\n",
       "      <td>0.50</td>\n",
       "      <td>1</td>\n",
       "      <td>49</td>\n",
       "    </tr>\n",
       "    <tr>\n",
       "      <th>4</th>\n",
       "      <td>4</td>\n",
       "      <td>221</td>\n",
       "      <td>7</td>\n",
       "      <td>24</td>\n",
       "      <td>0.44</td>\n",
       "      <td>11</td>\n",
       "      <td>345</td>\n",
       "    </tr>\n",
       "  </tbody>\n",
       "</table>\n",
       "</div>"
      ],
      "text/plain": [
       "   Unnamed: 0  price  minimum_nights  number_of_reviews  reviews_per_month  \\\n",
       "0           0    124              30                 10               0.09   \n",
       "1           1    239               6                 20               0.24   \n",
       "2           2    120               4                 28               0.23   \n",
       "3           3    120               3                 28               0.50   \n",
       "4           4    221               7                 24               0.44   \n",
       "\n",
       "   calculated_host_listings_count  availability_365  \n",
       "0                               5               261  \n",
       "1                               3               287  \n",
       "2                               1               344  \n",
       "3                               1                49  \n",
       "4                              11               345  "
      ]
     },
     "execution_count": 9,
     "metadata": {},
     "output_type": "execute_result"
    }
   ],
   "source": [
    "numeric_df.head()"
   ]
  },
  {
   "cell_type": "code",
   "execution_count": 10,
   "id": "534b8cfe",
   "metadata": {},
   "outputs": [],
   "source": [
    "numeric_df = numeric_df.drop(columns='Unnamed: 0')"
   ]
  },
  {
   "cell_type": "code",
   "execution_count": 11,
   "id": "ec14f73e",
   "metadata": {},
   "outputs": [
    {
     "data": {
      "text/html": [
       "<div>\n",
       "<style scoped>\n",
       "    .dataframe tbody tr th:only-of-type {\n",
       "        vertical-align: middle;\n",
       "    }\n",
       "\n",
       "    .dataframe tbody tr th {\n",
       "        vertical-align: top;\n",
       "    }\n",
       "\n",
       "    .dataframe thead th {\n",
       "        text-align: right;\n",
       "    }\n",
       "</style>\n",
       "<table border=\"1\" class=\"dataframe\">\n",
       "  <thead>\n",
       "    <tr style=\"text-align: right;\">\n",
       "      <th></th>\n",
       "      <th>price</th>\n",
       "      <th>minimum_nights</th>\n",
       "      <th>number_of_reviews</th>\n",
       "      <th>reviews_per_month</th>\n",
       "      <th>calculated_host_listings_count</th>\n",
       "      <th>availability_365</th>\n",
       "    </tr>\n",
       "  </thead>\n",
       "  <tbody>\n",
       "    <tr>\n",
       "      <th>0</th>\n",
       "      <td>124</td>\n",
       "      <td>30</td>\n",
       "      <td>10</td>\n",
       "      <td>0.09</td>\n",
       "      <td>5</td>\n",
       "      <td>261</td>\n",
       "    </tr>\n",
       "    <tr>\n",
       "      <th>1</th>\n",
       "      <td>239</td>\n",
       "      <td>6</td>\n",
       "      <td>20</td>\n",
       "      <td>0.24</td>\n",
       "      <td>3</td>\n",
       "      <td>287</td>\n",
       "    </tr>\n",
       "    <tr>\n",
       "      <th>2</th>\n",
       "      <td>120</td>\n",
       "      <td>4</td>\n",
       "      <td>28</td>\n",
       "      <td>0.23</td>\n",
       "      <td>1</td>\n",
       "      <td>344</td>\n",
       "    </tr>\n",
       "    <tr>\n",
       "      <th>3</th>\n",
       "      <td>120</td>\n",
       "      <td>3</td>\n",
       "      <td>28</td>\n",
       "      <td>0.50</td>\n",
       "      <td>1</td>\n",
       "      <td>49</td>\n",
       "    </tr>\n",
       "    <tr>\n",
       "      <th>4</th>\n",
       "      <td>221</td>\n",
       "      <td>7</td>\n",
       "      <td>24</td>\n",
       "      <td>0.44</td>\n",
       "      <td>11</td>\n",
       "      <td>345</td>\n",
       "    </tr>\n",
       "  </tbody>\n",
       "</table>\n",
       "</div>"
      ],
      "text/plain": [
       "   price  minimum_nights  number_of_reviews  reviews_per_month  \\\n",
       "0    124              30                 10               0.09   \n",
       "1    239               6                 20               0.24   \n",
       "2    120               4                 28               0.23   \n",
       "3    120               3                 28               0.50   \n",
       "4    221               7                 24               0.44   \n",
       "\n",
       "   calculated_host_listings_count  availability_365  \n",
       "0                               5               261  \n",
       "1                               3               287  \n",
       "2                               1               344  \n",
       "3                               1                49  \n",
       "4                              11               345  "
      ]
     },
     "execution_count": 11,
     "metadata": {},
     "output_type": "execute_result"
    }
   ],
   "source": [
    "numeric_df.head()"
   ]
  },
  {
   "cell_type": "code",
   "execution_count": 12,
   "id": "34bf6e2d",
   "metadata": {},
   "outputs": [
    {
     "data": {
      "text/plain": [
       "0        124\n",
       "1        239\n",
       "2        120\n",
       "3        120\n",
       "4        221\n",
       "        ... \n",
       "62803    100\n",
       "62804     79\n",
       "62805     79\n",
       "62806    200\n",
       "62807     35\n",
       "Name: price, Length: 62808, dtype: int64"
      ]
     },
     "execution_count": 12,
     "metadata": {},
     "output_type": "execute_result"
    }
   ],
   "source": [
    "y = numeric_df['price']\n",
    "y"
   ]
  },
  {
   "cell_type": "code",
   "execution_count": 13,
   "id": "1fe7d90c",
   "metadata": {},
   "outputs": [],
   "source": [
    "X_train, X_test, y_train, y_test= train_test_split(X, y, test_size=0.3, random_state=47)"
   ]
  },
  {
   "cell_type": "code",
   "execution_count": 14,
   "id": "a2430caa",
   "metadata": {},
   "outputs": [
    {
     "data": {
      "text/plain": [
       "((43965, 14), (18843, 14))"
      ]
     },
     "execution_count": 14,
     "metadata": {},
     "output_type": "execute_result"
    }
   ],
   "source": [
    "X_train.shape, X_test.shape"
   ]
  },
  {
   "cell_type": "code",
   "execution_count": 15,
   "id": "fadd83fc",
   "metadata": {},
   "outputs": [
    {
     "data": {
      "text/plain": [
       "((43965,), (18843,))"
      ]
     },
     "execution_count": 15,
     "metadata": {},
     "output_type": "execute_result"
    }
   ],
   "source": [
    "y_train.shape, y_test.shape"
   ]
  },
  {
   "cell_type": "code",
   "execution_count": 16,
   "id": "158b1255",
   "metadata": {},
   "outputs": [
    {
     "data": {
      "text/plain": [
       "minimum_nights                    float64\n",
       "number_of_reviews                 float64\n",
       "reviews_per_month                 float64\n",
       "calculated_host_listings_count    float64\n",
       "availability_365                  float64\n",
       "DM_Hawaii                           int64\n",
       "DM_Los Angeles                      int64\n",
       "DM_New York City                    int64\n",
       "DM_Rhode Island                     int64\n",
       "DM_Seattle                          int64\n",
       "DM_Entire home/apt                  int64\n",
       "DM_Hotel room                       int64\n",
       "DM_Private room                     int64\n",
       "DM_Shared room                      int64\n",
       "dtype: object"
      ]
     },
     "execution_count": 16,
     "metadata": {},
     "output_type": "execute_result"
    }
   ],
   "source": [
    "X_train.dtypes"
   ]
  },
  {
   "cell_type": "markdown",
   "id": "a19ee264",
   "metadata": {},
   "source": [
    "# First Model: Linear Regression"
   ]
  },
  {
   "cell_type": "code",
   "execution_count": 17,
   "id": "7a08d00f",
   "metadata": {},
   "outputs": [],
   "source": [
    "clm = LinearRegression()"
   ]
  },
  {
   "cell_type": "code",
   "execution_count": 18,
   "id": "fbe261cd",
   "metadata": {},
   "outputs": [
    {
     "data": {
      "text/plain": [
       "LinearRegression()"
      ]
     },
     "execution_count": 18,
     "metadata": {},
     "output_type": "execute_result"
    }
   ],
   "source": [
    "clm.fit(X_train, y_train)"
   ]
  },
  {
   "cell_type": "code",
   "execution_count": 19,
   "id": "f9bf9b1f",
   "metadata": {},
   "outputs": [],
   "source": [
    "y_train_pred = clm.predict(X_train)\n",
    "y_test_pred = clm.predict(X_test)"
   ]
  },
  {
   "cell_type": "markdown",
   "id": "bcda20b7",
   "metadata": {},
   "source": [
    "# Model Assessment"
   ]
  },
  {
   "cell_type": "code",
   "execution_count": 20,
   "id": "73b8c94d",
   "metadata": {},
   "outputs": [
    {
     "data": {
      "text/plain": [
       "(0.22606665920264324, 0.2137204238493403)"
      ]
     },
     "execution_count": 20,
     "metadata": {},
     "output_type": "execute_result"
    }
   ],
   "source": [
    "r2_score(y_train, y_train_pred), r2_score(y_test, y_test_pred)"
   ]
  },
  {
   "cell_type": "code",
   "execution_count": 21,
   "id": "af69301e",
   "metadata": {},
   "outputs": [
    {
     "data": {
      "text/plain": [
       "(76.44677051347664, 77.65315452024625)"
      ]
     },
     "execution_count": 21,
     "metadata": {},
     "output_type": "execute_result"
    }
   ],
   "source": [
    "mean_absolute_error(y_train, y_train_pred), mean_absolute_error(y_test, y_test_pred)"
   ]
  },
  {
   "cell_type": "code",
   "execution_count": 22,
   "id": "35b979b3",
   "metadata": {},
   "outputs": [
    {
     "data": {
      "text/plain": [
       "array([0.22888761, 0.21641506, 0.21932744, 0.23252398, 0.22939046])"
      ]
     },
     "execution_count": 22,
     "metadata": {},
     "output_type": "execute_result"
    }
   ],
   "source": [
    "cv_results = cross_val_score(clm, X_train, y_train, cv = 5)\n",
    "cv_results"
   ]
  },
  {
   "cell_type": "code",
   "execution_count": 23,
   "id": "44859ee2",
   "metadata": {},
   "outputs": [
    {
     "data": {
      "text/plain": [
       "(0.2253089087491394, 0.006267407884765781)"
      ]
     },
     "execution_count": 23,
     "metadata": {},
     "output_type": "execute_result"
    }
   ],
   "source": [
    "np.mean(cv_results), np.std(cv_results)"
   ]
  },
  {
   "cell_type": "code",
   "execution_count": 24,
   "id": "91ab7562",
   "metadata": {},
   "outputs": [
    {
     "data": {
      "text/plain": [
       "array([0.21, 0.24])"
      ]
     },
     "execution_count": 24,
     "metadata": {},
     "output_type": "execute_result"
    }
   ],
   "source": [
    "np.round((np.mean(cv_results) - 2 * np.std(cv_results), np.mean(cv_results) + 2 * np.std(cv_results)), 2)"
   ]
  },
  {
   "cell_type": "markdown",
   "id": "5dc6a005",
   "metadata": {},
   "source": [
    "# Hyperparameter tuning with GridSearchCV "
   ]
  },
  {
   "cell_type": "code",
   "execution_count": 25,
   "id": "618d3861",
   "metadata": {},
   "outputs": [],
   "source": [
    "pipe = make_pipeline(SelectKBest(f_regression, k='all'), LinearRegression())"
   ]
  },
  {
   "cell_type": "code",
   "execution_count": 26,
   "id": "45114ff5",
   "metadata": {},
   "outputs": [
    {
     "data": {
      "text/plain": [
       "Pipeline(steps=[('selectkbest',\n",
       "                 SelectKBest(k='all',\n",
       "                             score_func=<function f_regression at 0x000002132A1EF8B0>)),\n",
       "                ('linearregression', LinearRegression())])"
      ]
     },
     "execution_count": 26,
     "metadata": {},
     "output_type": "execute_result"
    }
   ],
   "source": [
    "pipe.fit(X_train, y_train)"
   ]
  },
  {
   "cell_type": "code",
   "execution_count": 27,
   "id": "92f4cdfe",
   "metadata": {},
   "outputs": [],
   "source": [
    "y_tr_pred = pipe.predict(X_train)\n",
    "y_te_pred = pipe.predict(X_test)"
   ]
  },
  {
   "cell_type": "code",
   "execution_count": 28,
   "id": "436442fd",
   "metadata": {},
   "outputs": [
    {
     "data": {
      "text/plain": [
       "(0.22606665920264324, 0.2137204238493403)"
      ]
     },
     "execution_count": 28,
     "metadata": {},
     "output_type": "execute_result"
    }
   ],
   "source": [
    "r2_score(y_train, y_tr_pred), r2_score(y_test, y_te_pred)"
   ]
  },
  {
   "cell_type": "code",
   "execution_count": 29,
   "id": "7a004774",
   "metadata": {},
   "outputs": [
    {
     "data": {
      "text/plain": [
       "(76.44677051347664, 77.65315452024625)"
      ]
     },
     "execution_count": 29,
     "metadata": {},
     "output_type": "execute_result"
    }
   ],
   "source": [
    "mean_absolute_error(y_train, y_tr_pred), mean_absolute_error(y_test, y_te_pred)"
   ]
  },
  {
   "cell_type": "code",
   "execution_count": 30,
   "id": "9a1dfca9",
   "metadata": {},
   "outputs": [
    {
     "name": "stdout",
     "output_type": "stream",
     "text": [
      "[0.22888761 0.21641506 0.21932744 0.23252398 0.22939046]\n"
     ]
    }
   ],
   "source": [
    "cv_results2 = cross_val_score(pipe, X_train, y_train, cv=5)\n",
    "print(cv_results2)"
   ]
  },
  {
   "cell_type": "code",
   "execution_count": 31,
   "id": "ead47193",
   "metadata": {},
   "outputs": [
    {
     "data": {
      "text/plain": [
       "(0.2253089087491394, 0.006267407884765781)"
      ]
     },
     "execution_count": 31,
     "metadata": {},
     "output_type": "execute_result"
    }
   ],
   "source": [
    "np.mean(cv_results2), np.std(cv_results2)"
   ]
  },
  {
   "cell_type": "code",
   "execution_count": 32,
   "id": "b5bd8e17",
   "metadata": {},
   "outputs": [
    {
     "data": {
      "text/plain": [
       "array([0.21, 0.24])"
      ]
     },
     "execution_count": 32,
     "metadata": {},
     "output_type": "execute_result"
    }
   ],
   "source": [
    "np.round((np.mean(cv_results2) - 2 * np.std(cv_results2), np.mean(cv_results2) + 2 * np.std(cv_results2)), 2)"
   ]
  },
  {
   "cell_type": "code",
   "execution_count": 33,
   "id": "f4fe3e34",
   "metadata": {},
   "outputs": [],
   "source": [
    "k  =[k+1 for k in range(len(X_train.columns))]\n",
    "params = {'selectkbest__k': k}"
   ]
  },
  {
   "cell_type": "code",
   "execution_count": 34,
   "id": "b2e4a4eb",
   "metadata": {},
   "outputs": [],
   "source": [
    "lr_grid_cv = GridSearchCV(pipe, param_grid = params, cv=5, n_jobs=-1)"
   ]
  },
  {
   "cell_type": "code",
   "execution_count": 35,
   "id": "49bd36d9",
   "metadata": {},
   "outputs": [
    {
     "data": {
      "text/plain": [
       "GridSearchCV(cv=5,\n",
       "             estimator=Pipeline(steps=[('selectkbest',\n",
       "                                        SelectKBest(k='all',\n",
       "                                                    score_func=<function f_regression at 0x000002132A1EF8B0>)),\n",
       "                                       ('linearregression',\n",
       "                                        LinearRegression())]),\n",
       "             n_jobs=-1,\n",
       "             param_grid={'selectkbest__k': [1, 2, 3, 4, 5, 6, 7, 8, 9, 10, 11,\n",
       "                                            12, 13, 14]})"
      ]
     },
     "execution_count": 35,
     "metadata": {},
     "output_type": "execute_result"
    }
   ],
   "source": [
    "lr_grid_cv.fit(X_train, y_train)"
   ]
  },
  {
   "cell_type": "code",
   "execution_count": 36,
   "id": "30784ade",
   "metadata": {},
   "outputs": [
    {
     "data": {
      "text/plain": [
       "{'selectkbest__k': 11}"
      ]
     },
     "execution_count": 36,
     "metadata": {},
     "output_type": "execute_result"
    }
   ],
   "source": [
    "lr_grid_cv.best_params_"
   ]
  },
  {
   "cell_type": "code",
   "execution_count": 37,
   "id": "cb0e1b42",
   "metadata": {},
   "outputs": [],
   "source": [
    "pipe_best = make_pipeline(SelectKBest(f_regression, k=11), LinearRegression())"
   ]
  },
  {
   "cell_type": "code",
   "execution_count": 38,
   "id": "85495e05",
   "metadata": {},
   "outputs": [],
   "source": [
    "pipe_best.fit(X_train, y_train)\n",
    "y_pr_lr = pipe_best.predict(X_test)"
   ]
  },
  {
   "cell_type": "code",
   "execution_count": 39,
   "id": "839569f2",
   "metadata": {},
   "outputs": [
    {
     "data": {
      "text/plain": [
       "0.21374880939563135"
      ]
     },
     "execution_count": 39,
     "metadata": {},
     "output_type": "execute_result"
    }
   ],
   "source": [
    "r2_score(y_test, y_pr_lr)"
   ]
  },
  {
   "cell_type": "code",
   "execution_count": 40,
   "id": "579528b9",
   "metadata": {},
   "outputs": [
    {
     "data": {
      "text/plain": [
       "77.61039022490115"
      ]
     },
     "execution_count": 40,
     "metadata": {},
     "output_type": "execute_result"
    }
   ],
   "source": [
    "mean_absolute_error(y_test, y_pr_lr)"
   ]
  },
  {
   "cell_type": "code",
   "execution_count": 41,
   "id": "09b943d6",
   "metadata": {},
   "outputs": [
    {
     "name": "stdout",
     "output_type": "stream",
     "text": [
      "[0.22870177 0.21665446 0.21910257 0.23219328 0.23030034]\n"
     ]
    }
   ],
   "source": [
    "cv_best = cross_val_score(pipe_best, X_train, y_train, cv=5)\n",
    "print(cv_best)"
   ]
  },
  {
   "cell_type": "code",
   "execution_count": 42,
   "id": "32fc2bb3",
   "metadata": {},
   "outputs": [
    {
     "data": {
      "text/plain": [
       "(0.2253904850989712, 0.0062802128779136344)"
      ]
     },
     "execution_count": 42,
     "metadata": {},
     "output_type": "execute_result"
    }
   ],
   "source": [
    "np.mean(cv_best), np.std(cv_best)"
   ]
  },
  {
   "cell_type": "code",
   "execution_count": 43,
   "id": "c1e2e01e",
   "metadata": {},
   "outputs": [
    {
     "data": {
      "text/plain": [
       "array([0.21, 0.24])"
      ]
     },
     "execution_count": 43,
     "metadata": {},
     "output_type": "execute_result"
    }
   ],
   "source": [
    "np.round((np.mean(cv_best) - 2 * np.std(cv_best), np.mean(cv_best) + 2 * np.std(cv_best)), 2)"
   ]
  },
  {
   "cell_type": "markdown",
   "id": "a1cace9c",
   "metadata": {},
   "source": [
    "# Most Useful Features"
   ]
  },
  {
   "cell_type": "code",
   "execution_count": 44,
   "id": "72c0455f",
   "metadata": {},
   "outputs": [],
   "source": [
    "selected = lr_grid_cv.best_estimator_.named_steps.selectkbest.get_support()"
   ]
  },
  {
   "cell_type": "code",
   "execution_count": 45,
   "id": "02900780",
   "metadata": {},
   "outputs": [
    {
     "data": {
      "text/plain": [
       "DM_Hotel room                     8.743701e+12\n",
       "DM_Entire home/apt                8.743701e+12\n",
       "DM_Private room                   8.743701e+12\n",
       "DM_Shared room                    8.743701e+12\n",
       "DM_Rhode Island                   7.990554e+01\n",
       "DM_Hawaii                         1.893011e+01\n",
       "availability_365                  1.542433e+01\n",
       "calculated_host_listings_count   -5.449229e-01\n",
       "minimum_nights                   -1.540934e+01\n",
       "reviews_per_month                -1.800401e+01\n",
       "DM_New York City                 -2.469727e+01\n",
       "dtype: float64"
      ]
     },
     "execution_count": 45,
     "metadata": {},
     "output_type": "execute_result"
    }
   ],
   "source": [
    "coefs = lr_grid_cv.best_estimator_.named_steps.linearregression.coef_\n",
    "features = X_train.columns[selected]\n",
    "pd.Series(coefs, index=features).sort_values(ascending=False)"
   ]
  },
  {
   "cell_type": "markdown",
   "id": "73bc4d0a",
   "metadata": {},
   "source": [
    "# Second Model: Random Forest Model"
   ]
  },
  {
   "cell_type": "code",
   "execution_count": 46,
   "id": "62186b34",
   "metadata": {},
   "outputs": [],
   "source": [
    "rf = RandomForestRegressor()\n",
    "rf.fit(X_train, y_train)\n",
    "\n",
    "y_pred_rf = rf.predict(X_test)"
   ]
  },
  {
   "cell_type": "markdown",
   "id": "d231f564",
   "metadata": {},
   "source": [
    "# Model Assessment"
   ]
  },
  {
   "cell_type": "code",
   "execution_count": 47,
   "id": "4de2e6d1",
   "metadata": {},
   "outputs": [
    {
     "name": "stdout",
     "output_type": "stream",
     "text": [
      "[0.25232439 0.24542321 0.26908937 0.25570136 0.25185234]\n"
     ]
    }
   ],
   "source": [
    "rf_cv_scores = cross_val_score(rf, X_train, y_train, cv=5)\n",
    "print(rf_cv_scores)"
   ]
  },
  {
   "cell_type": "code",
   "execution_count": 48,
   "id": "e54296b8",
   "metadata": {},
   "outputs": [
    {
     "data": {
      "text/plain": [
       "(0.25487813406745163, 0.007844864583508252)"
      ]
     },
     "execution_count": 48,
     "metadata": {},
     "output_type": "execute_result"
    }
   ],
   "source": [
    "np.mean(rf_cv_scores), np.std(rf_cv_scores)"
   ]
  },
  {
   "cell_type": "code",
   "execution_count": 49,
   "id": "e6e01f8c",
   "metadata": {},
   "outputs": [
    {
     "data": {
      "text/plain": [
       "0.24976315174136543"
      ]
     },
     "execution_count": 49,
     "metadata": {},
     "output_type": "execute_result"
    }
   ],
   "source": [
    "r2_score(y_test, y_pred_rf)"
   ]
  },
  {
   "cell_type": "code",
   "execution_count": 50,
   "id": "7f2140d3",
   "metadata": {},
   "outputs": [
    {
     "data": {
      "text/plain": [
       "75.78272987467379"
      ]
     },
     "execution_count": 50,
     "metadata": {},
     "output_type": "execute_result"
    }
   ],
   "source": [
    "mean_absolute_error(y_test, y_pred_rf)"
   ]
  },
  {
   "cell_type": "markdown",
   "id": "87790699",
   "metadata": {},
   "source": [
    "# Hyperparameter Tuning Using GridSearchCV "
   ]
  },
  {
   "cell_type": "code",
   "execution_count": 51,
   "id": "7ed2255f",
   "metadata": {},
   "outputs": [
    {
     "data": {
      "text/plain": [
       "dict_keys(['bootstrap', 'ccp_alpha', 'criterion', 'max_depth', 'max_features', 'max_leaf_nodes', 'max_samples', 'min_impurity_decrease', 'min_impurity_split', 'min_samples_leaf', 'min_samples_split', 'min_weight_fraction_leaf', 'n_estimators', 'n_jobs', 'oob_score', 'random_state', 'verbose', 'warm_start'])"
      ]
     },
     "execution_count": 51,
     "metadata": {},
     "output_type": "execute_result"
    }
   ],
   "source": [
    "rf.get_params().keys()"
   ]
  },
  {
   "cell_type": "code",
   "execution_count": 52,
   "id": "0ec7113e",
   "metadata": {},
   "outputs": [
    {
     "data": {
      "text/plain": [
       "{'n_estimators': [10,\n",
       "  12,\n",
       "  16,\n",
       "  20,\n",
       "  26,\n",
       "  33,\n",
       "  42,\n",
       "  54,\n",
       "  69,\n",
       "  88,\n",
       "  112,\n",
       "  143,\n",
       "  183,\n",
       "  233,\n",
       "  297,\n",
       "  379,\n",
       "  483,\n",
       "  615,\n",
       "  784,\n",
       "  1000]}"
      ]
     },
     "execution_count": 52,
     "metadata": {},
     "output_type": "execute_result"
    }
   ],
   "source": [
    "n_est = [int(n) for n in np.logspace(start=1, stop=3, num=20)]\n",
    "grid_params = {'n_estimators' : n_est}\n",
    "grid_params"
   ]
  },
  {
   "cell_type": "code",
   "execution_count": 53,
   "id": "5dcb41cf",
   "metadata": {},
   "outputs": [
    {
     "data": {
      "text/plain": [
       "GridSearchCV(cv=5, estimator=RandomForestRegressor(), n_jobs=-1,\n",
       "             param_grid={'n_estimators': [10, 12, 16, 20, 26, 33, 42, 54, 69,\n",
       "                                          88, 112, 143, 183, 233, 297, 379, 483,\n",
       "                                          615, 784, 1000]})"
      ]
     },
     "execution_count": 53,
     "metadata": {},
     "output_type": "execute_result"
    }
   ],
   "source": [
    "rf_grid_cv = GridSearchCV(rf, param_grid = grid_params, cv=5, n_jobs=-1)\n",
    "rf_grid_cv.fit(X_train, y_train)"
   ]
  },
  {
   "cell_type": "code",
   "execution_count": 54,
   "id": "61a4301a",
   "metadata": {},
   "outputs": [
    {
     "name": "stdout",
     "output_type": "stream",
     "text": [
      "RandomForestRegressor(n_estimators=784)\n",
      "{'n_estimators': 784}\n"
     ]
    }
   ],
   "source": [
    "print(rf_grid_cv.best_estimator_)\n",
    "print(rf_grid_cv.best_params_)"
   ]
  },
  {
   "cell_type": "code",
   "execution_count": 55,
   "id": "af89a09f",
   "metadata": {},
   "outputs": [],
   "source": [
    "rf_best = RandomForestRegressor(n_estimators=784)\n",
    "rf_best.fit(X_train, y_train)\n",
    "y_pr_best_rf = rf_best.predict(X_test)"
   ]
  },
  {
   "cell_type": "code",
   "execution_count": 56,
   "id": "797e7256",
   "metadata": {},
   "outputs": [
    {
     "name": "stdout",
     "output_type": "stream",
     "text": [
      "[0.26023151 0.24966745 0.27697864 0.26463312 0.25956181]\n"
     ]
    }
   ],
   "source": [
    "cv_rf_best = cross_val_score(rf_best, X_train, y_train, cv=5)\n",
    "print(cv_rf_best)"
   ]
  },
  {
   "cell_type": "code",
   "execution_count": 57,
   "id": "a1f53ef0",
   "metadata": {},
   "outputs": [
    {
     "data": {
      "text/plain": [
       "(0.2622145059763835, 0.00885694059219166)"
      ]
     },
     "execution_count": 57,
     "metadata": {},
     "output_type": "execute_result"
    }
   ],
   "source": [
    "np.mean(cv_rf_best), np.std(cv_rf_best)"
   ]
  },
  {
   "cell_type": "code",
   "execution_count": 58,
   "id": "bdedce8f",
   "metadata": {},
   "outputs": [
    {
     "data": {
      "text/plain": [
       "75.46548364324578"
      ]
     },
     "execution_count": 58,
     "metadata": {},
     "output_type": "execute_result"
    }
   ],
   "source": [
    "mean_absolute_error(y_test, y_pr_best_rf)"
   ]
  },
  {
   "cell_type": "markdown",
   "id": "7c3065fa",
   "metadata": {},
   "source": [
    "# Model 3: KNN Regression"
   ]
  },
  {
   "cell_type": "code",
   "execution_count": 59,
   "id": "bcdf2407",
   "metadata": {},
   "outputs": [
    {
     "name": "stdout",
     "output_type": "stream",
     "text": [
      "RMSE value for k=  1 is: 162.0538339533371\n",
      "RMSE value for k=  2 is: 141.2573034905375\n",
      "RMSE value for k=  3 is: 133.19471619511233\n",
      "RMSE value for k=  4 is: 129.330101004645\n",
      "RMSE value for k=  5 is: 127.44250413880215\n",
      "RMSE value for k=  6 is: 125.62474429108765\n",
      "RMSE value for k=  7 is: 124.79720785098571\n",
      "RMSE value for k=  8 is: 124.15166203870416\n",
      "RMSE value for k=  9 is: 123.74381033500728\n",
      "RMSE value for k=  10 is: 123.24657954924571\n",
      "RMSE value for k=  11 is: 122.73871809665161\n",
      "RMSE value for k=  12 is: 122.60359255952186\n",
      "RMSE value for k=  13 is: 122.42149856398328\n",
      "RMSE value for k=  14 is: 122.29304466993923\n",
      "RMSE value for k=  15 is: 122.20395132347582\n",
      "RMSE value for k=  16 is: 122.17815485976335\n",
      "RMSE value for k=  17 is: 122.19458423056838\n",
      "RMSE value for k=  18 is: 122.15329688136303\n",
      "RMSE value for k=  19 is: 122.01099283095644\n",
      "RMSE value for k=  20 is: 121.98263778866567\n"
     ]
    }
   ],
   "source": [
    "rmse_val = []\n",
    "for K in range(20):\n",
    "    K= K+1\n",
    "    model = KNeighborsRegressor(n_neighbors=K)\n",
    "    \n",
    "    model.fit(X_train, y_train)\n",
    "    y_pred_knn = model.predict(X_test)\n",
    "    error = np.sqrt(mean_squared_error(y_test, y_pred_knn))\n",
    "    rmse_val.append(error)\n",
    "    print('RMSE value for k= ', K, 'is:', error)"
   ]
  },
  {
   "cell_type": "code",
   "execution_count": 60,
   "id": "34212e1a",
   "metadata": {},
   "outputs": [
    {
     "data": {
      "text/plain": [
       "Text(0.5, 1.0, 'Elbow Curve')"
      ]
     },
     "execution_count": 60,
     "metadata": {},
     "output_type": "execute_result"
    },
    {
     "data": {
      "image/png": "[encoded data removed]",
      "text/plain": [
       "<Figure size 432x288 with 1 Axes>"
      ]
     },
     "metadata": {
      "needs_background": "light"
     },
     "output_type": "display_data"
    }
   ],
   "source": [
    "elbow_curve = pd.DataFrame(rmse_val)\n",
    "elbow_curve.plot()\n",
    "plt.xlabel('K')\n",
    "plt.ylabel('RMSE')\n",
    "plt.title('Elbow Curve')"
   ]
  },
  {
   "cell_type": "markdown",
   "id": "6838067b",
   "metadata": {},
   "source": [
    "# Hyperparameter tuning with GridSearchCV"
   ]
  },
  {
   "cell_type": "code",
   "execution_count": 61,
   "id": "9dc6b903",
   "metadata": {},
   "outputs": [
    {
     "name": "stdout",
     "output_type": "stream",
     "text": [
      "KNeighborsRegressor(n_neighbors=9)\n"
     ]
    }
   ],
   "source": [
    "grid_params = {'n_neighbors' : [2,3,4,5,6,7,8,9]}\n",
    "knn = KNeighborsRegressor()\n",
    "model_best = GridSearchCV(knn, grid_params, cv=5)\n",
    "model_best.fit(X_train, y_train)\n",
    "y_pred_knn_best = model_best.predict(X_test)\n",
    "print(model_best.best_estimator_)"
   ]
  },
  {
   "cell_type": "code",
   "execution_count": 62,
   "id": "d135d3bb",
   "metadata": {},
   "outputs": [
    {
     "name": "stdout",
     "output_type": "stream",
     "text": [
      "[0.23966949 0.23106555 0.24534362 0.26298744 0.24357992]\n"
     ]
    }
   ],
   "source": [
    "cv_knn_best = cross_val_score(model_best, X_train, y_train, cv=5)\n",
    "print(cv_knn_best)"
   ]
  },
  {
   "cell_type": "code",
   "execution_count": 63,
   "id": "7ce6f151",
   "metadata": {},
   "outputs": [
    {
     "data": {
      "text/plain": [
       "(0.2445292055804164, 0.010460952259506785)"
      ]
     },
     "execution_count": 63,
     "metadata": {},
     "output_type": "execute_result"
    }
   ],
   "source": [
    "np.mean(cv_knn_best), np.std(cv_knn_best)"
   ]
  },
  {
   "cell_type": "code",
   "execution_count": 64,
   "id": "bcc729aa",
   "metadata": {},
   "outputs": [
    {
     "data": {
      "text/plain": [
       "0.24143717120522545"
      ]
     },
     "execution_count": 64,
     "metadata": {},
     "output_type": "execute_result"
    }
   ],
   "source": [
    "r2_score(y_test, y_pred_knn_best)"
   ]
  },
  {
   "cell_type": "code",
   "execution_count": 65,
   "id": "25a645f5",
   "metadata": {},
   "outputs": [
    {
     "data": {
      "text/plain": [
       "75.19802815074269"
      ]
     },
     "execution_count": 65,
     "metadata": {},
     "output_type": "execute_result"
    }
   ],
   "source": [
    "mean_absolute_error(y_test, y_pred_knn_best)"
   ]
  },
  {
   "cell_type": "markdown",
   "id": "f451801a",
   "metadata": {},
   "source": [
    "# Negative MAE Comparison  "
   ]
  },
  {
   "cell_type": "code",
   "execution_count": 66,
   "id": "18be1c07",
   "metadata": {},
   "outputs": [],
   "source": [
    "lr_neg_mae = cross_val_score(lr_grid_cv.best_estimator_, X_train, y_train, \n",
    "                            scoring='neg_mean_absolute_error', cv=5, n_jobs=-1)"
   ]
  },
  {
   "cell_type": "code",
   "execution_count": 67,
   "id": "28ee6f17",
   "metadata": {},
   "outputs": [
    {
     "data": {
      "text/plain": [
       "(76.43752416139792, 1.4025418878368279)"
      ]
     },
     "execution_count": 67,
     "metadata": {},
     "output_type": "execute_result"
    }
   ],
   "source": [
    "lr_mae_mean = np.mean(-1 * lr_neg_mae)\n",
    "lr_mae_std = np.std(-1 * lr_neg_mae)\n",
    "lr_mae_mean, lr_mae_std"
   ]
  },
  {
   "cell_type": "code",
   "execution_count": 68,
   "id": "f5479469",
   "metadata": {},
   "outputs": [
    {
     "data": {
      "text/plain": [
       "77.61039022490115"
      ]
     },
     "execution_count": 68,
     "metadata": {},
     "output_type": "execute_result"
    }
   ],
   "source": [
    "mean_absolute_error(y_test, lr_grid_cv.best_estimator_.predict(X_test))"
   ]
  },
  {
   "cell_type": "code",
   "execution_count": 69,
   "id": "91de610b",
   "metadata": {},
   "outputs": [],
   "source": [
    "rf_neg_mae = cross_val_score(rf_grid_cv.best_estimator_, X_train, y_train, \n",
    "                            scoring='neg_mean_absolute_error', cv=5, n_jobs=-1)"
   ]
  },
  {
   "cell_type": "code",
   "execution_count": 70,
   "id": "c9a052e9",
   "metadata": {},
   "outputs": [
    {
     "data": {
      "text/plain": [
       "(74.37821569438627, 1.176834812403658)"
      ]
     },
     "execution_count": 70,
     "metadata": {},
     "output_type": "execute_result"
    }
   ],
   "source": [
    "rf_mae_mean = np.mean(-1 * rf_neg_mae)\n",
    "rf_mae_std = np.std(-1 * rf_neg_mae)\n",
    "rf_mae_mean, rf_mae_std"
   ]
  },
  {
   "cell_type": "code",
   "execution_count": 71,
   "id": "f3f9eeaf",
   "metadata": {},
   "outputs": [
    {
     "data": {
      "text/plain": [
       "75.44486080937034"
      ]
     },
     "execution_count": 71,
     "metadata": {},
     "output_type": "execute_result"
    }
   ],
   "source": [
    "mean_absolute_error(y_test, rf_grid_cv.best_estimator_.predict(X_test))"
   ]
  },
  {
   "cell_type": "code",
   "execution_count": 72,
   "id": "ea57e0aa",
   "metadata": {},
   "outputs": [],
   "source": [
    "knn_neg_mae = cross_val_score(model_best.best_estimator_, X_train, y_train, scoring = 'neg_mean_absolute_error', cv=5, n_jobs=-1)"
   ]
  },
  {
   "cell_type": "code",
   "execution_count": 73,
   "id": "c8686b6d",
   "metadata": {},
   "outputs": [
    {
     "data": {
      "text/plain": [
       "(74.26767757180585, 1.5874809911033392)"
      ]
     },
     "execution_count": 73,
     "metadata": {},
     "output_type": "execute_result"
    }
   ],
   "source": [
    "knn_neg_mae_mean = np.mean(-1 * knn_neg_mae)\n",
    "knn_neg_mae_std = np.std(-1 * knn_neg_mae)\n",
    "knn_neg_mae_mean, knn_neg_mae_std"
   ]
  },
  {
   "cell_type": "code",
   "execution_count": 74,
   "id": "90921150",
   "metadata": {},
   "outputs": [
    {
     "data": {
      "text/plain": [
       "75.19802815074269"
      ]
     },
     "execution_count": 74,
     "metadata": {},
     "output_type": "execute_result"
    }
   ],
   "source": [
    "mean_absolute_error(y_test,model_best.best_estimator_.predict(X_test))"
   ]
  },
  {
   "cell_type": "code",
   "execution_count": 75,
   "id": "db0d0adf",
   "metadata": {},
   "outputs": [
    {
     "data": {
      "text/plain": [
       "157.8596038721182"
      ]
     },
     "execution_count": 75,
     "metadata": {},
     "output_type": "execute_result"
    }
   ],
   "source": [
    "y.mean()"
   ]
  },
  {
   "cell_type": "markdown",
   "id": "81dd017f",
   "metadata": {},
   "source": [
    "# Conclusion"
   ]
  },
  {
   "cell_type": "markdown",
   "id": "d7ece07c",
   "metadata": {},
   "source": [
    "After cross-validating and hyperparameter tuning with grid search CV on all three models, it appears that the best performing model in terms of mean absolute error is the KNN Regression Model, as  it had the lowest MAE out of all models (75.2),  but the highest variability (1.59) after hyperparameter tuning. The Random Forest Regression model is the second best performing model, because it had a slightly higher MAE (75.44) (but still lower than the Linear Regression Model), although it had the lowest variability (1.18). The Linear Regression model was the worst performing with the highest MAE (77.61), and second lowest variability out of all 3 models (1.40). \n",
    "\n",
    "The results suggest that the KNN model was more accurate than the RF model by about 0.25 dollars, and more accurate than the Linear Regression model by 2.4 dollars. The KNN is the best performing in terms of price predictions.\n",
    "All three models peform better than predicting price by simply taking its mean, which is $157.86. Additionally, the differences in accuracy across models were not very large.\n",
    "\n",
    "The Random Forest Regression model and KNN model were very close in terms of MAE, but the RF model showed that it could predict prices with less variability in its predictions by a significant amount, since the MAE standard deviation for the RF model was lower by 0.41. It is hard to conclude, without doing further tunings on the models, which is best, but considering the bias-variability trade-off, I would suggest going with the RF Model over the KNN Model; I believe it will be more accurate in its predicitions, especially if we want to use the models on a much larger dataset of airbnb listings. The RF model would scale better than the KNN model with more data.\n",
    "\n",
    "It is also important to note that the most useful feature revealed by the Linear Regression Model to predict price was the type of room (hotel room), and that it was in Rhode Island in terms of city location, and then the availability of any given listing (regardless of room type or city location) throughout the year."
   ]
  },
  {
   "cell_type": "code",
   "execution_count": 76,
   "id": "9b1aae64",
   "metadata": {},
   "outputs": [],
   "source": [
    "import joblib"
   ]
  },
  {
   "cell_type": "code",
   "execution_count": 77,
   "id": "8cce7ff2",
   "metadata": {},
   "outputs": [
    {
     "data": {
      "text/plain": [
       "['RF Model.sav']"
      ]
     },
     "execution_count": 77,
     "metadata": {},
     "output_type": "execute_result"
    }
   ],
   "source": [
    "model = rf_best\n",
    "filename = 'RF Model.sav'\n",
    "joblib.dump(model, filename)"
   ]
  },
  {
   "cell_type": "code",
   "execution_count": null,
   "id": "f64d7381",
   "metadata": {},
   "outputs": [],
   "source": []
  }
 ],
 "metadata": {
  "kernelspec": {
   "display_name": "Python 3",
   "language": "python",
   "name": "python3"
  },
  "language_info": {
   "codemirror_mode": {
    "name": "ipython",
    "version": 3
   },
   "file_extension": ".py",
   "mimetype": "text/x-python",
   "name": "python",
   "nbconvert_exporter": "python",
   "pygments_lexer": "ipython3",
   "version": "3.8.8"
  }
 },
 "nbformat": 4,
 "nbformat_minor": 5
}
